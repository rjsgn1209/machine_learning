{
 "cells": [
  {
   "cell_type": "code",
   "execution_count": 1,
   "id": "9b17a937",
   "metadata": {},
   "outputs": [],
   "source": [
    "### 차원축소\n",
    "\n",
    "# 고차원데이터(변수가 많은, 칼럼이 많은)의 경우, 학습이 어려울 수 있다(과적합), 연산하는데\n",
    "# 비용이 많이든다.. 시각화가 어렵다..\n",
    "\n",
    "# 고차원데이터 => 저차원으로 변형..\n",
    "\n",
    "# 학습이 효율적이다\n",
    "# 학습에 비용이 적게 든다(메모리, 시간)\n",
    "# 시각화해서 분석이 용이하다\n",
    "\n",
    "# PCA, LDA, t-sne..."
   ]
  },
  {
   "cell_type": "code",
   "execution_count": null,
   "id": "c602ba9e",
   "metadata": {},
   "outputs": [],
   "source": []
  },
  {
   "cell_type": "code",
   "execution_count": 58,
   "id": "5e303469",
   "metadata": {},
   "outputs": [],
   "source": [
    "import pandas as pd\n",
    "import numpy as np\n",
    "import matplotlib.pyplot as plt\n",
    "import seaborn as sns"
   ]
  },
  {
   "cell_type": "code",
   "execution_count": null,
   "id": "13af7fe3",
   "metadata": {},
   "outputs": [],
   "source": []
  },
  {
   "cell_type": "code",
   "execution_count": 59,
   "id": "3d73232a",
   "metadata": {},
   "outputs": [],
   "source": [
    "from sklearn.datasets import load_digits\n",
    "digits = load_digits()"
   ]
  },
  {
   "cell_type": "code",
   "execution_count": 60,
   "id": "20492bcf",
   "metadata": {},
   "outputs": [
    {
     "data": {
      "text/plain": [
       "{'data': array([[ 0.,  0.,  5., ...,  0.,  0.,  0.],\n",
       "        [ 0.,  0.,  0., ..., 10.,  0.,  0.],\n",
       "        [ 0.,  0.,  0., ..., 16.,  9.,  0.],\n",
       "        ...,\n",
       "        [ 0.,  0.,  1., ...,  6.,  0.,  0.],\n",
       "        [ 0.,  0.,  2., ..., 12.,  0.,  0.],\n",
       "        [ 0.,  0., 10., ..., 12.,  1.,  0.]]),\n",
       " 'target': array([0, 1, 2, ..., 8, 9, 8]),\n",
       " 'frame': None,\n",
       " 'feature_names': ['pixel_0_0',\n",
       "  'pixel_0_1',\n",
       "  'pixel_0_2',\n",
       "  'pixel_0_3',\n",
       "  'pixel_0_4',\n",
       "  'pixel_0_5',\n",
       "  'pixel_0_6',\n",
       "  'pixel_0_7',\n",
       "  'pixel_1_0',\n",
       "  'pixel_1_1',\n",
       "  'pixel_1_2',\n",
       "  'pixel_1_3',\n",
       "  'pixel_1_4',\n",
       "  'pixel_1_5',\n",
       "  'pixel_1_6',\n",
       "  'pixel_1_7',\n",
       "  'pixel_2_0',\n",
       "  'pixel_2_1',\n",
       "  'pixel_2_2',\n",
       "  'pixel_2_3',\n",
       "  'pixel_2_4',\n",
       "  'pixel_2_5',\n",
       "  'pixel_2_6',\n",
       "  'pixel_2_7',\n",
       "  'pixel_3_0',\n",
       "  'pixel_3_1',\n",
       "  'pixel_3_2',\n",
       "  'pixel_3_3',\n",
       "  'pixel_3_4',\n",
       "  'pixel_3_5',\n",
       "  'pixel_3_6',\n",
       "  'pixel_3_7',\n",
       "  'pixel_4_0',\n",
       "  'pixel_4_1',\n",
       "  'pixel_4_2',\n",
       "  'pixel_4_3',\n",
       "  'pixel_4_4',\n",
       "  'pixel_4_5',\n",
       "  'pixel_4_6',\n",
       "  'pixel_4_7',\n",
       "  'pixel_5_0',\n",
       "  'pixel_5_1',\n",
       "  'pixel_5_2',\n",
       "  'pixel_5_3',\n",
       "  'pixel_5_4',\n",
       "  'pixel_5_5',\n",
       "  'pixel_5_6',\n",
       "  'pixel_5_7',\n",
       "  'pixel_6_0',\n",
       "  'pixel_6_1',\n",
       "  'pixel_6_2',\n",
       "  'pixel_6_3',\n",
       "  'pixel_6_4',\n",
       "  'pixel_6_5',\n",
       "  'pixel_6_6',\n",
       "  'pixel_6_7',\n",
       "  'pixel_7_0',\n",
       "  'pixel_7_1',\n",
       "  'pixel_7_2',\n",
       "  'pixel_7_3',\n",
       "  'pixel_7_4',\n",
       "  'pixel_7_5',\n",
       "  'pixel_7_6',\n",
       "  'pixel_7_7'],\n",
       " 'target_names': array([0, 1, 2, 3, 4, 5, 6, 7, 8, 9]),\n",
       " 'images': array([[[ 0.,  0.,  5., ...,  1.,  0.,  0.],\n",
       "         [ 0.,  0., 13., ..., 15.,  5.,  0.],\n",
       "         [ 0.,  3., 15., ..., 11.,  8.,  0.],\n",
       "         ...,\n",
       "         [ 0.,  4., 11., ..., 12.,  7.,  0.],\n",
       "         [ 0.,  2., 14., ..., 12.,  0.,  0.],\n",
       "         [ 0.,  0.,  6., ...,  0.,  0.,  0.]],\n",
       " \n",
       "        [[ 0.,  0.,  0., ...,  5.,  0.,  0.],\n",
       "         [ 0.,  0.,  0., ...,  9.,  0.,  0.],\n",
       "         [ 0.,  0.,  3., ...,  6.,  0.,  0.],\n",
       "         ...,\n",
       "         [ 0.,  0.,  1., ...,  6.,  0.,  0.],\n",
       "         [ 0.,  0.,  1., ...,  6.,  0.,  0.],\n",
       "         [ 0.,  0.,  0., ..., 10.,  0.,  0.]],\n",
       " \n",
       "        [[ 0.,  0.,  0., ..., 12.,  0.,  0.],\n",
       "         [ 0.,  0.,  3., ..., 14.,  0.,  0.],\n",
       "         [ 0.,  0.,  8., ..., 16.,  0.,  0.],\n",
       "         ...,\n",
       "         [ 0.,  9., 16., ...,  0.,  0.,  0.],\n",
       "         [ 0.,  3., 13., ..., 11.,  5.,  0.],\n",
       "         [ 0.,  0.,  0., ..., 16.,  9.,  0.]],\n",
       " \n",
       "        ...,\n",
       " \n",
       "        [[ 0.,  0.,  1., ...,  1.,  0.,  0.],\n",
       "         [ 0.,  0., 13., ...,  2.,  1.,  0.],\n",
       "         [ 0.,  0., 16., ..., 16.,  5.,  0.],\n",
       "         ...,\n",
       "         [ 0.,  0., 16., ..., 15.,  0.,  0.],\n",
       "         [ 0.,  0., 15., ..., 16.,  0.,  0.],\n",
       "         [ 0.,  0.,  2., ...,  6.,  0.,  0.]],\n",
       " \n",
       "        [[ 0.,  0.,  2., ...,  0.,  0.,  0.],\n",
       "         [ 0.,  0., 14., ..., 15.,  1.,  0.],\n",
       "         [ 0.,  4., 16., ..., 16.,  7.,  0.],\n",
       "         ...,\n",
       "         [ 0.,  0.,  0., ..., 16.,  2.,  0.],\n",
       "         [ 0.,  0.,  4., ..., 16.,  2.,  0.],\n",
       "         [ 0.,  0.,  5., ..., 12.,  0.,  0.]],\n",
       " \n",
       "        [[ 0.,  0., 10., ...,  1.,  0.,  0.],\n",
       "         [ 0.,  2., 16., ...,  1.,  0.,  0.],\n",
       "         [ 0.,  0., 15., ..., 15.,  0.,  0.],\n",
       "         ...,\n",
       "         [ 0.,  4., 16., ..., 16.,  6.,  0.],\n",
       "         [ 0.,  8., 16., ..., 16.,  8.,  0.],\n",
       "         [ 0.,  1.,  8., ..., 12.,  1.,  0.]]]),\n",
       " 'DESCR': \".. _digits_dataset:\\n\\nOptical recognition of handwritten digits dataset\\n--------------------------------------------------\\n\\n**Data Set Characteristics:**\\n\\n    :Number of Instances: 1797\\n    :Number of Attributes: 64\\n    :Attribute Information: 8x8 image of integer pixels in the range 0..16.\\n    :Missing Attribute Values: None\\n    :Creator: E. Alpaydin (alpaydin '@' boun.edu.tr)\\n    :Date: July; 1998\\n\\nThis is a copy of the test set of the UCI ML hand-written digits datasets\\nhttps://archive.ics.uci.edu/ml/datasets/Optical+Recognition+of+Handwritten+Digits\\n\\nThe data set contains images of hand-written digits: 10 classes where\\neach class refers to a digit.\\n\\nPreprocessing programs made available by NIST were used to extract\\nnormalized bitmaps of handwritten digits from a preprinted form. From a\\ntotal of 43 people, 30 contributed to the training set and different 13\\nto the test set. 32x32 bitmaps are divided into nonoverlapping blocks of\\n4x4 and the number of on pixels are counted in each block. This generates\\nan input matrix of 8x8 where each element is an integer in the range\\n0..16. This reduces dimensionality and gives invariance to small\\ndistortions.\\n\\nFor info on NIST preprocessing routines, see M. D. Garris, J. L. Blue, G.\\nT. Candela, D. L. Dimmick, J. Geist, P. J. Grother, S. A. Janet, and C.\\nL. Wilson, NIST Form-Based Handprint Recognition System, NISTIR 5469,\\n1994.\\n\\n.. topic:: References\\n\\n  - C. Kaynak (1995) Methods of Combining Multiple Classifiers and Their\\n    Applications to Handwritten Digit Recognition, MSc Thesis, Institute of\\n    Graduate Studies in Science and Engineering, Bogazici University.\\n  - E. Alpaydin, C. Kaynak (1998) Cascading Classifiers, Kybernetika.\\n  - Ken Tang and Ponnuthurai N. Suganthan and Xi Yao and A. Kai Qin.\\n    Linear dimensionalityreduction using relevance weighted LDA. School of\\n    Electrical and Electronic Engineering Nanyang Technological University.\\n    2005.\\n  - Claudio Gentile. A New Approximate Maximal Margin Classification\\n    Algorithm. NIPS. 2000.\\n\"}"
      ]
     },
     "execution_count": 60,
     "metadata": {},
     "output_type": "execute_result"
    }
   ],
   "source": [
    "digits"
   ]
  },
  {
   "cell_type": "code",
   "execution_count": 61,
   "id": "3b990366",
   "metadata": {},
   "outputs": [],
   "source": [
    "x = digits.data\n",
    "y = digits.target"
   ]
  },
  {
   "cell_type": "code",
   "execution_count": 62,
   "id": "e64d0532",
   "metadata": {},
   "outputs": [
    {
     "data": {
      "text/plain": [
       "(1797, 64)"
      ]
     },
     "execution_count": 62,
     "metadata": {},
     "output_type": "execute_result"
    }
   ],
   "source": [
    "x.shape"
   ]
  },
  {
   "cell_type": "code",
   "execution_count": 63,
   "id": "294de8f7",
   "metadata": {
    "scrolled": true
   },
   "outputs": [
    {
     "data": {
      "text/plain": [
       "array([[ 0.,  0.,  1.,  9., 15., 11.,  0.,  0.],\n",
       "       [ 0.,  0., 11., 16.,  8., 14.,  6.,  0.],\n",
       "       [ 0.,  2., 16., 10.,  0.,  9.,  9.,  0.],\n",
       "       [ 0.,  1., 16.,  4.,  0.,  8.,  8.,  0.],\n",
       "       [ 0.,  4., 16.,  4.,  0.,  8.,  8.,  0.],\n",
       "       [ 0.,  1., 16.,  5.,  1., 11.,  3.,  0.],\n",
       "       [ 0.,  0., 12., 12., 10., 10.,  0.,  0.],\n",
       "       [ 0.,  0.,  1., 10., 13.,  3.,  0.,  0.]])"
      ]
     },
     "execution_count": 63,
     "metadata": {},
     "output_type": "execute_result"
    }
   ],
   "source": [
    "x[10].reshape(8,8)"
   ]
  },
  {
   "cell_type": "code",
   "execution_count": 64,
   "id": "a427d25b",
   "metadata": {},
   "outputs": [
    {
     "data": {
      "text/plain": [
       "<matplotlib.image.AxesImage at 0x7fc45d082250>"
      ]
     },
     "execution_count": 64,
     "metadata": {},
     "output_type": "execute_result"
    },
    {
     "data": {
      "image/png": "[encoded data removed]",
      "text/plain": [
       "<Figure size 432x288 with 1 Axes>"
      ]
     },
     "metadata": {
      "needs_background": "light"
     },
     "output_type": "display_data"
    }
   ],
   "source": [
    "plt.imshow(x[10].reshape(8,8))"
   ]
  },
  {
   "cell_type": "code",
   "execution_count": 65,
   "id": "268aa481",
   "metadata": {},
   "outputs": [
    {
     "data": {
      "text/plain": [
       "0"
      ]
     },
     "execution_count": 65,
     "metadata": {},
     "output_type": "execute_result"
    }
   ],
   "source": [
    "y[10]"
   ]
  },
  {
   "cell_type": "code",
   "execution_count": 126,
   "id": "e9e0abc1",
   "metadata": {},
   "outputs": [
    {
     "data": {
      "text/plain": [
       "<AxesSubplot:>"
      ]
     },
     "execution_count": 126,
     "metadata": {},
     "output_type": "execute_result"
    }
   ],
   "source": []
  },
  {
   "cell_type": "code",
   "execution_count": 66,
   "id": "54be887b",
   "metadata": {},
   "outputs": [
    {
     "data": {
      "image/png": "[encoded data removed]",
      "text/plain": [
       "<Figure size 1440x720 with 10 Axes>"
      ]
     },
     "metadata": {
      "needs_background": "light"
     },
     "output_type": "display_data"
    }
   ],
   "source": [
    "samples = x[:10].reshape(10, 8,8)\n",
    "fig, axes = plt.subplots(nrows=2, ncols=5, figsize=(20,10))\n",
    "for idx, sample in enumerate(samples):\n",
    "    axes[idx//5, idx%5].imshow(sample, cmap='gray')"
   ]
  },
  {
   "cell_type": "code",
   "execution_count": 105,
   "id": "76a84c1d",
   "metadata": {},
   "outputs": [],
   "source": [
    "from sklearn.preprocessing import StandardScaler\n",
    "scaler = StandardScaler()\n",
    "scaled_x = scaler.fit_transform(x)"
   ]
  },
  {
   "cell_type": "code",
   "execution_count": 123,
   "id": "11bfa7ad",
   "metadata": {},
   "outputs": [
    {
     "data": {
      "text/plain": [
       "array([[ 0.        , -0.33501649, -0.04308102, ..., -1.14664746,\n",
       "        -0.5056698 , -0.19600752],\n",
       "       [ 0.        , -0.33501649, -1.09493684, ...,  0.54856067,\n",
       "        -0.5056698 , -0.19600752],\n",
       "       [ 0.        , -0.33501649, -1.09493684, ...,  1.56568555,\n",
       "         1.6951369 , -0.19600752],\n",
       "       ...,\n",
       "       [ 0.        , -0.33501649, -0.88456568, ..., -0.12952258,\n",
       "        -0.5056698 , -0.19600752],\n",
       "       [ 0.        , -0.33501649, -0.67419451, ...,  0.8876023 ,\n",
       "        -0.5056698 , -0.19600752],\n",
       "       [ 0.        , -0.33501649,  1.00877481, ...,  0.8876023 ,\n",
       "        -0.26113572, -0.19600752]])"
      ]
     },
     "execution_count": 123,
     "metadata": {},
     "output_type": "execute_result"
    }
   ],
   "source": [
    "scaled_x"
   ]
  },
  {
   "cell_type": "code",
   "execution_count": 107,
   "id": "2289972d",
   "metadata": {},
   "outputs": [
    {
     "data": {
      "text/plain": [
       "(1797, 64)"
      ]
     },
     "execution_count": 107,
     "metadata": {},
     "output_type": "execute_result"
    }
   ],
   "source": [
    "scaled_x.shape"
   ]
  },
  {
   "cell_type": "code",
   "execution_count": 128,
   "id": "fec8923d",
   "metadata": {
    "collapsed": true
   },
   "outputs": [
    {
     "data": {
      "text/html": [
       "<div>\n",
       "<style scoped>\n",
       "    .dataframe tbody tr th:only-of-type {\n",
       "        vertical-align: middle;\n",
       "    }\n",
       "\n",
       "    .dataframe tbody tr th {\n",
       "        vertical-align: top;\n",
       "    }\n",
       "\n",
       "    .dataframe thead th {\n",
       "        text-align: right;\n",
       "    }\n",
       "</style>\n",
       "<table border=\"1\" class=\"dataframe\">\n",
       "  <thead>\n",
       "    <tr style=\"text-align: right;\">\n",
       "      <th></th>\n",
       "      <th>0</th>\n",
       "      <th>1</th>\n",
       "      <th>2</th>\n",
       "      <th>3</th>\n",
       "      <th>4</th>\n",
       "      <th>5</th>\n",
       "      <th>6</th>\n",
       "      <th>7</th>\n",
       "      <th>8</th>\n",
       "      <th>9</th>\n",
       "      <th>...</th>\n",
       "      <th>54</th>\n",
       "      <th>55</th>\n",
       "      <th>56</th>\n",
       "      <th>57</th>\n",
       "      <th>58</th>\n",
       "      <th>59</th>\n",
       "      <th>60</th>\n",
       "      <th>61</th>\n",
       "      <th>62</th>\n",
       "      <th>63</th>\n",
       "    </tr>\n",
       "  </thead>\n",
       "  <tbody>\n",
       "    <tr>\n",
       "      <th>0</th>\n",
       "      <td>0.0</td>\n",
       "      <td>-0.335016</td>\n",
       "      <td>-0.043081</td>\n",
       "      <td>0.274072</td>\n",
       "      <td>-0.664478</td>\n",
       "      <td>-0.844129</td>\n",
       "      <td>-0.409724</td>\n",
       "      <td>-0.125023</td>\n",
       "      <td>-0.059078</td>\n",
       "      <td>-0.624009</td>\n",
       "      <td>...</td>\n",
       "      <td>-0.757436</td>\n",
       "      <td>-0.209785</td>\n",
       "      <td>-0.023596</td>\n",
       "      <td>-0.299081</td>\n",
       "      <td>0.086719</td>\n",
       "      <td>0.208293</td>\n",
       "      <td>-0.366771</td>\n",
       "      <td>-1.146647</td>\n",
       "      <td>-0.505670</td>\n",
       "      <td>-0.196008</td>\n",
       "    </tr>\n",
       "    <tr>\n",
       "      <th>1</th>\n",
       "      <td>0.0</td>\n",
       "      <td>-0.335016</td>\n",
       "      <td>-1.094937</td>\n",
       "      <td>0.038648</td>\n",
       "      <td>0.268751</td>\n",
       "      <td>-0.138020</td>\n",
       "      <td>-0.409724</td>\n",
       "      <td>-0.125023</td>\n",
       "      <td>-0.059078</td>\n",
       "      <td>-0.624009</td>\n",
       "      <td>...</td>\n",
       "      <td>-0.757436</td>\n",
       "      <td>-0.209785</td>\n",
       "      <td>-0.023596</td>\n",
       "      <td>-0.299081</td>\n",
       "      <td>-1.089383</td>\n",
       "      <td>-0.249010</td>\n",
       "      <td>0.849632</td>\n",
       "      <td>0.548561</td>\n",
       "      <td>-0.505670</td>\n",
       "      <td>-0.196008</td>\n",
       "    </tr>\n",
       "    <tr>\n",
       "      <th>2</th>\n",
       "      <td>0.0</td>\n",
       "      <td>-0.335016</td>\n",
       "      <td>-1.094937</td>\n",
       "      <td>-1.844742</td>\n",
       "      <td>0.735366</td>\n",
       "      <td>1.097673</td>\n",
       "      <td>-0.409724</td>\n",
       "      <td>-0.125023</td>\n",
       "      <td>-0.059078</td>\n",
       "      <td>-0.624009</td>\n",
       "      <td>...</td>\n",
       "      <td>0.259230</td>\n",
       "      <td>-0.209785</td>\n",
       "      <td>-0.023596</td>\n",
       "      <td>-0.299081</td>\n",
       "      <td>-1.089383</td>\n",
       "      <td>-2.078218</td>\n",
       "      <td>-0.164037</td>\n",
       "      <td>1.565686</td>\n",
       "      <td>1.695137</td>\n",
       "      <td>-0.196008</td>\n",
       "    </tr>\n",
       "    <tr>\n",
       "      <th>3</th>\n",
       "      <td>0.0</td>\n",
       "      <td>-0.335016</td>\n",
       "      <td>0.377661</td>\n",
       "      <td>0.744919</td>\n",
       "      <td>0.268751</td>\n",
       "      <td>-0.844129</td>\n",
       "      <td>-0.409724</td>\n",
       "      <td>-0.125023</td>\n",
       "      <td>-0.059078</td>\n",
       "      <td>1.879691</td>\n",
       "      <td>...</td>\n",
       "      <td>1.072563</td>\n",
       "      <td>-0.209785</td>\n",
       "      <td>-0.023596</td>\n",
       "      <td>-0.299081</td>\n",
       "      <td>0.282736</td>\n",
       "      <td>0.208293</td>\n",
       "      <td>0.241430</td>\n",
       "      <td>0.379040</td>\n",
       "      <td>-0.505670</td>\n",
       "      <td>-0.196008</td>\n",
       "    </tr>\n",
       "    <tr>\n",
       "      <th>4</th>\n",
       "      <td>0.0</td>\n",
       "      <td>-0.335016</td>\n",
       "      <td>-1.094937</td>\n",
       "      <td>-2.551014</td>\n",
       "      <td>-0.197863</td>\n",
       "      <td>-1.020657</td>\n",
       "      <td>-0.409724</td>\n",
       "      <td>-0.125023</td>\n",
       "      <td>-0.059078</td>\n",
       "      <td>-0.624009</td>\n",
       "      <td>...</td>\n",
       "      <td>-0.757436</td>\n",
       "      <td>-0.209785</td>\n",
       "      <td>-0.023596</td>\n",
       "      <td>-0.299081</td>\n",
       "      <td>-1.089383</td>\n",
       "      <td>-2.306869</td>\n",
       "      <td>0.849632</td>\n",
       "      <td>-0.468564</td>\n",
       "      <td>-0.505670</td>\n",
       "      <td>-0.196008</td>\n",
       "    </tr>\n",
       "    <tr>\n",
       "      <th>...</th>\n",
       "      <td>...</td>\n",
       "      <td>...</td>\n",
       "      <td>...</td>\n",
       "      <td>...</td>\n",
       "      <td>...</td>\n",
       "      <td>...</td>\n",
       "      <td>...</td>\n",
       "      <td>...</td>\n",
       "      <td>...</td>\n",
       "      <td>...</td>\n",
       "      <td>...</td>\n",
       "      <td>...</td>\n",
       "      <td>...</td>\n",
       "      <td>...</td>\n",
       "      <td>...</td>\n",
       "      <td>...</td>\n",
       "      <td>...</td>\n",
       "      <td>...</td>\n",
       "      <td>...</td>\n",
       "      <td>...</td>\n",
       "      <td>...</td>\n",
       "    </tr>\n",
       "    <tr>\n",
       "      <th>1792</th>\n",
       "      <td>0.0</td>\n",
       "      <td>-0.335016</td>\n",
       "      <td>-0.253452</td>\n",
       "      <td>-0.432200</td>\n",
       "      <td>0.268751</td>\n",
       "      <td>0.038508</td>\n",
       "      <td>-0.409724</td>\n",
       "      <td>-0.125023</td>\n",
       "      <td>-0.059078</td>\n",
       "      <td>-0.311047</td>\n",
       "      <td>...</td>\n",
       "      <td>0.055897</td>\n",
       "      <td>-0.209785</td>\n",
       "      <td>-0.023596</td>\n",
       "      <td>-0.299081</td>\n",
       "      <td>-0.697349</td>\n",
       "      <td>0.436944</td>\n",
       "      <td>0.646898</td>\n",
       "      <td>0.379040</td>\n",
       "      <td>-0.505670</td>\n",
       "      <td>-0.196008</td>\n",
       "    </tr>\n",
       "    <tr>\n",
       "      <th>1793</th>\n",
       "      <td>0.0</td>\n",
       "      <td>-0.335016</td>\n",
       "      <td>0.167290</td>\n",
       "      <td>0.980343</td>\n",
       "      <td>0.268751</td>\n",
       "      <td>0.921145</td>\n",
       "      <td>-0.108958</td>\n",
       "      <td>-0.125023</td>\n",
       "      <td>-0.059078</td>\n",
       "      <td>-0.624009</td>\n",
       "      <td>...</td>\n",
       "      <td>-0.554103</td>\n",
       "      <td>-0.209785</td>\n",
       "      <td>-0.023596</td>\n",
       "      <td>-0.299081</td>\n",
       "      <td>0.086719</td>\n",
       "      <td>0.894246</td>\n",
       "      <td>0.444164</td>\n",
       "      <td>-0.129523</td>\n",
       "      <td>-0.505670</td>\n",
       "      <td>-0.196008</td>\n",
       "    </tr>\n",
       "    <tr>\n",
       "      <th>1794</th>\n",
       "      <td>0.0</td>\n",
       "      <td>-0.335016</td>\n",
       "      <td>-0.884566</td>\n",
       "      <td>-0.196776</td>\n",
       "      <td>0.735366</td>\n",
       "      <td>-0.844129</td>\n",
       "      <td>-0.409724</td>\n",
       "      <td>-0.125023</td>\n",
       "      <td>-0.059078</td>\n",
       "      <td>-0.624009</td>\n",
       "      <td>...</td>\n",
       "      <td>-0.757436</td>\n",
       "      <td>-0.209785</td>\n",
       "      <td>-0.023596</td>\n",
       "      <td>-0.299081</td>\n",
       "      <td>-0.697349</td>\n",
       "      <td>-0.706312</td>\n",
       "      <td>0.241430</td>\n",
       "      <td>-0.129523</td>\n",
       "      <td>-0.505670</td>\n",
       "      <td>-0.196008</td>\n",
       "    </tr>\n",
       "    <tr>\n",
       "      <th>1795</th>\n",
       "      <td>0.0</td>\n",
       "      <td>-0.335016</td>\n",
       "      <td>-0.674195</td>\n",
       "      <td>-0.432200</td>\n",
       "      <td>-1.131092</td>\n",
       "      <td>-1.020657</td>\n",
       "      <td>-0.409724</td>\n",
       "      <td>-0.125023</td>\n",
       "      <td>-0.059078</td>\n",
       "      <td>-0.624009</td>\n",
       "      <td>...</td>\n",
       "      <td>-0.350769</td>\n",
       "      <td>-0.209785</td>\n",
       "      <td>-0.023596</td>\n",
       "      <td>-0.299081</td>\n",
       "      <td>-0.109298</td>\n",
       "      <td>-0.020358</td>\n",
       "      <td>0.849632</td>\n",
       "      <td>0.887602</td>\n",
       "      <td>-0.505670</td>\n",
       "      <td>-0.196008</td>\n",
       "    </tr>\n",
       "    <tr>\n",
       "      <th>1796</th>\n",
       "      <td>0.0</td>\n",
       "      <td>-0.335016</td>\n",
       "      <td>1.008775</td>\n",
       "      <td>0.509495</td>\n",
       "      <td>-0.897785</td>\n",
       "      <td>-0.844129</td>\n",
       "      <td>-0.409724</td>\n",
       "      <td>-0.125023</td>\n",
       "      <td>-0.059078</td>\n",
       "      <td>0.001916</td>\n",
       "      <td>...</td>\n",
       "      <td>0.869229</td>\n",
       "      <td>-0.209785</td>\n",
       "      <td>-0.023596</td>\n",
       "      <td>0.771535</td>\n",
       "      <td>0.478753</td>\n",
       "      <td>-0.020358</td>\n",
       "      <td>0.444164</td>\n",
       "      <td>0.887602</td>\n",
       "      <td>-0.261136</td>\n",
       "      <td>-0.196008</td>\n",
       "    </tr>\n",
       "  </tbody>\n",
       "</table>\n",
       "<p>1797 rows × 64 columns</p>\n",
       "</div>"
      ],
      "text/plain": [
       "       0         1         2         3         4         5         6   \\\n",
       "0     0.0 -0.335016 -0.043081  0.274072 -0.664478 -0.844129 -0.409724   \n",
       "1     0.0 -0.335016 -1.094937  0.038648  0.268751 -0.138020 -0.409724   \n",
       "2     0.0 -0.335016 -1.094937 -1.844742  0.735366  1.097673 -0.409724   \n",
       "3     0.0 -0.335016  0.377661  0.744919  0.268751 -0.844129 -0.409724   \n",
       "4     0.0 -0.335016 -1.094937 -2.551014 -0.197863 -1.020657 -0.409724   \n",
       "...   ...       ...       ...       ...       ...       ...       ...   \n",
       "1792  0.0 -0.335016 -0.253452 -0.432200  0.268751  0.038508 -0.409724   \n",
       "1793  0.0 -0.335016  0.167290  0.980343  0.268751  0.921145 -0.108958   \n",
       "1794  0.0 -0.335016 -0.884566 -0.196776  0.735366 -0.844129 -0.409724   \n",
       "1795  0.0 -0.335016 -0.674195 -0.432200 -1.131092 -1.020657 -0.409724   \n",
       "1796  0.0 -0.335016  1.008775  0.509495 -0.897785 -0.844129 -0.409724   \n",
       "\n",
       "            7         8         9   ...        54        55        56  \\\n",
       "0    -0.125023 -0.059078 -0.624009  ... -0.757436 -0.209785 -0.023596   \n",
       "1    -0.125023 -0.059078 -0.624009  ... -0.757436 -0.209785 -0.023596   \n",
       "2    -0.125023 -0.059078 -0.624009  ...  0.259230 -0.209785 -0.023596   \n",
       "3    -0.125023 -0.059078  1.879691  ...  1.072563 -0.209785 -0.023596   \n",
       "4    -0.125023 -0.059078 -0.624009  ... -0.757436 -0.209785 -0.023596   \n",
       "...        ...       ...       ...  ...       ...       ...       ...   \n",
       "1792 -0.125023 -0.059078 -0.311047  ...  0.055897 -0.209785 -0.023596   \n",
       "1793 -0.125023 -0.059078 -0.624009  ... -0.554103 -0.209785 -0.023596   \n",
       "1794 -0.125023 -0.059078 -0.624009  ... -0.757436 -0.209785 -0.023596   \n",
       "1795 -0.125023 -0.059078 -0.624009  ... -0.350769 -0.209785 -0.023596   \n",
       "1796 -0.125023 -0.059078  0.001916  ...  0.869229 -0.209785 -0.023596   \n",
       "\n",
       "            57        58        59        60        61        62        63  \n",
       "0    -0.299081  0.086719  0.208293 -0.366771 -1.146647 -0.505670 -0.196008  \n",
       "1    -0.299081 -1.089383 -0.249010  0.849632  0.548561 -0.505670 -0.196008  \n",
       "2    -0.299081 -1.089383 -2.078218 -0.164037  1.565686  1.695137 -0.196008  \n",
       "3    -0.299081  0.282736  0.208293  0.241430  0.379040 -0.505670 -0.196008  \n",
       "4    -0.299081 -1.089383 -2.306869  0.849632 -0.468564 -0.505670 -0.196008  \n",
       "...        ...       ...       ...       ...       ...       ...       ...  \n",
       "1792 -0.299081 -0.697349  0.436944  0.646898  0.379040 -0.505670 -0.196008  \n",
       "1793 -0.299081  0.086719  0.894246  0.444164 -0.129523 -0.505670 -0.196008  \n",
       "1794 -0.299081 -0.697349 -0.706312  0.241430 -0.129523 -0.505670 -0.196008  \n",
       "1795 -0.299081 -0.109298 -0.020358  0.849632  0.887602 -0.505670 -0.196008  \n",
       "1796  0.771535  0.478753 -0.020358  0.444164  0.887602 -0.261136 -0.196008  \n",
       "\n",
       "[1797 rows x 64 columns]"
      ]
     },
     "execution_count": 128,
     "metadata": {},
     "output_type": "execute_result"
    }
   ],
   "source": [
    "pd.DataFrame(scaled_x)"
   ]
  },
  {
   "cell_type": "code",
   "execution_count": null,
   "id": "d910b181",
   "metadata": {},
   "outputs": [],
   "source": [
    "# PCA\n",
    "# PCA는 데이터 하나 하나에 대한 성분을 분석하는 것이 아니라, 여러 데이터들이 모여 하나의 분포를 이룰 때 이 분포의 주 성분을 분석해 주는 방법이다.\n",
    "# 데이터들의 분포 특성을 n개의 벡터로 가장 잘 설명할 수 있는 방법 - 주성분"
   ]
  },
  {
   "cell_type": "markdown",
   "id": "b77ec2c9",
   "metadata": {},
   "source": [
    "![PCA](https://t1.daumcdn.net/cfile/tistory/25388D40527C43DB0B)"
   ]
  },
  {
   "cell_type": "code",
   "execution_count": null,
   "id": "ee9a37a6",
   "metadata": {},
   "outputs": [],
   "source": [
    "# 여기서 주성분이라 함은 그 방향으로 데이터들의 분산이 가장 큰 방향벡터를 의미한다"
   ]
  },
  {
   "cell_type": "markdown",
   "id": "67736b1f",
   "metadata": {},
   "source": [
    "![PCA](https://t1.daumcdn.net/cfile/tistory/232FCB42527C51481B)"
   ]
  },
  {
   "cell_type": "code",
   "execution_count": 169,
   "id": "b8a7dc80",
   "metadata": {},
   "outputs": [],
   "source": [
    "from sklearn.decomposition import PCA\n",
    "pca = PCA()"
   ]
  },
  {
   "cell_type": "code",
   "execution_count": 170,
   "id": "ebf6e729",
   "metadata": {},
   "outputs": [
    {
     "data": {
      "text/plain": [
       "PCA()"
      ]
     },
     "execution_count": 170,
     "metadata": {},
     "output_type": "execute_result"
    }
   ],
   "source": [
    "pca.fit(scaled_x)"
   ]
  },
  {
   "cell_type": "code",
   "execution_count": 250,
   "id": "bc81fc3d",
   "metadata": {},
   "outputs": [
    {
     "data": {
      "text/plain": [
       "array([ 1.91421366e+00, -9.54501571e-01, -3.94603482e+00,  2.02872332e+00,\n",
       "       -2.67172802e-01,  5.30326875e-01, -1.41532079e+00,  1.49606164e+00,\n",
       "        1.24914338e-01, -8.22245613e-01, -4.99692678e-01, -7.89466185e-01,\n",
       "        2.28124962e-01, -1.95142307e-01,  8.37040373e-01,  1.04341337e-01,\n",
       "        1.85323078e-01, -9.00567516e-02,  4.12754041e-01,  4.30516951e-01,\n",
       "        4.50993683e-01,  5.58703084e-01,  5.08825936e-01, -7.58896186e-01,\n",
       "       -4.64500047e-01,  7.32175998e-01,  3.27317960e-01,  1.57022055e-01,\n",
       "        4.04917553e-01, -3.24594317e-01,  5.34682551e-01, -1.79790219e-02,\n",
       "        4.79503792e-02,  1.91242448e-02,  1.17189928e-01,  7.09048730e-01,\n",
       "        8.24101236e-02,  8.14059254e-01,  2.49306000e-02,  3.21931463e-01,\n",
       "        1.38675325e-02, -4.57722595e-02, -2.86572141e-01,  4.85762763e-01,\n",
       "        4.26979108e-01, -1.47593938e-01,  1.00290080e-01,  4.20029116e-01,\n",
       "       -1.79378042e-01,  1.54212456e-01,  4.70459176e-01,  1.28759482e-01,\n",
       "       -1.08361182e-01,  1.79138647e-02,  2.17284466e-01, -1.84659476e-01,\n",
       "       -1.52393092e-01,  4.86202785e-01,  9.39047470e-03, -9.18798915e-03,\n",
       "       -2.75115086e-02, -1.60237371e-31,  5.08445505e-32, -1.27756448e-16])"
      ]
     },
     "execution_count": 250,
     "metadata": {},
     "output_type": "execute_result"
    }
   ],
   "source": [
    "printcipalComponents = pca.transform(scaled_x)"
   ]
  },
  {
   "cell_type": "code",
   "execution_count": 247,
   "id": "2f240fbf",
   "metadata": {},
   "outputs": [
    {
     "data": {
      "text/html": [
       "<div>\n",
       "<style scoped>\n",
       "    .dataframe tbody tr th:only-of-type {\n",
       "        vertical-align: middle;\n",
       "    }\n",
       "\n",
       "    .dataframe tbody tr th {\n",
       "        vertical-align: top;\n",
       "    }\n",
       "\n",
       "    .dataframe thead th {\n",
       "        text-align: right;\n",
       "    }\n",
       "</style>\n",
       "<table border=\"1\" class=\"dataframe\">\n",
       "  <thead>\n",
       "    <tr style=\"text-align: right;\">\n",
       "      <th></th>\n",
       "      <th>0</th>\n",
       "      <th>1</th>\n",
       "      <th>2</th>\n",
       "      <th>3</th>\n",
       "      <th>4</th>\n",
       "      <th>5</th>\n",
       "      <th>6</th>\n",
       "      <th>7</th>\n",
       "      <th>8</th>\n",
       "      <th>9</th>\n",
       "      <th>...</th>\n",
       "      <th>54</th>\n",
       "      <th>55</th>\n",
       "      <th>56</th>\n",
       "      <th>57</th>\n",
       "      <th>58</th>\n",
       "      <th>59</th>\n",
       "      <th>60</th>\n",
       "      <th>61</th>\n",
       "      <th>62</th>\n",
       "      <th>63</th>\n",
       "    </tr>\n",
       "  </thead>\n",
       "  <tbody>\n",
       "    <tr>\n",
       "      <th>0</th>\n",
       "      <td>1.914214</td>\n",
       "      <td>-0.954502</td>\n",
       "      <td>-3.946035</td>\n",
       "      <td>2.028723</td>\n",
       "      <td>-0.267173</td>\n",
       "      <td>0.530327</td>\n",
       "      <td>-1.415321</td>\n",
       "      <td>1.496062</td>\n",
       "      <td>0.124914</td>\n",
       "      <td>-0.822246</td>\n",
       "      <td>...</td>\n",
       "      <td>0.217284</td>\n",
       "      <td>-0.184659</td>\n",
       "      <td>-0.152393</td>\n",
       "      <td>0.486203</td>\n",
       "      <td>0.009390</td>\n",
       "      <td>-0.009188</td>\n",
       "      <td>-0.027512</td>\n",
       "      <td>-1.602374e-31</td>\n",
       "      <td>5.084455e-32</td>\n",
       "      <td>-1.277564e-16</td>\n",
       "    </tr>\n",
       "    <tr>\n",
       "      <th>1</th>\n",
       "      <td>0.588980</td>\n",
       "      <td>0.924636</td>\n",
       "      <td>3.924755</td>\n",
       "      <td>-1.779850</td>\n",
       "      <td>-0.993430</td>\n",
       "      <td>-0.675652</td>\n",
       "      <td>1.878565</td>\n",
       "      <td>0.556336</td>\n",
       "      <td>1.079877</td>\n",
       "      <td>0.087451</td>\n",
       "      <td>...</td>\n",
       "      <td>0.005322</td>\n",
       "      <td>0.267950</td>\n",
       "      <td>-0.511874</td>\n",
       "      <td>-0.422479</td>\n",
       "      <td>-0.090586</td>\n",
       "      <td>0.127878</td>\n",
       "      <td>-0.103101</td>\n",
       "      <td>3.993993e-16</td>\n",
       "      <td>-1.103846e-16</td>\n",
       "      <td>3.086705e-17</td>\n",
       "    </tr>\n",
       "    <tr>\n",
       "      <th>2</th>\n",
       "      <td>1.302039</td>\n",
       "      <td>-0.317189</td>\n",
       "      <td>3.023333</td>\n",
       "      <td>-2.043376</td>\n",
       "      <td>-2.081155</td>\n",
       "      <td>0.935121</td>\n",
       "      <td>-1.296200</td>\n",
       "      <td>1.156160</td>\n",
       "      <td>0.785606</td>\n",
       "      <td>-1.099206</td>\n",
       "      <td>...</td>\n",
       "      <td>0.178624</td>\n",
       "      <td>0.067011</td>\n",
       "      <td>0.112209</td>\n",
       "      <td>0.034327</td>\n",
       "      <td>0.444446</td>\n",
       "      <td>-0.518823</td>\n",
       "      <td>0.179429</td>\n",
       "      <td>-3.981208e-16</td>\n",
       "      <td>8.902745e-17</td>\n",
       "      <td>2.155553e-17</td>\n",
       "    </tr>\n",
       "    <tr>\n",
       "      <th>3</th>\n",
       "      <td>-3.020770</td>\n",
       "      <td>-0.868772</td>\n",
       "      <td>-0.801744</td>\n",
       "      <td>-2.187039</td>\n",
       "      <td>-0.556813</td>\n",
       "      <td>0.727124</td>\n",
       "      <td>0.959766</td>\n",
       "      <td>-1.382638</td>\n",
       "      <td>0.259075</td>\n",
       "      <td>0.744555</td>\n",
       "      <td>...</td>\n",
       "      <td>-0.115443</td>\n",
       "      <td>0.264125</td>\n",
       "      <td>0.018912</td>\n",
       "      <td>-0.153687</td>\n",
       "      <td>0.275277</td>\n",
       "      <td>-0.115922</td>\n",
       "      <td>0.101748</td>\n",
       "      <td>-1.531774e-16</td>\n",
       "      <td>6.065358e-17</td>\n",
       "      <td>1.432069e-17</td>\n",
       "    </tr>\n",
       "    <tr>\n",
       "      <th>4</th>\n",
       "      <td>4.528949</td>\n",
       "      <td>-1.093480</td>\n",
       "      <td>0.973121</td>\n",
       "      <td>-1.419510</td>\n",
       "      <td>-1.715106</td>\n",
       "      <td>1.431592</td>\n",
       "      <td>1.073649</td>\n",
       "      <td>-0.968240</td>\n",
       "      <td>-1.660216</td>\n",
       "      <td>1.174593</td>\n",
       "      <td>...</td>\n",
       "      <td>-0.335099</td>\n",
       "      <td>-0.098695</td>\n",
       "      <td>0.292078</td>\n",
       "      <td>0.157340</td>\n",
       "      <td>-0.122873</td>\n",
       "      <td>-0.084901</td>\n",
       "      <td>-0.072045</td>\n",
       "      <td>-1.448038e-16</td>\n",
       "      <td>-2.603296e-16</td>\n",
       "      <td>9.037551e-18</td>\n",
       "    </tr>\n",
       "    <tr>\n",
       "      <th>...</th>\n",
       "      <td>...</td>\n",
       "      <td>...</td>\n",
       "      <td>...</td>\n",
       "      <td>...</td>\n",
       "      <td>...</td>\n",
       "      <td>...</td>\n",
       "      <td>...</td>\n",
       "      <td>...</td>\n",
       "      <td>...</td>\n",
       "      <td>...</td>\n",
       "      <td>...</td>\n",
       "      <td>...</td>\n",
       "      <td>...</td>\n",
       "      <td>...</td>\n",
       "      <td>...</td>\n",
       "      <td>...</td>\n",
       "      <td>...</td>\n",
       "      <td>...</td>\n",
       "      <td>...</td>\n",
       "      <td>...</td>\n",
       "      <td>...</td>\n",
       "    </tr>\n",
       "    <tr>\n",
       "      <th>1792</th>\n",
       "      <td>0.104331</td>\n",
       "      <td>0.255024</td>\n",
       "      <td>-3.765861</td>\n",
       "      <td>-1.947006</td>\n",
       "      <td>-0.190094</td>\n",
       "      <td>-0.555760</td>\n",
       "      <td>0.531222</td>\n",
       "      <td>0.476475</td>\n",
       "      <td>1.152430</td>\n",
       "      <td>-0.473054</td>\n",
       "      <td>...</td>\n",
       "      <td>-0.172645</td>\n",
       "      <td>-0.255690</td>\n",
       "      <td>-0.041558</td>\n",
       "      <td>-0.301991</td>\n",
       "      <td>-0.041755</td>\n",
       "      <td>0.009942</td>\n",
       "      <td>0.111765</td>\n",
       "      <td>4.237580e-17</td>\n",
       "      <td>-2.797155e-16</td>\n",
       "      <td>-1.184726e-17</td>\n",
       "    </tr>\n",
       "    <tr>\n",
       "      <th>1793</th>\n",
       "      <td>2.423234</td>\n",
       "      <td>-1.429611</td>\n",
       "      <td>-3.045245</td>\n",
       "      <td>2.632089</td>\n",
       "      <td>-0.822902</td>\n",
       "      <td>0.004061</td>\n",
       "      <td>-1.106872</td>\n",
       "      <td>2.330903</td>\n",
       "      <td>0.569455</td>\n",
       "      <td>-1.654173</td>\n",
       "      <td>...</td>\n",
       "      <td>-0.186876</td>\n",
       "      <td>-0.424451</td>\n",
       "      <td>-0.249359</td>\n",
       "      <td>-0.183744</td>\n",
       "      <td>0.422494</td>\n",
       "      <td>0.374617</td>\n",
       "      <td>-0.138655</td>\n",
       "      <td>3.426644e-16</td>\n",
       "      <td>4.617521e-16</td>\n",
       "      <td>-1.836221e-17</td>\n",
       "    </tr>\n",
       "    <tr>\n",
       "      <th>1794</th>\n",
       "      <td>1.022596</td>\n",
       "      <td>-0.147911</td>\n",
       "      <td>2.469974</td>\n",
       "      <td>-0.620307</td>\n",
       "      <td>-0.972043</td>\n",
       "      <td>-0.007377</td>\n",
       "      <td>0.381115</td>\n",
       "      <td>0.529064</td>\n",
       "      <td>2.054709</td>\n",
       "      <td>-2.036838</td>\n",
       "      <td>...</td>\n",
       "      <td>-0.177343</td>\n",
       "      <td>-0.048974</td>\n",
       "      <td>0.002683</td>\n",
       "      <td>0.081608</td>\n",
       "      <td>0.442114</td>\n",
       "      <td>0.061053</td>\n",
       "      <td>-0.102153</td>\n",
       "      <td>-4.638102e-16</td>\n",
       "      <td>-6.167782e-16</td>\n",
       "      <td>1.793875e-17</td>\n",
       "    </tr>\n",
       "    <tr>\n",
       "      <th>1795</th>\n",
       "      <td>1.076055</td>\n",
       "      <td>-0.380906</td>\n",
       "      <td>-2.455487</td>\n",
       "      <td>-1.312013</td>\n",
       "      <td>0.253533</td>\n",
       "      <td>-0.638322</td>\n",
       "      <td>1.034470</td>\n",
       "      <td>0.763325</td>\n",
       "      <td>1.077474</td>\n",
       "      <td>-0.334527</td>\n",
       "      <td>...</td>\n",
       "      <td>-0.320746</td>\n",
       "      <td>-0.025126</td>\n",
       "      <td>-0.098597</td>\n",
       "      <td>0.083542</td>\n",
       "      <td>-0.300143</td>\n",
       "      <td>-0.306155</td>\n",
       "      <td>-0.594146</td>\n",
       "      <td>5.717415e-16</td>\n",
       "      <td>2.910041e-16</td>\n",
       "      <td>-2.286907e-17</td>\n",
       "    </tr>\n",
       "    <tr>\n",
       "      <th>1796</th>\n",
       "      <td>-1.257702</td>\n",
       "      <td>-2.227591</td>\n",
       "      <td>0.283628</td>\n",
       "      <td>-0.127073</td>\n",
       "      <td>-1.570173</td>\n",
       "      <td>2.342953</td>\n",
       "      <td>-0.383075</td>\n",
       "      <td>-1.200566</td>\n",
       "      <td>0.816831</td>\n",
       "      <td>-1.825428</td>\n",
       "      <td>...</td>\n",
       "      <td>-0.245739</td>\n",
       "      <td>0.377748</td>\n",
       "      <td>0.209978</td>\n",
       "      <td>-0.520580</td>\n",
       "      <td>0.343452</td>\n",
       "      <td>-0.114960</td>\n",
       "      <td>0.226830</td>\n",
       "      <td>-3.281287e-16</td>\n",
       "      <td>-2.143766e-17</td>\n",
       "      <td>5.001494e-17</td>\n",
       "    </tr>\n",
       "  </tbody>\n",
       "</table>\n",
       "<p>1797 rows × 64 columns</p>\n",
       "</div>"
      ],
      "text/plain": [
       "            0         1         2         3         4         5         6   \\\n",
       "0     1.914214 -0.954502 -3.946035  2.028723 -0.267173  0.530327 -1.415321   \n",
       "1     0.588980  0.924636  3.924755 -1.779850 -0.993430 -0.675652  1.878565   \n",
       "2     1.302039 -0.317189  3.023333 -2.043376 -2.081155  0.935121 -1.296200   \n",
       "3    -3.020770 -0.868772 -0.801744 -2.187039 -0.556813  0.727124  0.959766   \n",
       "4     4.528949 -1.093480  0.973121 -1.419510 -1.715106  1.431592  1.073649   \n",
       "...        ...       ...       ...       ...       ...       ...       ...   \n",
       "1792  0.104331  0.255024 -3.765861 -1.947006 -0.190094 -0.555760  0.531222   \n",
       "1793  2.423234 -1.429611 -3.045245  2.632089 -0.822902  0.004061 -1.106872   \n",
       "1794  1.022596 -0.147911  2.469974 -0.620307 -0.972043 -0.007377  0.381115   \n",
       "1795  1.076055 -0.380906 -2.455487 -1.312013  0.253533 -0.638322  1.034470   \n",
       "1796 -1.257702 -2.227591  0.283628 -0.127073 -1.570173  2.342953 -0.383075   \n",
       "\n",
       "            7         8         9   ...        54        55        56  \\\n",
       "0     1.496062  0.124914 -0.822246  ...  0.217284 -0.184659 -0.152393   \n",
       "1     0.556336  1.079877  0.087451  ...  0.005322  0.267950 -0.511874   \n",
       "2     1.156160  0.785606 -1.099206  ...  0.178624  0.067011  0.112209   \n",
       "3    -1.382638  0.259075  0.744555  ... -0.115443  0.264125  0.018912   \n",
       "4    -0.968240 -1.660216  1.174593  ... -0.335099 -0.098695  0.292078   \n",
       "...        ...       ...       ...  ...       ...       ...       ...   \n",
       "1792  0.476475  1.152430 -0.473054  ... -0.172645 -0.255690 -0.041558   \n",
       "1793  2.330903  0.569455 -1.654173  ... -0.186876 -0.424451 -0.249359   \n",
       "1794  0.529064  2.054709 -2.036838  ... -0.177343 -0.048974  0.002683   \n",
       "1795  0.763325  1.077474 -0.334527  ... -0.320746 -0.025126 -0.098597   \n",
       "1796 -1.200566  0.816831 -1.825428  ... -0.245739  0.377748  0.209978   \n",
       "\n",
       "            57        58        59        60            61            62  \\\n",
       "0     0.486203  0.009390 -0.009188 -0.027512 -1.602374e-31  5.084455e-32   \n",
       "1    -0.422479 -0.090586  0.127878 -0.103101  3.993993e-16 -1.103846e-16   \n",
       "2     0.034327  0.444446 -0.518823  0.179429 -3.981208e-16  8.902745e-17   \n",
       "3    -0.153687  0.275277 -0.115922  0.101748 -1.531774e-16  6.065358e-17   \n",
       "4     0.157340 -0.122873 -0.084901 -0.072045 -1.448038e-16 -2.603296e-16   \n",
       "...        ...       ...       ...       ...           ...           ...   \n",
       "1792 -0.301991 -0.041755  0.009942  0.111765  4.237580e-17 -2.797155e-16   \n",
       "1793 -0.183744  0.422494  0.374617 -0.138655  3.426644e-16  4.617521e-16   \n",
       "1794  0.081608  0.442114  0.061053 -0.102153 -4.638102e-16 -6.167782e-16   \n",
       "1795  0.083542 -0.300143 -0.306155 -0.594146  5.717415e-16  2.910041e-16   \n",
       "1796 -0.520580  0.343452 -0.114960  0.226830 -3.281287e-16 -2.143766e-17   \n",
       "\n",
       "                63  \n",
       "0    -1.277564e-16  \n",
       "1     3.086705e-17  \n",
       "2     2.155553e-17  \n",
       "3     1.432069e-17  \n",
       "4     9.037551e-18  \n",
       "...            ...  \n",
       "1792 -1.184726e-17  \n",
       "1793 -1.836221e-17  \n",
       "1794  1.793875e-17  \n",
       "1795 -2.286907e-17  \n",
       "1796  5.001494e-17  \n",
       "\n",
       "[1797 rows x 64 columns]"
      ]
     },
     "execution_count": 247,
     "metadata": {},
     "output_type": "execute_result"
    }
   ],
   "source": [
    "pd.DataFrame(printcipalComponents)"
   ]
  },
  {
   "cell_type": "code",
   "execution_count": 110,
   "id": "0892c681",
   "metadata": {},
   "outputs": [
    {
     "data": {
      "text/plain": [
       "64"
      ]
     },
     "execution_count": 110,
     "metadata": {},
     "output_type": "execute_result"
    }
   ],
   "source": [
    "# 설명된 분산..\n",
    "# 64차원 데이터 => 64개의 주성분 생성\n",
    "# 각 주성분이 설명해주는 데이터 분산의 크기..\n",
    "\n",
    "len(pca.explained_variance_)"
   ]
  },
  {
   "cell_type": "code",
   "execution_count": 203,
   "id": "5f819028",
   "metadata": {},
   "outputs": [
    {
     "data": {
      "text/plain": [
       "array([7.34477606e+00, 5.83549054e+00, 5.15396118e+00, 3.96623597e+00,\n",
       "       2.96634520e+00, 2.57204442e+00, 2.40600941e+00, 2.06867355e+00,\n",
       "       1.82993314e+00, 1.78951739e+00, 1.69784616e+00, 1.57287889e+00,\n",
       "       1.38870781e+00, 1.35933609e+00, 1.32152536e+00, 1.16829176e+00,\n",
       "       1.08368678e+00, 9.99778617e-01, 9.74382931e-01, 9.08912418e-01,\n",
       "       8.22719264e-01, 7.76310139e-01, 7.11556753e-01, 6.45523648e-01,\n",
       "       5.95273988e-01, 5.76501797e-01, 5.26731552e-01, 5.10636301e-01,\n",
       "       4.86863813e-01, 4.55601071e-01, 4.42851552e-01, 4.22300863e-01,\n",
       "       3.99106303e-01, 3.91101111e-01, 3.60945168e-01, 3.48603059e-01,\n",
       "       3.19596300e-01, 2.94066271e-01, 2.76922851e-01, 2.58273004e-01,\n",
       "       2.47830286e-01, 2.42356600e-01, 2.17581996e-01, 2.07995927e-01,\n",
       "       2.00090902e-01, 1.89835165e-01, 1.76128942e-01, 1.68752359e-01,\n",
       "       1.58184741e-01, 1.43114274e-01, 1.33210813e-01, 1.24263708e-01,\n",
       "       1.19328984e-01, 1.11886547e-01, 1.02504338e-01, 9.84087608e-02,\n",
       "       9.01854301e-02, 8.24681230e-02, 7.63539426e-02, 6.32896150e-02,\n",
       "       5.03744402e-02, 1.97430140e-31, 3.90222011e-32, 3.84266959e-32])"
      ]
     },
     "execution_count": 203,
     "metadata": {},
     "output_type": "execute_result"
    }
   ],
   "source": [
    "# 주성분의 분산\n",
    "pca.explained_variance_"
   ]
  },
  {
   "cell_type": "code",
   "execution_count": 204,
   "id": "bcca6f33",
   "metadata": {},
   "outputs": [
    {
     "data": {
      "text/plain": [
       "[<matplotlib.lines.Line2D at 0x7fc4795df2e0>]"
      ]
     },
     "execution_count": 204,
     "metadata": {},
     "output_type": "execute_result"
    },
    {
     "data": {
      "image/png": "[encoded data removed]",
      "text/plain": [
       "<Figure size 432x288 with 1 Axes>"
      ]
     },
     "metadata": {
      "needs_background": "light"
     },
     "output_type": "display_data"
    }
   ],
   "source": [
    "plt.plot(pca.explained_variance_)"
   ]
  },
  {
   "cell_type": "code",
   "execution_count": 205,
   "id": "0c88d2e6",
   "metadata": {},
   "outputs": [
    {
     "data": {
      "text/plain": [
       "array([1.20339161e-01, 9.56105440e-02, 8.44441489e-02, 6.49840791e-02,\n",
       "       4.86015488e-02, 4.21411987e-02, 3.94208280e-02, 3.38938092e-02,\n",
       "       2.99822101e-02, 2.93200255e-02, 2.78180546e-02, 2.57705509e-02,\n",
       "       2.27530332e-02, 2.22717974e-02, 2.16522943e-02, 1.91416661e-02,\n",
       "       1.77554709e-02, 1.63806927e-02, 1.59646017e-02, 1.48919119e-02,\n",
       "       1.34796957e-02, 1.27193137e-02, 1.16583735e-02, 1.05764660e-02,\n",
       "       9.75315947e-03, 9.44558990e-03, 8.63013827e-03, 8.36642854e-03,\n",
       "       7.97693248e-03, 7.46471371e-03, 7.25582151e-03, 6.91911245e-03,\n",
       "       6.53908536e-03, 6.40792574e-03, 5.91384112e-03, 5.71162405e-03,\n",
       "       5.23636803e-03, 4.81807586e-03, 4.53719260e-03, 4.23162753e-03,\n",
       "       4.06053070e-03, 3.97084808e-03, 3.56493303e-03, 3.40787181e-03,\n",
       "       3.27835335e-03, 3.11032007e-03, 2.88575294e-03, 2.76489264e-03,\n",
       "       2.59174941e-03, 2.34483006e-03, 2.18256858e-03, 2.03597635e-03,\n",
       "       1.95512426e-03, 1.83318499e-03, 1.67946387e-03, 1.61236062e-03,\n",
       "       1.47762694e-03, 1.35118411e-03, 1.25100742e-03, 1.03695730e-03,\n",
       "       8.25350945e-04, 3.23475858e-33, 6.39352227e-34, 6.29595280e-34])"
      ]
     },
     "execution_count": 205,
     "metadata": {},
     "output_type": "execute_result"
    }
   ],
   "source": [
    "pca.explained_variance_ratio_ "
   ]
  },
  {
   "cell_type": "code",
   "execution_count": 206,
   "id": "22b99ef2",
   "metadata": {},
   "outputs": [
    {
     "data": {
      "text/plain": [
       "[<matplotlib.lines.Line2D at 0x7fc45be23f10>]"
      ]
     },
     "execution_count": 206,
     "metadata": {},
     "output_type": "execute_result"
    },
    {
     "data": {
      "image/png": "[encoded data removed]",
      "text/plain": [
       "<Figure size 432x288 with 1 Axes>"
      ]
     },
     "metadata": {
      "needs_background": "light"
     },
     "output_type": "display_data"
    }
   ],
   "source": [
    "plt.plot(pca.explained_variance_ratio_)\n",
    "plt.plot(pca.explained_variance_ratio_.cumsum(), linestyle='--')"
   ]
  },
  {
   "cell_type": "code",
   "execution_count": null,
   "id": "fa96a121",
   "metadata": {},
   "outputs": [],
   "source": []
  },
  {
   "cell_type": "code",
   "execution_count": 85,
   "id": "43ed3fa0",
   "metadata": {},
   "outputs": [],
   "source": [
    "# 실제 사용 - n개의 주성분..\n",
    "\n",
    "# 전체 주성분의 값을 사용하지 않음..\n",
    "# 주성분의 개수를 지정하거나 설명되는 분산의 비율값을 사용함.."
   ]
  },
  {
   "cell_type": "markdown",
   "id": "71f3e1e0",
   "metadata": {},
   "source": [
    "![PCA](https://img1.daumcdn.net/thumb/R1280x0/?scode=mtistory2&fname=https%3A%2F%2Fblog.kakaocdn.net%2Fdn%2Fbo1XMp%2FbtqGteJZ3uZ%2FafziZJkSlSH872Lpwbv5t1%2Fimg.png)"
   ]
  },
  {
   "cell_type": "code",
   "execution_count": 199,
   "id": "dd1d5966",
   "metadata": {},
   "outputs": [
    {
     "data": {
      "text/plain": [
       "PCA(n_components=0.8)"
      ]
     },
     "execution_count": 199,
     "metadata": {},
     "output_type": "execute_result"
    }
   ],
   "source": [
    "# 데이터의 분산의 80%까지 표현하는 주성분을 리턴..\n",
    "ratio_pca = PCA(n_components=0.8)\n",
    "ratio_pca.fit(scaled_x)"
   ]
  },
  {
   "cell_type": "code",
   "execution_count": 200,
   "id": "0728def7",
   "metadata": {
    "collapsed": true
   },
   "outputs": [
    {
     "data": {
      "text/html": [
       "<div>\n",
       "<style scoped>\n",
       "    .dataframe tbody tr th:only-of-type {\n",
       "        vertical-align: middle;\n",
       "    }\n",
       "\n",
       "    .dataframe tbody tr th {\n",
       "        vertical-align: top;\n",
       "    }\n",
       "\n",
       "    .dataframe thead th {\n",
       "        text-align: right;\n",
       "    }\n",
       "</style>\n",
       "<table border=\"1\" class=\"dataframe\">\n",
       "  <thead>\n",
       "    <tr style=\"text-align: right;\">\n",
       "      <th></th>\n",
       "      <th>0</th>\n",
       "      <th>1</th>\n",
       "      <th>2</th>\n",
       "      <th>3</th>\n",
       "      <th>4</th>\n",
       "      <th>5</th>\n",
       "      <th>6</th>\n",
       "      <th>7</th>\n",
       "      <th>8</th>\n",
       "      <th>9</th>\n",
       "      <th>...</th>\n",
       "      <th>11</th>\n",
       "      <th>12</th>\n",
       "      <th>13</th>\n",
       "      <th>14</th>\n",
       "      <th>15</th>\n",
       "      <th>16</th>\n",
       "      <th>17</th>\n",
       "      <th>18</th>\n",
       "      <th>19</th>\n",
       "      <th>20</th>\n",
       "    </tr>\n",
       "  </thead>\n",
       "  <tbody>\n",
       "    <tr>\n",
       "      <th>0</th>\n",
       "      <td>1.914214</td>\n",
       "      <td>-0.954502</td>\n",
       "      <td>-3.946035</td>\n",
       "      <td>2.028723</td>\n",
       "      <td>-0.267173</td>\n",
       "      <td>0.530327</td>\n",
       "      <td>-1.415321</td>\n",
       "      <td>1.496062</td>\n",
       "      <td>0.124914</td>\n",
       "      <td>-0.822246</td>\n",
       "      <td>...</td>\n",
       "      <td>-0.789466</td>\n",
       "      <td>0.228125</td>\n",
       "      <td>-0.195142</td>\n",
       "      <td>0.837040</td>\n",
       "      <td>0.104341</td>\n",
       "      <td>0.185323</td>\n",
       "      <td>-0.090057</td>\n",
       "      <td>0.412754</td>\n",
       "      <td>0.430517</td>\n",
       "      <td>0.450994</td>\n",
       "    </tr>\n",
       "    <tr>\n",
       "      <th>1</th>\n",
       "      <td>0.588980</td>\n",
       "      <td>0.924636</td>\n",
       "      <td>3.924755</td>\n",
       "      <td>-1.779850</td>\n",
       "      <td>-0.993430</td>\n",
       "      <td>-0.675652</td>\n",
       "      <td>1.878565</td>\n",
       "      <td>0.556336</td>\n",
       "      <td>1.079877</td>\n",
       "      <td>0.087451</td>\n",
       "      <td>...</td>\n",
       "      <td>0.641593</td>\n",
       "      <td>-0.048361</td>\n",
       "      <td>-0.392054</td>\n",
       "      <td>-0.744412</td>\n",
       "      <td>-0.214072</td>\n",
       "      <td>-0.101727</td>\n",
       "      <td>-0.422000</td>\n",
       "      <td>0.553085</td>\n",
       "      <td>-0.069676</td>\n",
       "      <td>0.909818</td>\n",
       "    </tr>\n",
       "    <tr>\n",
       "      <th>2</th>\n",
       "      <td>1.302039</td>\n",
       "      <td>-0.317189</td>\n",
       "      <td>3.023333</td>\n",
       "      <td>-2.043376</td>\n",
       "      <td>-2.081155</td>\n",
       "      <td>0.935121</td>\n",
       "      <td>-1.296200</td>\n",
       "      <td>1.156160</td>\n",
       "      <td>0.785606</td>\n",
       "      <td>-1.099206</td>\n",
       "      <td>...</td>\n",
       "      <td>-2.310276</td>\n",
       "      <td>-0.566874</td>\n",
       "      <td>-0.995772</td>\n",
       "      <td>-1.170505</td>\n",
       "      <td>0.399017</td>\n",
       "      <td>-0.240298</td>\n",
       "      <td>-0.465223</td>\n",
       "      <td>-1.065556</td>\n",
       "      <td>-1.133454</td>\n",
       "      <td>-0.525917</td>\n",
       "    </tr>\n",
       "    <tr>\n",
       "      <th>3</th>\n",
       "      <td>-3.020770</td>\n",
       "      <td>-0.868772</td>\n",
       "      <td>-0.801744</td>\n",
       "      <td>-2.187039</td>\n",
       "      <td>-0.556813</td>\n",
       "      <td>0.727124</td>\n",
       "      <td>0.959766</td>\n",
       "      <td>-1.382638</td>\n",
       "      <td>0.259075</td>\n",
       "      <td>0.744555</td>\n",
       "      <td>...</td>\n",
       "      <td>0.491755</td>\n",
       "      <td>-0.166579</td>\n",
       "      <td>1.008790</td>\n",
       "      <td>-0.141893</td>\n",
       "      <td>-1.000781</td>\n",
       "      <td>-0.950687</td>\n",
       "      <td>-0.400034</td>\n",
       "      <td>1.490825</td>\n",
       "      <td>0.308128</td>\n",
       "      <td>0.560421</td>\n",
       "    </tr>\n",
       "    <tr>\n",
       "      <th>4</th>\n",
       "      <td>4.528949</td>\n",
       "      <td>-1.093480</td>\n",
       "      <td>0.973121</td>\n",
       "      <td>-1.419510</td>\n",
       "      <td>-1.715106</td>\n",
       "      <td>1.431592</td>\n",
       "      <td>1.073649</td>\n",
       "      <td>-0.968240</td>\n",
       "      <td>-1.660216</td>\n",
       "      <td>1.174593</td>\n",
       "      <td>...</td>\n",
       "      <td>-1.365994</td>\n",
       "      <td>-0.343716</td>\n",
       "      <td>-0.113469</td>\n",
       "      <td>0.732635</td>\n",
       "      <td>0.210692</td>\n",
       "      <td>-0.094411</td>\n",
       "      <td>-0.552371</td>\n",
       "      <td>1.613976</td>\n",
       "      <td>1.086368</td>\n",
       "      <td>0.495644</td>\n",
       "    </tr>\n",
       "    <tr>\n",
       "      <th>...</th>\n",
       "      <td>...</td>\n",
       "      <td>...</td>\n",
       "      <td>...</td>\n",
       "      <td>...</td>\n",
       "      <td>...</td>\n",
       "      <td>...</td>\n",
       "      <td>...</td>\n",
       "      <td>...</td>\n",
       "      <td>...</td>\n",
       "      <td>...</td>\n",
       "      <td>...</td>\n",
       "      <td>...</td>\n",
       "      <td>...</td>\n",
       "      <td>...</td>\n",
       "      <td>...</td>\n",
       "      <td>...</td>\n",
       "      <td>...</td>\n",
       "      <td>...</td>\n",
       "      <td>...</td>\n",
       "      <td>...</td>\n",
       "      <td>...</td>\n",
       "    </tr>\n",
       "    <tr>\n",
       "      <th>1792</th>\n",
       "      <td>0.104331</td>\n",
       "      <td>0.255024</td>\n",
       "      <td>-3.765861</td>\n",
       "      <td>-1.947006</td>\n",
       "      <td>-0.190094</td>\n",
       "      <td>-0.555760</td>\n",
       "      <td>0.531222</td>\n",
       "      <td>0.476475</td>\n",
       "      <td>1.152430</td>\n",
       "      <td>-0.473054</td>\n",
       "      <td>...</td>\n",
       "      <td>0.803622</td>\n",
       "      <td>1.205195</td>\n",
       "      <td>-0.700724</td>\n",
       "      <td>0.187246</td>\n",
       "      <td>0.161669</td>\n",
       "      <td>0.504438</td>\n",
       "      <td>0.357642</td>\n",
       "      <td>-0.956725</td>\n",
       "      <td>0.816109</td>\n",
       "      <td>0.030250</td>\n",
       "    </tr>\n",
       "    <tr>\n",
       "      <th>1793</th>\n",
       "      <td>2.423234</td>\n",
       "      <td>-1.429611</td>\n",
       "      <td>-3.045245</td>\n",
       "      <td>2.632089</td>\n",
       "      <td>-0.822902</td>\n",
       "      <td>0.004061</td>\n",
       "      <td>-1.106872</td>\n",
       "      <td>2.330903</td>\n",
       "      <td>0.569455</td>\n",
       "      <td>-1.654173</td>\n",
       "      <td>...</td>\n",
       "      <td>-0.530551</td>\n",
       "      <td>0.858305</td>\n",
       "      <td>0.885069</td>\n",
       "      <td>-0.702222</td>\n",
       "      <td>1.098425</td>\n",
       "      <td>0.301699</td>\n",
       "      <td>-0.311522</td>\n",
       "      <td>-0.307535</td>\n",
       "      <td>0.110083</td>\n",
       "      <td>-0.957759</td>\n",
       "    </tr>\n",
       "    <tr>\n",
       "      <th>1794</th>\n",
       "      <td>1.022596</td>\n",
       "      <td>-0.147911</td>\n",
       "      <td>2.469974</td>\n",
       "      <td>-0.620307</td>\n",
       "      <td>-0.972043</td>\n",
       "      <td>-0.007377</td>\n",
       "      <td>0.381115</td>\n",
       "      <td>0.529064</td>\n",
       "      <td>2.054709</td>\n",
       "      <td>-2.036838</td>\n",
       "      <td>...</td>\n",
       "      <td>0.396803</td>\n",
       "      <td>-0.409313</td>\n",
       "      <td>0.257614</td>\n",
       "      <td>0.334953</td>\n",
       "      <td>1.162071</td>\n",
       "      <td>1.124031</td>\n",
       "      <td>0.669245</td>\n",
       "      <td>-1.612100</td>\n",
       "      <td>0.182303</td>\n",
       "      <td>0.166667</td>\n",
       "    </tr>\n",
       "    <tr>\n",
       "      <th>1795</th>\n",
       "      <td>1.076055</td>\n",
       "      <td>-0.380906</td>\n",
       "      <td>-2.455487</td>\n",
       "      <td>-1.312013</td>\n",
       "      <td>0.253533</td>\n",
       "      <td>-0.638322</td>\n",
       "      <td>1.034470</td>\n",
       "      <td>0.763325</td>\n",
       "      <td>1.077474</td>\n",
       "      <td>-0.334527</td>\n",
       "      <td>...</td>\n",
       "      <td>0.606451</td>\n",
       "      <td>0.169573</td>\n",
       "      <td>-0.759176</td>\n",
       "      <td>0.014572</td>\n",
       "      <td>0.158465</td>\n",
       "      <td>1.686638</td>\n",
       "      <td>0.811822</td>\n",
       "      <td>-1.769181</td>\n",
       "      <td>0.774718</td>\n",
       "      <td>-0.135668</td>\n",
       "    </tr>\n",
       "    <tr>\n",
       "      <th>1796</th>\n",
       "      <td>-1.257702</td>\n",
       "      <td>-2.227591</td>\n",
       "      <td>0.283628</td>\n",
       "      <td>-0.127073</td>\n",
       "      <td>-1.570173</td>\n",
       "      <td>2.342953</td>\n",
       "      <td>-0.383075</td>\n",
       "      <td>-1.200566</td>\n",
       "      <td>0.816831</td>\n",
       "      <td>-1.825428</td>\n",
       "      <td>...</td>\n",
       "      <td>0.549436</td>\n",
       "      <td>0.099634</td>\n",
       "      <td>0.757965</td>\n",
       "      <td>1.825514</td>\n",
       "      <td>0.248320</td>\n",
       "      <td>0.643783</td>\n",
       "      <td>1.944213</td>\n",
       "      <td>-2.438979</td>\n",
       "      <td>-1.132762</td>\n",
       "      <td>-1.114587</td>\n",
       "    </tr>\n",
       "  </tbody>\n",
       "</table>\n",
       "<p>1797 rows × 21 columns</p>\n",
       "</div>"
      ],
      "text/plain": [
       "            0         1         2         3         4         5         6   \\\n",
       "0     1.914214 -0.954502 -3.946035  2.028723 -0.267173  0.530327 -1.415321   \n",
       "1     0.588980  0.924636  3.924755 -1.779850 -0.993430 -0.675652  1.878565   \n",
       "2     1.302039 -0.317189  3.023333 -2.043376 -2.081155  0.935121 -1.296200   \n",
       "3    -3.020770 -0.868772 -0.801744 -2.187039 -0.556813  0.727124  0.959766   \n",
       "4     4.528949 -1.093480  0.973121 -1.419510 -1.715106  1.431592  1.073649   \n",
       "...        ...       ...       ...       ...       ...       ...       ...   \n",
       "1792  0.104331  0.255024 -3.765861 -1.947006 -0.190094 -0.555760  0.531222   \n",
       "1793  2.423234 -1.429611 -3.045245  2.632089 -0.822902  0.004061 -1.106872   \n",
       "1794  1.022596 -0.147911  2.469974 -0.620307 -0.972043 -0.007377  0.381115   \n",
       "1795  1.076055 -0.380906 -2.455487 -1.312013  0.253533 -0.638322  1.034470   \n",
       "1796 -1.257702 -2.227591  0.283628 -0.127073 -1.570173  2.342953 -0.383075   \n",
       "\n",
       "            7         8         9   ...        11        12        13  \\\n",
       "0     1.496062  0.124914 -0.822246  ... -0.789466  0.228125 -0.195142   \n",
       "1     0.556336  1.079877  0.087451  ...  0.641593 -0.048361 -0.392054   \n",
       "2     1.156160  0.785606 -1.099206  ... -2.310276 -0.566874 -0.995772   \n",
       "3    -1.382638  0.259075  0.744555  ...  0.491755 -0.166579  1.008790   \n",
       "4    -0.968240 -1.660216  1.174593  ... -1.365994 -0.343716 -0.113469   \n",
       "...        ...       ...       ...  ...       ...       ...       ...   \n",
       "1792  0.476475  1.152430 -0.473054  ...  0.803622  1.205195 -0.700724   \n",
       "1793  2.330903  0.569455 -1.654173  ... -0.530551  0.858305  0.885069   \n",
       "1794  0.529064  2.054709 -2.036838  ...  0.396803 -0.409313  0.257614   \n",
       "1795  0.763325  1.077474 -0.334527  ...  0.606451  0.169573 -0.759176   \n",
       "1796 -1.200566  0.816831 -1.825428  ...  0.549436  0.099634  0.757965   \n",
       "\n",
       "            14        15        16        17        18        19        20  \n",
       "0     0.837040  0.104341  0.185323 -0.090057  0.412754  0.430517  0.450994  \n",
       "1    -0.744412 -0.214072 -0.101727 -0.422000  0.553085 -0.069676  0.909818  \n",
       "2    -1.170505  0.399017 -0.240298 -0.465223 -1.065556 -1.133454 -0.525917  \n",
       "3    -0.141893 -1.000781 -0.950687 -0.400034  1.490825  0.308128  0.560421  \n",
       "4     0.732635  0.210692 -0.094411 -0.552371  1.613976  1.086368  0.495644  \n",
       "...        ...       ...       ...       ...       ...       ...       ...  \n",
       "1792  0.187246  0.161669  0.504438  0.357642 -0.956725  0.816109  0.030250  \n",
       "1793 -0.702222  1.098425  0.301699 -0.311522 -0.307535  0.110083 -0.957759  \n",
       "1794  0.334953  1.162071  1.124031  0.669245 -1.612100  0.182303  0.166667  \n",
       "1795  0.014572  0.158465  1.686638  0.811822 -1.769181  0.774718 -0.135668  \n",
       "1796  1.825514  0.248320  0.643783  1.944213 -2.438979 -1.132762 -1.114587  \n",
       "\n",
       "[1797 rows x 21 columns]"
      ]
     },
     "execution_count": 200,
     "metadata": {},
     "output_type": "execute_result"
    }
   ],
   "source": [
    "a = ratio_pca.transform(scaled_x)\n",
    "pd.DataFrame(a)"
   ]
  },
  {
   "cell_type": "code",
   "execution_count": 201,
   "id": "2c8d3e2c",
   "metadata": {},
   "outputs": [
    {
     "data": {
      "text/plain": [
       "array([0.12033916, 0.09561054, 0.08444415, 0.06498408, 0.04860155,\n",
       "       0.0421412 , 0.03942083, 0.03389381, 0.02998221, 0.02932003,\n",
       "       0.02781805, 0.02577055, 0.02275303, 0.0222718 , 0.02165229,\n",
       "       0.01914167, 0.01775547, 0.01638069, 0.0159646 , 0.01489191,\n",
       "       0.0134797 ])"
      ]
     },
     "execution_count": 201,
     "metadata": {},
     "output_type": "execute_result"
    }
   ],
   "source": [
    "ratio_pca.explained_variance_ratio_"
   ]
  },
  {
   "cell_type": "code",
   "execution_count": 252,
   "id": "5f61b9de",
   "metadata": {},
   "outputs": [
    {
     "data": {
      "text/plain": [
       "21"
      ]
     },
     "execution_count": 252,
     "metadata": {},
     "output_type": "execute_result"
    }
   ],
   "source": [
    "len(ratio_pca.explained_variance_ratio_)"
   ]
  },
  {
   "cell_type": "code",
   "execution_count": 228,
   "id": "346d7a1a",
   "metadata": {},
   "outputs": [
    {
     "data": {
      "text/plain": [
       "array([0.12033916, 0.21594971, 0.30039385, 0.36537793, 0.41397948,\n",
       "       0.45612068, 0.49554151, 0.52943532, 0.55941753, 0.58873755,\n",
       "       0.61655561, 0.64232616, 0.66507919, 0.68735099, 0.70900328,\n",
       "       0.72814495, 0.74590042, 0.76228111, 0.77824572, 0.79313763,\n",
       "       0.80661732])"
      ]
     },
     "execution_count": 228,
     "metadata": {},
     "output_type": "execute_result"
    }
   ],
   "source": [
    "ratio_pca.explained_variance_ratio_.cumsum()"
   ]
  },
  {
   "cell_type": "code",
   "execution_count": 229,
   "id": "b8325e14",
   "metadata": {},
   "outputs": [
    {
     "data": {
      "text/plain": [
       "[<matplotlib.lines.Line2D at 0x7fc45ec80070>]"
      ]
     },
     "execution_count": 229,
     "metadata": {},
     "output_type": "execute_result"
    },
    {
     "data": {
      "image/png": "[encoded data removed]",
      "text/plain": [
       "<Figure size 432x288 with 1 Axes>"
      ]
     },
     "metadata": {
      "needs_background": "light"
     },
     "output_type": "display_data"
    }
   ],
   "source": [
    "plt.plot(ratio_pca.explained_variance_ratio_)\n",
    "plt.plot(ratio_pca.explained_variance_ratio_.cumsum(), linestyle='--')"
   ]
  },
  {
   "cell_type": "code",
   "execution_count": 230,
   "id": "df72be79",
   "metadata": {},
   "outputs": [
    {
     "data": {
      "text/plain": [
       "21"
      ]
     },
     "execution_count": 230,
     "metadata": {},
     "output_type": "execute_result"
    }
   ],
   "source": [
    "ratio_pca.n_components_"
   ]
  },
  {
   "cell_type": "code",
   "execution_count": 231,
   "id": "980bcba1",
   "metadata": {},
   "outputs": [],
   "source": [
    "# n개의 주성분을 사용.."
   ]
  },
  {
   "cell_type": "code",
   "execution_count": 232,
   "id": "3cf61c77",
   "metadata": {},
   "outputs": [
    {
     "data": {
      "text/plain": [
       "PCA(n_components=8)"
      ]
     },
     "execution_count": 232,
     "metadata": {},
     "output_type": "execute_result"
    }
   ],
   "source": [
    "n_comp_pca = PCA(n_components=8\n",
    "                )\n",
    "n_comp_pca.fit(scaled_x)"
   ]
  },
  {
   "cell_type": "code",
   "execution_count": 233,
   "id": "cb5f2a80",
   "metadata": {},
   "outputs": [
    {
     "data": {
      "text/plain": [
       "array([0.12033916, 0.09561054, 0.08444413, 0.06498406, 0.0486009 ,\n",
       "       0.04214031, 0.03941318, 0.0338823 ])"
      ]
     },
     "execution_count": 233,
     "metadata": {},
     "output_type": "execute_result"
    }
   ],
   "source": [
    "n_comp_pca.explained_variance_ratio_"
   ]
  },
  {
   "cell_type": "code",
   "execution_count": 234,
   "id": "43441b00",
   "metadata": {},
   "outputs": [
    {
     "data": {
      "text/plain": [
       "array([0.12033916, 0.2159497 , 0.30039383, 0.36537789, 0.41397879,\n",
       "       0.4561191 , 0.49553228, 0.52941458])"
      ]
     },
     "execution_count": 234,
     "metadata": {},
     "output_type": "execute_result"
    }
   ],
   "source": [
    "n_comp_pca.explained_variance_ratio_.cumsum()"
   ]
  },
  {
   "cell_type": "code",
   "execution_count": 235,
   "id": "5e99b05d",
   "metadata": {},
   "outputs": [
    {
     "data": {
      "text/plain": [
       "[<matplotlib.lines.Line2D at 0x7fc45ea5e640>]"
      ]
     },
     "execution_count": 235,
     "metadata": {},
     "output_type": "execute_result"
    },
    {
     "data": {
      "image/png": "[encoded data removed]",
      "text/plain": [
       "<Figure size 432x288 with 1 Axes>"
      ]
     },
     "metadata": {
      "needs_background": "light"
     },
     "output_type": "display_data"
    }
   ],
   "source": [
    "plt.plot(n_comp_pca.explained_variance_ratio_.cumsum())"
   ]
  },
  {
   "cell_type": "code",
   "execution_count": null,
   "id": "9e558964",
   "metadata": {},
   "outputs": [],
   "source": []
  },
  {
   "cell_type": "code",
   "execution_count": 236,
   "id": "7f9852bc",
   "metadata": {},
   "outputs": [],
   "source": [
    "# 시각화 : 2차원 또는 3차원 데이터까지 가능..\n",
    "# 64차원 scaled_x data를 2 차원 데이터로 차원을 축소해서 시각화하기.."
   ]
  },
  {
   "cell_type": "code",
   "execution_count": 267,
   "id": "02b95249",
   "metadata": {},
   "outputs": [
    {
     "data": {
      "text/plain": [
       "PCA(n_components=2)"
      ]
     },
     "execution_count": 267,
     "metadata": {},
     "output_type": "execute_result"
    }
   ],
   "source": [
    "n_comp_pca = PCA(n_components = 2)\n",
    "# viz_pca_latent = n_comp_pca.fit_transform(scaled_x)\n",
    "viz_pca_latent = n_comp_pca.fit(scaled_x)\n",
    "viz_pca_latent"
   ]
  },
  {
   "cell_type": "code",
   "execution_count": 255,
   "id": "557575c6",
   "metadata": {
    "collapsed": true
   },
   "outputs": [
    {
     "data": {
      "text/html": [
       "<div>\n",
       "<style scoped>\n",
       "    .dataframe tbody tr th:only-of-type {\n",
       "        vertical-align: middle;\n",
       "    }\n",
       "\n",
       "    .dataframe tbody tr th {\n",
       "        vertical-align: top;\n",
       "    }\n",
       "\n",
       "    .dataframe thead th {\n",
       "        text-align: right;\n",
       "    }\n",
       "</style>\n",
       "<table border=\"1\" class=\"dataframe\">\n",
       "  <thead>\n",
       "    <tr style=\"text-align: right;\">\n",
       "      <th></th>\n",
       "      <th>0</th>\n",
       "      <th>1</th>\n",
       "    </tr>\n",
       "  </thead>\n",
       "  <tbody>\n",
       "    <tr>\n",
       "      <th>0</th>\n",
       "      <td>1.914217</td>\n",
       "      <td>-0.954490</td>\n",
       "    </tr>\n",
       "    <tr>\n",
       "      <th>1</th>\n",
       "      <td>0.588982</td>\n",
       "      <td>0.924630</td>\n",
       "    </tr>\n",
       "    <tr>\n",
       "      <th>2</th>\n",
       "      <td>1.302013</td>\n",
       "      <td>-0.317012</td>\n",
       "    </tr>\n",
       "    <tr>\n",
       "      <th>3</th>\n",
       "      <td>-3.020777</td>\n",
       "      <td>-0.868794</td>\n",
       "    </tr>\n",
       "    <tr>\n",
       "      <th>4</th>\n",
       "      <td>4.528946</td>\n",
       "      <td>-1.093407</td>\n",
       "    </tr>\n",
       "    <tr>\n",
       "      <th>...</th>\n",
       "      <td>...</td>\n",
       "      <td>...</td>\n",
       "    </tr>\n",
       "    <tr>\n",
       "      <th>1792</th>\n",
       "      <td>0.104347</td>\n",
       "      <td>0.254952</td>\n",
       "    </tr>\n",
       "    <tr>\n",
       "      <th>1793</th>\n",
       "      <td>2.423216</td>\n",
       "      <td>-1.429616</td>\n",
       "    </tr>\n",
       "    <tr>\n",
       "      <th>1794</th>\n",
       "      <td>1.022600</td>\n",
       "      <td>-0.147920</td>\n",
       "    </tr>\n",
       "    <tr>\n",
       "      <th>1795</th>\n",
       "      <td>1.076067</td>\n",
       "      <td>-0.380935</td>\n",
       "    </tr>\n",
       "    <tr>\n",
       "      <th>1796</th>\n",
       "      <td>-1.257686</td>\n",
       "      <td>-2.227668</td>\n",
       "    </tr>\n",
       "  </tbody>\n",
       "</table>\n",
       "<p>1797 rows × 2 columns</p>\n",
       "</div>"
      ],
      "text/plain": [
       "             0         1\n",
       "0     1.914217 -0.954490\n",
       "1     0.588982  0.924630\n",
       "2     1.302013 -0.317012\n",
       "3    -3.020777 -0.868794\n",
       "4     4.528946 -1.093407\n",
       "...        ...       ...\n",
       "1792  0.104347  0.254952\n",
       "1793  2.423216 -1.429616\n",
       "1794  1.022600 -0.147920\n",
       "1795  1.076067 -0.380935\n",
       "1796 -1.257686 -2.227668\n",
       "\n",
       "[1797 rows x 2 columns]"
      ]
     },
     "execution_count": 255,
     "metadata": {},
     "output_type": "execute_result"
    }
   ],
   "source": [
    "pd.DataFrame(viz_pca_latent)"
   ]
  },
  {
   "cell_type": "code",
   "execution_count": 268,
   "id": "424c5b9a",
   "metadata": {},
   "outputs": [
    {
     "data": {
      "text/plain": [
       "array([0.12033916, 0.2159497 ])"
      ]
     },
     "execution_count": 268,
     "metadata": {},
     "output_type": "execute_result"
    }
   ],
   "source": [
    "viz_pca_latent.explained_variance_ratio_.cumsum()"
   ]
  },
  {
   "cell_type": "code",
   "execution_count": 238,
   "id": "6bff1d78",
   "metadata": {},
   "outputs": [
    {
     "data": {
      "text/plain": [
       "array([0, 1, 2, ..., 8, 9, 8])"
      ]
     },
     "execution_count": 238,
     "metadata": {},
     "output_type": "execute_result"
    }
   ],
   "source": [
    "y"
   ]
  },
  {
   "cell_type": "code",
   "execution_count": 239,
   "id": "0307947e",
   "metadata": {},
   "outputs": [],
   "source": [
    "def visualize_latent_space_with_label(latent):\n",
    "    for label in np.unique(y):\n",
    "        index = y == label\n",
    "        comp_x = latent[index, 0]\n",
    "        comp_y = latent[index, 1]\n",
    "        plt.scatter(comp_x, comp_y)#, c='{}'.format(label), label=label)\n",
    "    plt.legend()"
   ]
  },
  {
   "cell_type": "code",
   "execution_count": 240,
   "id": "ca287717",
   "metadata": {},
   "outputs": [
    {
     "name": "stderr",
     "output_type": "stream",
     "text": [
      "No handles with labels found to put in legend.\n"
     ]
    },
    {
     "data": {
      "image/png": "[encoded data removed]",
      "text/plain": [
       "<Figure size 432x288 with 1 Axes>"
      ]
     },
     "metadata": {
      "needs_background": "light"
     },
     "output_type": "display_data"
    }
   ],
   "source": [
    "visualize_latent_space_with_label(viz_pca_latent)"
   ]
  },
  {
   "cell_type": "code",
   "execution_count": null,
   "id": "e2eb60cc",
   "metadata": {},
   "outputs": [],
   "source": []
  },
  {
   "cell_type": "code",
   "execution_count": 241,
   "id": "cfded3e3",
   "metadata": {},
   "outputs": [],
   "source": [
    "from sklearn.ensemble import RandomForestClassifier\n",
    "from sklearn.model_selection import train_test_split"
   ]
  },
  {
   "cell_type": "code",
   "execution_count": 242,
   "id": "ad954f5a",
   "metadata": {},
   "outputs": [
    {
     "data": {
      "text/plain": [
       "0.9777777777777777"
      ]
     },
     "execution_count": 242,
     "metadata": {},
     "output_type": "execute_result"
    }
   ],
   "source": [
    "rfc = RandomForestClassifier()\n",
    "\n",
    "x_train, x_test, y_train, y_test = train_test_split(x,y, random_state=111)\n",
    "\n",
    "rfc.fit(x_train, y_train)\n",
    "rfc.score(x_test, y_test)"
   ]
  },
  {
   "cell_type": "code",
   "execution_count": 243,
   "id": "e80759a5",
   "metadata": {},
   "outputs": [
    {
     "data": {
      "text/plain": [
       "0.5444444444444444"
      ]
     },
     "execution_count": 243,
     "metadata": {},
     "output_type": "execute_result"
    }
   ],
   "source": [
    "rfc = RandomForestClassifier()\n",
    "\n",
    "x_train, x_test, y_train, y_test = train_test_split(viz_pca_latent,y, random_state=111)\n",
    "\n",
    "rfc.fit(x_train, y_train)\n",
    "rfc.score(x_test, y_test)"
   ]
  },
  {
   "cell_type": "code",
   "execution_count": null,
   "id": "834d7f9d",
   "metadata": {},
   "outputs": [],
   "source": []
  },
  {
   "cell_type": "code",
   "execution_count": 244,
   "id": "bf6b4774",
   "metadata": {},
   "outputs": [
    {
     "data": {
      "text/plain": [
       "0.9533333333333334"
      ]
     },
     "execution_count": 244,
     "metadata": {},
     "output_type": "execute_result"
    }
   ],
   "source": [
    "n_comp_pca = PCA(n_components = 30)\n",
    "viz_pca_latent = n_comp_pca.fit_transform(scaled_x)\n",
    "\n",
    "rfc = RandomForestClassifier()\n",
    "\n",
    "x_train, x_test, y_train, y_test = train_test_split(viz_pca_latent,y, random_state=111)\n",
    "\n",
    "rfc.fit(x_train, y_train)\n",
    "rfc.score(x_test, y_test)"
   ]
  },
  {
   "cell_type": "code",
   "execution_count": null,
   "id": "6405773f",
   "metadata": {},
   "outputs": [],
   "source": []
  }
 ],
 "metadata": {
  "kernelspec": {
   "display_name": "Python 3 (ipykernel)",
   "language": "python",
   "name": "python3"
  },
  "language_info": {
   "codemirror_mode": {
    "name": "ipython",
    "version": 3
   },
   "file_extension": ".py",
   "mimetype": "text/x-python",
   "name": "python",
   "nbconvert_exporter": "python",
   "pygments_lexer": "ipython3",
   "version": "3.9.7"
  }
 },
 "nbformat": 4,
 "nbformat_minor": 5
}
