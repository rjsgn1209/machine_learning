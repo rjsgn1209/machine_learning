{
 "cells": [
  {
   "cell_type": "code",
   "execution_count": 68,
   "id": "630c3148",
   "metadata": {},
   "outputs": [],
   "source": [
    "import pandas as pd\n",
    "import numpy as np\n",
    "import matplotlib.pyplot as plt\n",
    "import seaborn as sns"
   ]
  },
  {
   "cell_type": "code",
   "execution_count": null,
   "id": "c5be3b85",
   "metadata": {},
   "outputs": [],
   "source": []
  },
  {
   "cell_type": "code",
   "execution_count": 69,
   "id": "0cba46c2",
   "metadata": {},
   "outputs": [],
   "source": [
    "from sklearn.datasets import load_digits\n",
    "from sklearn.model_selection import train_test_split\n",
    "from sklearn import datasets\n",
    "import mglearn\n",
    "from IPython.display import display"
   ]
  },
  {
   "cell_type": "code",
   "execution_count": 70,
   "id": "304c0698",
   "metadata": {},
   "outputs": [],
   "source": [
    "digits = load_digits()"
   ]
  },
  {
   "cell_type": "code",
   "execution_count": 71,
   "id": "3c4c0e56",
   "metadata": {},
   "outputs": [],
   "source": [
    "x = digits.data\n",
    "y = digits.target"
   ]
  },
  {
   "cell_type": "code",
   "execution_count": 72,
   "id": "121dca5a",
   "metadata": {},
   "outputs": [
    {
     "data": {
      "text/plain": [
       "(1797, 64)"
      ]
     },
     "execution_count": 72,
     "metadata": {},
     "output_type": "execute_result"
    }
   ],
   "source": [
    "x.shape"
   ]
  },
  {
   "cell_type": "code",
   "execution_count": 73,
   "id": "74e6a8c7",
   "metadata": {},
   "outputs": [
    {
     "data": {
      "text/plain": [
       "(1797,)"
      ]
     },
     "execution_count": 73,
     "metadata": {},
     "output_type": "execute_result"
    }
   ],
   "source": [
    "y.shape"
   ]
  },
  {
   "cell_type": "code",
   "execution_count": null,
   "id": "2ac07837",
   "metadata": {},
   "outputs": [],
   "source": []
  },
  {
   "cell_type": "code",
   "execution_count": 74,
   "id": "e4743ca8",
   "metadata": {},
   "outputs": [
    {
     "data": {
      "text/plain": [
       "array([[ 0.,  0.,  0.,  4., 15., 12.,  0.,  0.],\n",
       "       [ 0.,  0.,  3., 16., 15., 14.,  0.,  0.],\n",
       "       [ 0.,  0.,  8., 13.,  8., 16.,  0.,  0.],\n",
       "       [ 0.,  0.,  1.,  6., 15., 11.,  0.,  0.],\n",
       "       [ 0.,  1.,  8., 13., 15.,  1.,  0.,  0.],\n",
       "       [ 0.,  9., 16., 16.,  5.,  0.,  0.,  0.],\n",
       "       [ 0.,  3., 13., 16., 16., 11.,  5.,  0.],\n",
       "       [ 0.,  0.,  0.,  3., 11., 16.,  9.,  0.]])"
      ]
     },
     "execution_count": 74,
     "metadata": {},
     "output_type": "execute_result"
    }
   ],
   "source": [
    "x[2].reshape(8,8)"
   ]
  },
  {
   "cell_type": "code",
   "execution_count": 75,
   "id": "d26bf0b3",
   "metadata": {},
   "outputs": [
    {
     "data": {
      "text/plain": [
       "<matplotlib.image.AxesImage at 0x1b0c180d9d0>"
      ]
     },
     "execution_count": 75,
     "metadata": {},
     "output_type": "execute_result"
    },
    {
     "data": {
      "image/png": "[encoded data removed]",
      "text/plain": [
       "<Figure size 432x288 with 1 Axes>"
      ]
     },
     "metadata": {
      "needs_background": "light"
     },
     "output_type": "display_data"
    }
   ],
   "source": [
    "plt.imshow(x[55].reshape(8,8))"
   ]
  },
  {
   "cell_type": "code",
   "execution_count": 76,
   "id": "8eddf2dc",
   "metadata": {},
   "outputs": [
    {
     "data": {
      "text/plain": [
       "0"
      ]
     },
     "execution_count": 76,
     "metadata": {},
     "output_type": "execute_result"
    }
   ],
   "source": [
    "y[55]"
   ]
  },
  {
   "cell_type": "code",
   "execution_count": 77,
   "id": "4f5c7d8a",
   "metadata": {},
   "outputs": [
    {
     "data": {
      "text/plain": [
       "3    183\n",
       "1    182\n",
       "5    182\n",
       "4    181\n",
       "6    181\n",
       "9    180\n",
       "7    179\n",
       "0    178\n",
       "2    177\n",
       "8    174\n",
       "dtype: int64"
      ]
     },
     "execution_count": 77,
     "metadata": {},
     "output_type": "execute_result"
    }
   ],
   "source": [
    "pd.Series(y).value_counts()"
   ]
  },
  {
   "cell_type": "code",
   "execution_count": null,
   "id": "c655fa00",
   "metadata": {},
   "outputs": [],
   "source": []
  },
  {
   "cell_type": "code",
   "execution_count": 78,
   "id": "b3df7ec8",
   "metadata": {},
   "outputs": [],
   "source": [
    " y = y == 9"
   ]
  },
  {
   "cell_type": "code",
   "execution_count": 79,
   "id": "f311082f",
   "metadata": {},
   "outputs": [
    {
     "data": {
      "text/plain": [
       "False    0.899833\n",
       "True     0.100167\n",
       "dtype: float64"
      ]
     },
     "execution_count": 79,
     "metadata": {},
     "output_type": "execute_result"
    }
   ],
   "source": [
    "pd.Series(y).value_counts()/len(y)  # imbalanced dataset"
   ]
  },
  {
   "cell_type": "code",
   "execution_count": null,
   "id": "cd572719",
   "metadata": {},
   "outputs": [],
   "source": []
  },
  {
   "cell_type": "code",
   "execution_count": 80,
   "id": "2f04438c",
   "metadata": {},
   "outputs": [],
   "source": [
    "x_train, x_test, y_train, y_test = train_test_split(x,y, random_state=111)"
   ]
  },
  {
   "cell_type": "code",
   "execution_count": null,
   "id": "a3812efa",
   "metadata": {},
   "outputs": [],
   "source": []
  },
  {
   "cell_type": "code",
   "execution_count": 81,
   "id": "46a947d1",
   "metadata": {},
   "outputs": [],
   "source": [
    "from sklearn.dummy import DummyClassifier\n",
    "\n",
    "# 다수의 클래스로 예측하는 classifier생성 - 위의 데이터에 대해 100% False로만 예측\n",
    "dummy_majority = DummyClassifier(strategy='most_frequent').fit(x_train, y_train)"
   ]
  },
  {
   "cell_type": "code",
   "execution_count": 82,
   "id": "f03fd4cb",
   "metadata": {},
   "outputs": [
    {
     "data": {
      "text/plain": [
       "array([False, False, False, False, False, False, False, False, False,\n",
       "       False, False, False, False, False, False, False, False, False,\n",
       "       False, False, False, False, False, False, False, False, False,\n",
       "       False, False, False, False, False, False, False, False, False,\n",
       "       False, False, False, False, False, False, False, False, False,\n",
       "       False, False, False, False, False, False, False, False, False,\n",
       "       False, False, False, False, False, False, False, False, False,\n",
       "       False, False, False, False, False, False, False, False, False,\n",
       "       False, False, False, False, False, False, False, False, False,\n",
       "       False, False, False, False, False, False, False, False, False,\n",
       "       False, False, False, False, False, False, False, False, False,\n",
       "       False, False, False, False, False, False, False, False, False,\n",
       "       False, False, False, False, False, False, False, False, False,\n",
       "       False, False, False, False, False, False, False, False, False,\n",
       "       False, False, False, False, False, False, False, False, False,\n",
       "       False, False, False, False, False, False, False, False, False,\n",
       "       False, False, False, False, False, False, False, False, False,\n",
       "       False, False, False, False, False, False, False, False, False,\n",
       "       False, False, False, False, False, False, False, False, False,\n",
       "       False, False, False, False, False, False, False, False, False,\n",
       "       False, False, False, False, False, False, False, False, False,\n",
       "       False, False, False, False, False, False, False, False, False,\n",
       "       False, False, False, False, False, False, False, False, False,\n",
       "       False, False, False, False, False, False, False, False, False,\n",
       "       False, False, False, False, False, False, False, False, False,\n",
       "       False, False, False, False, False, False, False, False, False,\n",
       "       False, False, False, False, False, False, False, False, False,\n",
       "       False, False, False, False, False, False, False, False, False,\n",
       "       False, False, False, False, False, False, False, False, False,\n",
       "       False, False, False, False, False, False, False, False, False,\n",
       "       False, False, False, False, False, False, False, False, False,\n",
       "       False, False, False, False, False, False, False, False, False,\n",
       "       False, False, False, False, False, False, False, False, False,\n",
       "       False, False, False, False, False, False, False, False, False,\n",
       "       False, False, False, False, False, False, False, False, False,\n",
       "       False, False, False, False, False, False, False, False, False,\n",
       "       False, False, False, False, False, False, False, False, False,\n",
       "       False, False, False, False, False, False, False, False, False,\n",
       "       False, False, False, False, False, False, False, False, False,\n",
       "       False, False, False, False, False, False, False, False, False,\n",
       "       False, False, False, False, False, False, False, False, False,\n",
       "       False, False, False, False, False, False, False, False, False,\n",
       "       False, False, False, False, False, False, False, False, False,\n",
       "       False, False, False, False, False, False, False, False, False,\n",
       "       False, False, False, False, False, False, False, False, False,\n",
       "       False, False, False, False, False, False, False, False, False,\n",
       "       False, False, False, False, False, False, False, False, False,\n",
       "       False, False, False, False, False, False, False, False, False,\n",
       "       False, False, False, False, False, False, False, False, False,\n",
       "       False, False, False, False, False, False, False, False, False])"
      ]
     },
     "execution_count": 82,
     "metadata": {},
     "output_type": "execute_result"
    }
   ],
   "source": [
    "preds = dummy_majority.predict(x_test)\n",
    "preds"
   ]
  },
  {
   "cell_type": "code",
   "execution_count": 83,
   "id": "f0374824",
   "metadata": {},
   "outputs": [
    {
     "data": {
      "text/plain": [
       "0.8955555555555555"
      ]
     },
     "execution_count": 83,
     "metadata": {},
     "output_type": "execute_result"
    }
   ],
   "source": [
    "np.mean(y_test == preds)"
   ]
  },
  {
   "cell_type": "code",
   "execution_count": 84,
   "id": "a176e9ef",
   "metadata": {},
   "outputs": [
    {
     "data": {
      "text/plain": [
       "0.8955555555555555"
      ]
     },
     "execution_count": 84,
     "metadata": {},
     "output_type": "execute_result"
    }
   ],
   "source": [
    "dummy_majority.score(x_test, y_test)\n",
    "\n",
    "# 전혀 분류능력이 없는 classifier가 90%의 accuracy score를 기록.. <= imbalanced data\n",
    "# => accuracy의 한계.. => precision, recall, f1_score, auc_score...."
   ]
  },
  {
   "cell_type": "code",
   "execution_count": null,
   "id": "7f15bce4",
   "metadata": {},
   "outputs": [],
   "source": []
  },
  {
   "cell_type": "code",
   "execution_count": 85,
   "id": "bca924ae",
   "metadata": {},
   "outputs": [
    {
     "name": "stdout",
     "output_type": "stream",
     "text": [
      "Tree : 0.96 Knn : 1.0 SVC : 1.0 dummy : 0.9\n"
     ]
    }
   ],
   "source": [
    "# accuracy\n",
    "\n",
    "from sklearn.tree import DecisionTreeClassifier\n",
    "from sklearn.neighbors import KNeighborsClassifier\n",
    "from sklearn.svm import SVC\n",
    "\n",
    "tree = DecisionTreeClassifier()\n",
    "knn = KNeighborsClassifier()\n",
    "svc = SVC()\n",
    "\n",
    "tree.fit(x_train, y_train)\n",
    "knn.fit(x_train, y_train)\n",
    "svc.fit(x_train, y_train)\n",
    "\n",
    "tree_acc = tree.score(x_test, y_test)\n",
    "knn_acc = knn.score(x_test, y_test)\n",
    "svc_acc = svc.score(x_test, y_test)\n",
    "dummy_acc = dummy_majority.score(x_test, y_test)\n",
    "\n",
    "print('Tree :', round(tree_acc,2), 'Knn :', round(knn_acc,2), \\\n",
    "      'SVC :', round(svc_acc,2), 'dummy :', round(dummy_acc,2))"
   ]
  },
  {
   "cell_type": "code",
   "execution_count": null,
   "id": "0addfe25",
   "metadata": {},
   "outputs": [],
   "source": []
  },
  {
   "cell_type": "code",
   "execution_count": 86,
   "id": "79498846",
   "metadata": {},
   "outputs": [],
   "source": [
    "from sklearn.metrics import f1_score"
   ]
  },
  {
   "cell_type": "code",
   "execution_count": 87,
   "id": "5068b5fc",
   "metadata": {},
   "outputs": [
    {
     "name": "stdout",
     "output_type": "stream",
     "text": [
      "Tree : 0.8 Knn : 0.99 SVC : 0.99 dummy : 0.0\n"
     ]
    }
   ],
   "source": [
    "# f1_score\n",
    "\n",
    "tree = DecisionTreeClassifier()\n",
    "knn = KNeighborsClassifier()\n",
    "svc = SVC()\n",
    "\n",
    "tree.fit(x_train, y_train)\n",
    "knn.fit(x_train, y_train)\n",
    "svc.fit(x_train, y_train)\n",
    "\n",
    "tree_preds = tree.predict(x_test)\n",
    "knn_preds = knn.predict(x_test)\n",
    "svc_preds = svc.predict(x_test)\n",
    "dummy_preds = dummy_majority.predict(x_test)\n",
    "\n",
    "tree_f1 = f1_score(tree_preds, y_test)\n",
    "knn_f1 = f1_score(knn_preds, y_test)\n",
    "svc_f1 = f1_score(svc_preds, y_test)\n",
    "dummy_f1 = f1_score(dummy_preds, y_test)\n",
    "\n",
    "print('Tree :', round(tree_f1,2), 'Knn :', round(knn_f1,2), \\\n",
    "      'SVC :', round(svc_f1,2), 'dummy :', round(dummy_f1,2))"
   ]
  },
  {
   "cell_type": "code",
   "execution_count": null,
   "id": "3e0ba0d4",
   "metadata": {},
   "outputs": [],
   "source": []
  },
  {
   "cell_type": "code",
   "execution_count": 90,
   "id": "eeb0c53a",
   "metadata": {},
   "outputs": [],
   "source": [
    "from sklearn.metrics import classification_report, confusion_matrix"
   ]
  },
  {
   "cell_type": "code",
   "execution_count": 94,
   "id": "94698efc",
   "metadata": {},
   "outputs": [
    {
     "data": {
      "text/plain": [
       "array([[393,   9],\n",
       "       [ 10,  38]], dtype=int64)"
      ]
     },
     "execution_count": 94,
     "metadata": {},
     "output_type": "execute_result"
    }
   ],
   "source": [
    "cm = confusion_matrix(tree_preds, y_test)\n",
    "cm"
   ]
  },
  {
   "cell_type": "code",
   "execution_count": 101,
   "id": "007bc75a",
   "metadata": {},
   "outputs": [],
   "source": [
    "# accuracy = (cm[0,0] + cm[1,1]) / cm.sum()\n",
    "\n",
    "# # 0 class\n",
    "# precision = cm[0,0]/cm[:,0].sum()\n",
    "# recall = cm[0,0]/cm[0,:].sum()"
   ]
  },
  {
   "cell_type": "code",
   "execution_count": null,
   "id": "3c4015eb",
   "metadata": {},
   "outputs": [],
   "source": []
  },
  {
   "cell_type": "code",
   "execution_count": 89,
   "id": "a0a57fc9",
   "metadata": {},
   "outputs": [
    {
     "name": "stdout",
     "output_type": "stream",
     "text": [
      "              precision    recall  f1-score   support\n",
      "\n",
      "       False       0.98      0.98      0.98       402\n",
      "        True       0.81      0.79      0.80        48\n",
      "\n",
      "    accuracy                           0.96       450\n",
      "   macro avg       0.89      0.88      0.89       450\n",
      "weighted avg       0.96      0.96      0.96       450\n",
      "\n"
     ]
    }
   ],
   "source": [
    "print(classification_report(tree_preds, y_test))"
   ]
  },
  {
   "cell_type": "code",
   "execution_count": null,
   "id": "649e203c",
   "metadata": {},
   "outputs": [],
   "source": []
  },
  {
   "cell_type": "code",
   "execution_count": null,
   "id": "52c12482",
   "metadata": {},
   "outputs": [],
   "source": []
  },
  {
   "cell_type": "code",
   "execution_count": null,
   "id": "f5f770db",
   "metadata": {},
   "outputs": [],
   "source": [
    "# 모든 머신러닝 모델은 내부적으로 확률값을 리턴.."
   ]
  },
  {
   "cell_type": "code",
   "execution_count": 56,
   "id": "75f0d035",
   "metadata": {
    "collapsed": true
   },
   "outputs": [
    {
     "name": "stdout",
     "output_type": "stream",
     "text": [
      "[[ -1.58341978 -22.37156225]\n",
      " [ -4.17570775  -5.96493849]\n",
      " [-13.82618705 -14.40188785]\n",
      " [  0.71057905  -3.81896754]\n",
      " [-16.18799493 -17.86041252]\n",
      " [ -5.04648232 -13.08413534]\n",
      " [ -2.38421045   4.24907617]\n",
      " [ -7.62667962  -7.02174225]\n",
      " [ -4.33194738 -16.93515838]\n",
      " [-10.46971421  -3.7552367 ]] [0 0 0 0 0 0 0 0 0 0]\n"
     ]
    }
   ],
   "source": [
    "from mglearn.datasets import make_blobs\n",
    "\n",
    "x, y = make_blobs(n_samples=(400,5), centers=2, cluster_std=[7, 2], random_state=11)\n",
    "print(x[:10],y[:10])"
   ]
  },
  {
   "cell_type": "code",
   "execution_count": 57,
   "id": "6b6d5419",
   "metadata": {},
   "outputs": [],
   "source": [
    "x_train, x_test, y_train, y_test = train_test_split(x,y, random_state=111)"
   ]
  },
  {
   "cell_type": "code",
   "execution_count": 59,
   "id": "c01bf29b",
   "metadata": {
    "collapsed": true
   },
   "outputs": [
    {
     "data": {
      "text/plain": [
       "array([0, 0, 0, 0, 0, 0, 0, 0, 0, 0, 0, 0, 0, 0, 0, 0, 0, 0, 0, 0, 0, 0,\n",
       "       0, 0, 0, 0, 0, 0, 0, 0, 0, 0, 0, 0, 0, 0, 0, 0, 0, 0, 0, 0, 0, 0,\n",
       "       0, 0, 0, 0, 0, 0, 0, 0, 0, 0, 0, 0, 0, 0, 0, 0, 0, 0, 0, 0, 0, 0,\n",
       "       0, 0, 0, 0, 0, 0, 0, 0, 0, 0, 0, 0, 0, 0, 0, 0, 0, 0, 0, 0, 0, 0,\n",
       "       0, 0, 0, 0, 0, 0, 0, 0, 0, 0, 0, 0, 0, 0])"
      ]
     },
     "execution_count": 59,
     "metadata": {},
     "output_type": "execute_result"
    }
   ],
   "source": [
    "svc = SVC(gamma=0.5, probability=True)\n",
    "svc.fit(x_train, y_train)\n",
    "preds= svc.predict(x_test)\n",
    "preds"
   ]
  },
  {
   "cell_type": "code",
   "execution_count": null,
   "id": "8b2342e9",
   "metadata": {},
   "outputs": [],
   "source": [
    "# sklearn에서 모델이 예측확률값을 리턴하는 함수..\n",
    "# 1. decision_function() - 0을 기준으로. svc\n",
    "# 2. predict_proba() - 0.5를 기준으로, 높은 확률값의 클래스. svc"
   ]
  },
  {
   "cell_type": "code",
   "execution_count": 61,
   "id": "639a5b4a",
   "metadata": {
    "collapsed": true
   },
   "outputs": [
    {
     "data": {
      "text/plain": [
       "array([-1.00042127, -0.98834083, -1.00017991, -1.00268102, -1.00259514,\n",
       "       -1.0097318 , -0.98095167, -0.99972821, -1.00114562, -0.99806483,\n",
       "       -0.99550865, -0.99961719, -0.99849675, -0.98472113, -0.99423151,\n",
       "       -0.99603354, -0.99907795, -0.99892433, -0.99827454, -0.99601774,\n",
       "       -0.9925531 , -0.99938851, -0.55276913, -0.99923388, -0.99996865,\n",
       "       -0.99892612, -0.99178177, -0.97920177, -0.99391665, -0.99821058,\n",
       "       -0.97968924, -1.00020803, -0.98653578, -0.99996991, -0.99592681,\n",
       "       -1.00038151, -1.00016914, -0.99484696, -1.00007618, -1.00023198,\n",
       "       -1.00127871, -1.00007277, -0.99350691, -0.98912015, -0.97884923,\n",
       "       -0.9934615 , -0.99424342, -0.98915669, -0.99371648, -1.00037992,\n",
       "       -0.99657723, -0.99981443, -0.97809583, -1.00127669, -0.99545891,\n",
       "       -1.00064909, -0.99691643, -0.98011279, -0.99466191, -0.9927486 ,\n",
       "       -0.98245218, -0.99870695, -0.98365529, -0.9927829 , -0.99880466,\n",
       "       -0.99993715, -0.9996613 , -0.99927742, -0.98167611, -1.00089225,\n",
       "       -0.98898447, -1.00194608, -0.99908946, -0.99757007, -0.98851902,\n",
       "       -1.08408283, -0.99185689, -0.99943224, -0.99992557, -0.99758258,\n",
       "       -0.99954431, -1.00096906, -0.98580211, -0.99428994, -0.99805884,\n",
       "       -0.99288868, -0.98130711, -1.00042502, -1.00011663, -0.99408925,\n",
       "       -0.99968208, -0.99884867, -0.99967334, -1.00075821, -0.97809584,\n",
       "       -0.99715313, -0.98766929, -0.98957893, -0.99850777, -1.00028977,\n",
       "       -0.99394016, -0.98928431])"
      ]
     },
     "execution_count": 61,
     "metadata": {},
     "output_type": "execute_result"
    }
   ],
   "source": [
    "svc.decision_function(x_test)  # 0보다 크면 1, 0보다 작으며 0으로 예측.."
   ]
  },
  {
   "cell_type": "code",
   "execution_count": 65,
   "id": "f1435dec",
   "metadata": {
    "collapsed": true
   },
   "outputs": [
    {
     "data": {
      "text/plain": [
       "array([[9.81323529e-01, 1.86764708e-02],\n",
       "       [9.91382250e-01, 8.61775025e-03],\n",
       "       [9.81609473e-01, 1.83905268e-02],\n",
       "       [9.78422753e-01, 2.15772467e-02],\n",
       "       [9.78540755e-01, 2.14592448e-02],\n",
       "       [9.66191912e-01, 3.38080881e-02],\n",
       "       [9.94633602e-01, 5.36639817e-03],\n",
       "       [9.82132980e-01, 1.78670201e-02],\n",
       "       [9.80438572e-01, 1.95614278e-02],\n",
       "       [9.83936180e-01, 1.60638203e-02],\n",
       "       [9.86360386e-01, 1.36396138e-02],\n",
       "       [9.82259365e-01, 1.77406345e-02],\n",
       "       [9.83486136e-01, 1.65138639e-02],\n",
       "       [9.93166644e-01, 6.83335560e-03],\n",
       "       [9.87431343e-01, 1.25686566e-02],\n",
       "       [9.85894296e-01, 1.41057040e-02],\n",
       "       [9.82860692e-01, 1.71393081e-02],\n",
       "       [9.83028262e-01, 1.69717384e-02],\n",
       "       [9.83719214e-01, 1.62807864e-02],\n",
       "       [9.85908554e-01, 1.40914463e-02],\n",
       "       [9.88712319e-01, 1.12876809e-02],\n",
       "       [9.82516894e-01, 1.74831060e-02],\n",
       "       [9.99999900e-01, 1.00000010e-07],\n",
       "       [9.82688922e-01, 1.73110783e-02],\n",
       "       [9.81856189e-01, 1.81438108e-02],\n",
       "       [9.83026314e-01, 1.69736856e-02],\n",
       "       [9.89256486e-01, 1.07435144e-02],\n",
       "       [9.95203152e-01, 4.79684832e-03],\n",
       "       [9.87682221e-01, 1.23177790e-02],\n",
       "       [9.83785687e-01, 1.62143127e-02],\n",
       "       [9.95050855e-01, 4.94914471e-03],\n",
       "       [9.81576379e-01, 1.84236214e-02],\n",
       "       [9.92323716e-01, 7.67628370e-03],\n",
       "       [9.81854729e-01, 1.81452707e-02],\n",
       "       [9.85990339e-01, 1.40096614e-02],\n",
       "       [9.81370933e-01, 1.86290672e-02],\n",
       "       [9.81622129e-01, 1.83778710e-02],\n",
       "       [9.86926140e-01, 1.30738601e-02],\n",
       "       [9.81731025e-01, 1.82689751e-02],\n",
       "       [9.81548148e-01, 1.84518524e-02],\n",
       "       [9.80271505e-01, 1.97284947e-02],\n",
       "       [9.81735010e-01, 1.82649895e-02],\n",
       "       [9.88001244e-01, 1.19987559e-02],\n",
       "       [9.90940933e-01, 9.05906670e-03],\n",
       "       [9.95310367e-01, 4.68963307e-03],\n",
       "       [9.88036086e-01, 1.19639136e-02],\n",
       "       [9.87421751e-01, 1.25782488e-02],\n",
       "       [9.90919694e-01, 9.08030645e-03],\n",
       "       [9.87839115e-01, 1.21608852e-02],\n",
       "       [9.81372820e-01, 1.86271802e-02],\n",
       "       [9.85394777e-01, 1.46052235e-02],\n",
       "       [9.82034211e-01, 1.79657891e-02],\n",
       "       [9.95531526e-01, 4.46847375e-03],\n",
       "       [9.80274054e-01, 1.97259460e-02],\n",
       "       [9.86403752e-01, 1.35962478e-02],\n",
       "       [9.81049567e-01, 1.89504333e-02],\n",
       "       [9.85074250e-01, 1.49257500e-02],\n",
       "       [9.94914611e-01, 5.08538884e-03],\n",
       "       [9.87080134e-01, 1.29198660e-02],\n",
       "       [9.88570079e-01, 1.14299206e-02],\n",
       "       [9.94091694e-01, 5.90830639e-03],\n",
       "       [9.83262594e-01, 1.67374056e-02],\n",
       "       [9.93617946e-01, 6.38205389e-03],\n",
       "       [9.88544939e-01, 1.14550611e-02],\n",
       "       [9.83157671e-01, 1.68423286e-02],\n",
       "       [9.81892687e-01, 1.81073133e-02],\n",
       "       [9.82209248e-01, 1.77907517e-02],\n",
       "       [9.82640659e-01, 1.73593413e-02],\n",
       "       [9.94378470e-01, 5.62153045e-03],\n",
       "       [9.80752760e-01, 1.92472403e-02],\n",
       "       [9.91019355e-01, 8.98064494e-03],\n",
       "       [9.79412138e-01, 2.05878620e-02],\n",
       "       [9.82848070e-01, 1.71519303e-02],\n",
       "       [9.84436715e-01, 1.55632847e-02],\n",
       "       [9.91283278e-01, 8.71672164e-03],\n",
       "       [1.99907272e-01, 8.00092728e-01],\n",
       "       [9.89204662e-01, 1.07953375e-02],\n",
       "       [9.82467932e-01, 1.75320682e-02],\n",
       "       [9.81906085e-01, 1.80939146e-02],\n",
       "       [9.84424250e-01, 1.55757496e-02],\n",
       "       [9.82341846e-01, 1.76581536e-02],\n",
       "       [9.80658043e-01, 1.93419574e-02],\n",
       "       [9.92676352e-01, 7.32364752e-03],\n",
       "       [9.87384226e-01, 1.26157741e-02],\n",
       "       [9.83942336e-01, 1.60576644e-02],\n",
       "       [9.88467065e-01, 1.15329352e-02],\n",
       "       [9.94509903e-01, 5.49009741e-03],\n",
       "       [9.81319046e-01, 1.86809535e-02],\n",
       "       [9.81683716e-01, 1.83162836e-02],\n",
       "       [9.87545323e-01, 1.24546768e-02],\n",
       "       [9.82185596e-01, 1.78144044e-02],\n",
       "       [9.83110194e-01, 1.68898061e-02],\n",
       "       [9.82195557e-01, 1.78044428e-02],\n",
       "       [9.80916932e-01, 1.90830683e-02],\n",
       "       [9.95531523e-01, 4.46847731e-03],\n",
       "       [9.84846442e-01, 1.51535581e-02],\n",
       "       [9.91745274e-01, 8.25472571e-03],\n",
       "       [9.90670657e-01, 9.32934343e-03],\n",
       "       [9.83474485e-01, 1.65255155e-02],\n",
       "       [9.81479861e-01, 1.85201392e-02],\n",
       "       [9.87663666e-01, 1.23363344e-02],\n",
       "       [9.90845131e-01, 9.15486945e-03]])"
      ]
     },
     "execution_count": 65,
     "metadata": {},
     "output_type": "execute_result"
    }
   ],
   "source": [
    "svc.predict_proba(x_test)  # 0.5보다 크면 1, 0.5보다 작으면 0으로 예측.."
   ]
  },
  {
   "cell_type": "code",
   "execution_count": 63,
   "id": "a52fb12e",
   "metadata": {
    "collapsed": true
   },
   "outputs": [
    {
     "data": {
      "text/plain": [
       "array([0, 0, 0, 0, 0, 0, 0, 0, 0, 0, 0, 0, 0, 0, 0, 0, 0, 0, 0, 0, 0, 0,\n",
       "       0, 0, 0, 0, 0, 0, 0, 0, 0, 0, 0, 0, 0, 0, 0, 0, 0, 0, 0, 0, 0, 0,\n",
       "       0, 0, 0, 0, 0, 0, 0, 0, 0, 0, 0, 0, 0, 0, 0, 0, 0, 0, 0, 0, 0, 0,\n",
       "       0, 0, 0, 0, 0, 0, 0, 0, 0, 1, 0, 0, 0, 0, 0, 0, 0, 0, 0, 0, 0, 0,\n",
       "       0, 0, 0, 0, 0, 0, 0, 0, 0, 0, 0, 0, 0, 0], dtype=int64)"
      ]
     },
     "execution_count": 63,
     "metadata": {},
     "output_type": "execute_result"
    }
   ],
   "source": [
    "svc.predict_proba(x_test).argmax(axis=1)"
   ]
  },
  {
   "cell_type": "code",
   "execution_count": null,
   "id": "48f2bb84",
   "metadata": {},
   "outputs": [],
   "source": []
  },
  {
   "cell_type": "code",
   "execution_count": 107,
   "id": "0b81a978",
   "metadata": {
    "collapsed": true
   },
   "outputs": [
    {
     "data": {
      "text/plain": [
       "array([0, 0, 0, 1, 0, 0, 0, 0, 0, 0, 0, 0, 0, 0, 0, 0, 0, 0, 0, 0, 0, 0,\n",
       "       0, 0, 0, 0, 0, 0, 0, 0, 0, 0, 0, 0, 0, 0, 0, 0, 0, 0, 0, 1, 0, 0,\n",
       "       0, 1, 0, 0, 0, 0, 0, 0, 0, 0, 0, 0, 0, 0, 0, 0, 0, 0, 1, 0, 0, 0,\n",
       "       0, 0, 0, 0, 0, 0, 0, 0, 0, 0, 0, 0, 0, 1, 0, 0, 0, 0, 0, 0, 0, 0,\n",
       "       0, 0, 0, 0, 0, 0, 0, 0, 0, 0, 0, 0, 0, 0, 0, 0, 0, 1, 0, 0, 0, 0,\n",
       "       0, 0, 0, 0, 0, 1, 0, 0, 0, 0, 0, 0, 1, 0, 0, 1, 0, 0, 0, 0, 0, 0,\n",
       "       0, 0, 0, 0, 0, 0, 0, 0, 0, 0, 0, 0, 0, 0, 0, 0, 0, 0, 0, 0, 0, 0,\n",
       "       0, 0, 0, 0, 0, 0, 0, 0, 0, 0, 0, 1, 0, 0, 1, 0, 0, 0, 0, 0, 0, 0,\n",
       "       0, 1, 0, 0, 0, 0, 0, 0, 0, 0, 0, 1, 0, 0, 0, 1, 0, 0, 0, 1, 0, 0,\n",
       "       0, 0, 0, 0, 1, 0, 0, 0, 0, 0, 0, 0, 0, 0, 0, 0, 0, 0, 0, 0, 0, 0,\n",
       "       0, 0, 0, 0, 1, 0, 0, 0, 0, 1, 0, 0, 0, 0, 0, 0, 0, 1, 0, 0, 0, 0,\n",
       "       1, 1, 0, 0, 0, 0, 0, 0, 0, 0, 1, 0, 0, 0, 0, 0, 1, 0, 0, 0, 0, 0,\n",
       "       0, 0, 0, 0, 0, 0, 0, 0, 0, 0, 0, 0, 0, 0, 0, 0, 0, 0, 0, 0, 0, 0,\n",
       "       1, 0, 0, 0, 0, 0, 0, 0, 1, 0, 0, 1, 0, 0, 0, 0, 0, 0, 0, 0, 0, 0,\n",
       "       0, 0, 0, 0, 0, 0, 0, 0, 0, 0, 0, 0, 0, 0, 1, 0, 0, 0, 0, 0, 0, 0,\n",
       "       1, 0, 0, 0, 0, 1, 0, 0, 0, 0, 0, 0, 0, 1, 0, 1, 0, 0, 0, 0, 0, 0,\n",
       "       0, 0, 0, 0, 1, 0, 0, 0, 0, 0, 0, 0, 0, 0, 1, 0, 0, 0, 0, 1, 0, 1,\n",
       "       0, 0, 0, 0, 0, 0, 0, 0, 0, 0, 0, 0, 0, 0, 0, 0, 0, 1, 0, 0, 0, 0,\n",
       "       1, 0, 0, 0, 0, 0, 0, 0, 0, 0, 0, 0, 0, 0, 0, 1, 1, 0, 0, 0, 0, 1,\n",
       "       0, 0, 0, 0, 1, 0, 0, 0, 0, 0, 0, 0, 0, 0, 0, 0, 0, 1, 0, 0, 1, 0,\n",
       "       0, 1, 1, 1, 0, 0, 0, 0, 0, 0])"
      ]
     },
     "execution_count": 107,
     "metadata": {},
     "output_type": "execute_result"
    }
   ],
   "source": [
    "np.where(svc.decision_function(x_test) > 0, 1, 0)"
   ]
  },
  {
   "cell_type": "code",
   "execution_count": null,
   "id": "bab0109c",
   "metadata": {},
   "outputs": [],
   "source": []
  },
  {
   "cell_type": "code",
   "execution_count": 108,
   "id": "98b124aa",
   "metadata": {},
   "outputs": [],
   "source": [
    "### 정밀도-재현율 곡선과 평균정밀도..\n",
    "\n",
    "# 다양한 예측확률 임계값을 통해 모델을 평가하는 방법\n",
    "# 임계값이 변화함에 따라 정밀도와 재현율값의 변화를 그래프로 나타낸다..\n",
    "# precision_recall_curve"
   ]
  },
  {
   "cell_type": "code",
   "execution_count": 121,
   "id": "cbb63087",
   "metadata": {},
   "outputs": [],
   "source": [
    "import warnings\n",
    "warnings.filterwarnings(action='ignore') "
   ]
  },
  {
   "cell_type": "code",
   "execution_count": 122,
   "id": "831dc91e",
   "metadata": {},
   "outputs": [],
   "source": [
    "import matplotlib as mpl\n",
    "import matplotlib.font_manager as fm\n",
    "\n",
    "mpl.rcParams['axes.unicode_minus'] = False\n",
    "\n",
    "path = 'C:/Windows/Fonts/malgun.ttf'\n",
    "font_name = fm.FontProperties(fname=path, size=50).get_name()\n",
    "plt.rc('font', family=font_name)"
   ]
  },
  {
   "cell_type": "code",
   "execution_count": 110,
   "id": "25cb2008",
   "metadata": {},
   "outputs": [],
   "source": [
    "from sklearn.datasets import make_blobs\n",
    "x,y = make_blobs(n_samples=10000, centers=2, n_features=2, \\\n",
    "                 cluster_std=[1.2,1], random_state=0)"
   ]
  },
  {
   "cell_type": "code",
   "execution_count": 111,
   "id": "24484133",
   "metadata": {},
   "outputs": [
    {
     "data": {
      "text/plain": [
       "array([[0.775567  , 3.57894762],\n",
       "       [1.21239419, 5.4673358 ],\n",
       "       [2.81560514, 6.06701785],\n",
       "       [3.00805773, 0.69934352],\n",
       "       [2.00577879, 5.67310957]])"
      ]
     },
     "execution_count": 111,
     "metadata": {},
     "output_type": "execute_result"
    }
   ],
   "source": [
    "x[:5]"
   ]
  },
  {
   "cell_type": "code",
   "execution_count": 112,
   "id": "11ff80f9",
   "metadata": {},
   "outputs": [
    {
     "data": {
      "text/plain": [
       "array([0, 0, 0, 1, 0])"
      ]
     },
     "execution_count": 112,
     "metadata": {},
     "output_type": "execute_result"
    }
   ],
   "source": [
    "y[:5]"
   ]
  },
  {
   "cell_type": "code",
   "execution_count": 113,
   "id": "0b3e8db9",
   "metadata": {
    "collapsed": true
   },
   "outputs": [
    {
     "data": {
      "text/plain": [
       "<matplotlib.collections.PathCollection at 0x1b0c158d1f0>"
      ]
     },
     "execution_count": 113,
     "metadata": {},
     "output_type": "execute_result"
    },
    {
     "data": {
      "image/png": "[encoded data removed]",
      "text/plain": [
       "<Figure size 432x288 with 1 Axes>"
      ]
     },
     "metadata": {
      "needs_background": "light"
     },
     "output_type": "display_data"
    }
   ],
   "source": [
    "plt.scatter(x[:,0], x[:,1])"
   ]
  },
  {
   "cell_type": "code",
   "execution_count": null,
   "id": "8e3b40ee",
   "metadata": {},
   "outputs": [],
   "source": []
  },
  {
   "cell_type": "code",
   "execution_count": 114,
   "id": "9e6ca199",
   "metadata": {},
   "outputs": [],
   "source": [
    "x_train, x_test, y_train, y_test =train_test_split(x,y, random_state=111)"
   ]
  },
  {
   "cell_type": "code",
   "execution_count": null,
   "id": "e4318aff",
   "metadata": {},
   "outputs": [],
   "source": []
  },
  {
   "cell_type": "code",
   "execution_count": 115,
   "id": "92d7a435",
   "metadata": {},
   "outputs": [],
   "source": [
    "from sklearn.svm import SVC\n",
    "svc = SVC(gamma=0.05).fit(x_train, y_train)"
   ]
  },
  {
   "cell_type": "code",
   "execution_count": null,
   "id": "0f4b1a1e",
   "metadata": {},
   "outputs": [],
   "source": []
  },
  {
   "cell_type": "code",
   "execution_count": 119,
   "id": "af609a23",
   "metadata": {},
   "outputs": [],
   "source": [
    "from sklearn.metrics import precision_recall_curve\n",
    "\n",
    "precision, recall, thresholds = precision_recall_curve(y_test, \\\n",
    "                                                       svc.decision_function(x_test))"
   ]
  },
  {
   "cell_type": "code",
   "execution_count": 123,
   "id": "2b819a29",
   "metadata": {
    "collapsed": true
   },
   "outputs": [
    {
     "data": {
      "text/plain": [
       "Text(0, 0.5, '재현율')"
      ]
     },
     "execution_count": 123,
     "metadata": {},
     "output_type": "execute_result"
    },
    {
     "data": {
      "image/png": "[encoded data removed]",
      "text/plain": [
       "<Figure size 432x288 with 1 Axes>"
      ]
     },
     "metadata": {
      "needs_background": "light"
     },
     "output_type": "display_data"
    }
   ],
   "source": [
    "plt.plot(precision, recall, label='정밀도-재현율 곡선')\n",
    "plt.xlabel('정밀도')\n",
    "plt.ylabel('재현율')\n",
    "\n",
    "# 정밀도가 높아지면 재현율을 낮아지고, 재현율이 높아지면 정밀도가 낮아진다..\n",
    "# 좋은 모델은 모든 임계값 수준에서 정밀도와 재현율이 동시에 높은 모델이다..\n",
    "# 정밀도-재현율 곡선의 아랫부분 면적이 클수록 좋은 모델\n",
    "# 정밀도-재현율 곡선의 아래 면적 : average_precision_score()"
   ]
  },
  {
   "cell_type": "code",
   "execution_count": 124,
   "id": "0d59dc3d",
   "metadata": {},
   "outputs": [
    {
     "data": {
      "text/plain": [
       "0.9885880392185753"
      ]
     },
     "execution_count": 124,
     "metadata": {},
     "output_type": "execute_result"
    }
   ],
   "source": [
    "from sklearn.metrics import average_precision_score\n",
    "average_precision_score(y_test, svc.decision_function(x_test))"
   ]
  },
  {
   "cell_type": "code",
   "execution_count": null,
   "id": "12cc2ca9",
   "metadata": {},
   "outputs": [],
   "source": []
  },
  {
   "cell_type": "code",
   "execution_count": 125,
   "id": "73accb27",
   "metadata": {},
   "outputs": [
    {
     "data": {
      "text/plain": [
       "RandomForestClassifier(random_state=111)"
      ]
     },
     "execution_count": 125,
     "metadata": {},
     "output_type": "execute_result"
    }
   ],
   "source": [
    "from sklearn.ensemble import RandomForestClassifier\n",
    "\n",
    "rfc = RandomForestClassifier(n_estimators = 100, random_state=111)\n",
    "rfc.fit(x_train, y_train)"
   ]
  },
  {
   "cell_type": "code",
   "execution_count": 126,
   "id": "2a2ceea0",
   "metadata": {
    "collapsed": true
   },
   "outputs": [
    {
     "data": {
      "text/plain": [
       "array([[0.  , 1.  ],\n",
       "       [0.  , 1.  ],\n",
       "       [0.01, 0.99],\n",
       "       ...,\n",
       "       [0.  , 1.  ],\n",
       "       [1.  , 0.  ],\n",
       "       [1.  , 0.  ]])"
      ]
     },
     "execution_count": 126,
     "metadata": {},
     "output_type": "execute_result"
    }
   ],
   "source": [
    "rfc.predict_proba(x_test)"
   ]
  },
  {
   "cell_type": "code",
   "execution_count": 127,
   "id": "d7930366",
   "metadata": {},
   "outputs": [],
   "source": [
    "precision_rfc, recall_rfc, thresholds_rfc = \\\n",
    "        precision_recall_curve(y_test, rfc.predict_proba(x_test)[:,1])"
   ]
  },
  {
   "cell_type": "code",
   "execution_count": 130,
   "id": "fd39e7b4",
   "metadata": {
    "collapsed": true
   },
   "outputs": [
    {
     "data": {
      "text/plain": [
       "Text(0, 0.5, '재현율')"
      ]
     },
     "execution_count": 130,
     "metadata": {},
     "output_type": "execute_result"
    },
    {
     "data": {
      "image/png": "[encoded data removed]",
      "text/plain": [
       "<Figure size 432x288 with 1 Axes>"
      ]
     },
     "metadata": {
      "needs_background": "light"
     },
     "output_type": "display_data"
    }
   ],
   "source": [
    "plt.plot(precision_rfc, recall_rfc, label='rfc-정밀도-재현율 곡선')\n",
    "plt.title('rfc-정밀도-재현율 곡선')\n",
    "plt.xlabel('정밀도')\n",
    "plt.ylabel('재현율')"
   ]
  },
  {
   "cell_type": "code",
   "execution_count": null,
   "id": "a0b84066",
   "metadata": {},
   "outputs": [],
   "source": []
  },
  {
   "cell_type": "code",
   "execution_count": 132,
   "id": "3b21b8e2",
   "metadata": {
    "collapsed": true
   },
   "outputs": [
    {
     "data": {
      "text/plain": [
       "<matplotlib.legend.Legend at 0x1b0c5f2dbe0>"
      ]
     },
     "execution_count": 132,
     "metadata": {},
     "output_type": "execute_result"
    },
    {
     "data": {
      "image/png": "[encoded data removed]",
      "text/plain": [
       "<Figure size 432x288 with 1 Axes>"
      ]
     },
     "metadata": {
      "needs_background": "light"
     },
     "output_type": "display_data"
    }
   ],
   "source": [
    "plt.plot(precision, recall, label='svc')\n",
    "plt.plot(precision_rfc, recall_rfc, label='rfc')\n",
    "plt.title('정밀도-재현율-곡선')\n",
    "plt.legend()"
   ]
  },
  {
   "cell_type": "code",
   "execution_count": null,
   "id": "89b543bd",
   "metadata": {},
   "outputs": [],
   "source": []
  },
  {
   "cell_type": "code",
   "execution_count": 133,
   "id": "a832e9fb",
   "metadata": {},
   "outputs": [
    {
     "name": "stdout",
     "output_type": "stream",
     "text": [
      "svc_aps : 0.9885880392185753 rfc_aps : 0.9791388544778379\n"
     ]
    }
   ],
   "source": [
    "svc_aps = average_precision_score(y_test, svc.decision_function(x_test))\n",
    "rfc_aps = average_precision_score(y_test, rfc.predict_proba(x_test)[:,1])\n",
    "print('svc_aps :', svc_aps, 'rfc_aps :', rfc_aps)"
   ]
  },
  {
   "cell_type": "code",
   "execution_count": null,
   "id": "f5812dae",
   "metadata": {},
   "outputs": [],
   "source": []
  },
  {
   "cell_type": "code",
   "execution_count": null,
   "id": "26e37b96",
   "metadata": {},
   "outputs": [],
   "source": []
  },
  {
   "cell_type": "code",
   "execution_count": null,
   "id": "5e7ca2c8",
   "metadata": {},
   "outputs": [],
   "source": [
    "### ROC-AUC 곡선\n",
    "\n",
    "# 모든 임계값에서 TPR(진짜 양성비율)과 FPR(거짓양성비율)을 그래프로 나타낸 곡선\n",
    "# TPR - 재현율(recall), 실제 True인 데이터를 True라고 맞춘 비율\n",
    "# FPR - 거짓양성비율, 실제 False인 데이터를 True라고 잘못 맞춘 비율\n",
    "# TPR은 높을수록 좋고, FPR은 낮을수록 좋은 모델..\n",
    "# roc-auc곡선의 면적 : roc_auc_score()\n",
    "# 특히 imbalaced dataset 에서 유용한 평가지표로 사용."
   ]
  },
  {
   "cell_type": "code",
   "execution_count": null,
   "id": "2d620e64",
   "metadata": {},
   "outputs": [],
   "source": []
  },
  {
   "cell_type": "code",
   "execution_count": 136,
   "id": "f2ccfe0f",
   "metadata": {
    "collapsed": true
   },
   "outputs": [
    {
     "data": {
      "text/plain": [
       "<matplotlib.legend.Legend at 0x1b0c5f12910>"
      ]
     },
     "execution_count": 136,
     "metadata": {},
     "output_type": "execute_result"
    },
    {
     "data": {
      "image/png": "[encoded data removed]",
      "text/plain": [
       "<Figure size 432x288 with 1 Axes>"
      ]
     },
     "metadata": {
      "needs_background": "light"
     },
     "output_type": "display_data"
    }
   ],
   "source": [
    "from sklearn.metrics import roc_curve\n",
    "\n",
    "fpr, tpr, thresholds = roc_curve(y_test, svc.decision_function(x_test))\n",
    "\n",
    "plt.plot(fpr, tpr, label='ROC 곡선')\n",
    "plt.xlabel('FPR')\n",
    "plt.ylabel('TPR')\n",
    "plt.legend()\n",
    "\n",
    "# tpr은 높고, fpr은 낮을수록 좋은 모델 - 좌상으로 그려질수록 좋은 모델.."
   ]
  },
  {
   "cell_type": "code",
   "execution_count": 137,
   "id": "3b74c088",
   "metadata": {},
   "outputs": [],
   "source": [
    "fpr_rfc, tpr_rfc, thresholds = roc_curve(y_test, rfc.predict_proba(x_test)[:,1])"
   ]
  },
  {
   "cell_type": "code",
   "execution_count": 138,
   "id": "e2cbfd52",
   "metadata": {
    "collapsed": true
   },
   "outputs": [
    {
     "data": {
      "text/plain": [
       "<matplotlib.legend.Legend at 0x1b0c60cb340>"
      ]
     },
     "execution_count": 138,
     "metadata": {},
     "output_type": "execute_result"
    },
    {
     "data": {
      "image/png": "[encoded data removed]",
      "text/plain": [
       "<Figure size 432x288 with 1 Axes>"
      ]
     },
     "metadata": {
      "needs_background": "light"
     },
     "output_type": "display_data"
    }
   ],
   "source": [
    "plt.plot(fpr, tpr, label='SVC-ROC 곡선')\n",
    "plt.plot(fpr_rfc, tpr_rfc, label='RFC-ROC 곡선')\n",
    "plt.xlabel('FPR')\n",
    "plt.ylabel('TPR')\n",
    "plt.legend()"
   ]
  },
  {
   "cell_type": "code",
   "execution_count": 141,
   "id": "9de49d16",
   "metadata": {
    "collapsed": true
   },
   "outputs": [
    {
     "name": "stdout",
     "output_type": "stream",
     "text": [
      "랜덤 포래스트 AUC_SCORE : 0.9830793214051485\n",
      "SVC AUC_SCORE : 0.9892771868339072\n"
     ]
    }
   ],
   "source": [
    "from sklearn.metrics import roc_auc_score\n",
    "rfc_auc_score = roc_auc_score(y_test, rfc.predict_proba(x_test)[:,1])\n",
    "svc_auc_score = roc_auc_score(y_test, svc.decision_function(x_test))\n",
    "\n",
    "print('랜덤 포래스트 AUC_SCORE :', rfc_auc_score)\n",
    "print('SVC AUC_SCORE :', svc_auc_score)"
   ]
  },
  {
   "cell_type": "code",
   "execution_count": null,
   "id": "d6e98d0c",
   "metadata": {},
   "outputs": [],
   "source": []
  }
 ],
 "metadata": {
  "kernelspec": {
   "display_name": "Python 3 (ipykernel)",
   "language": "python",
   "name": "python3"
  },
  "language_info": {
   "codemirror_mode": {
    "name": "ipython",
    "version": 3
   },
   "file_extension": ".py",
   "mimetype": "text/x-python",
   "name": "python",
   "nbconvert_exporter": "python",
   "pygments_lexer": "ipython3",
   "version": "3.9.7"
  }
 },
 "nbformat": 4,
 "nbformat_minor": 5
}
