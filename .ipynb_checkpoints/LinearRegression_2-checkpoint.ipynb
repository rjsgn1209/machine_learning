{
 "cells": [
  {
   "cell_type": "code",
   "execution_count": null,
   "id": "1c358087",
   "metadata": {},
   "outputs": [],
   "source": []
  },
  {
   "cell_type": "code",
   "execution_count": null,
   "id": "586c4bee",
   "metadata": {},
   "outputs": [],
   "source": [
    "# Machine Learning\n",
    "# soupervised Learning(지도학습) - 예측하는, 모델, 예측대상(y, target, Label)\n",
    "    # 1. Liner Algorithm(회귀분석) - 예측대상이 연속값(continuous)\n",
    "    # 2. Classification Algorithm(분류분석) - 예측대상이 불연속값(discrete)\n",
    "# Unsupervised Learning(비지도학습) - 예측하지 않음\n",
    "    # 1. clustering(군집분석) - 유사한 특성을 갖는 데이터 끼리 묶는다 "
   ]
  },
  {
   "cell_type": "code",
   "execution_count": null,
   "id": "08ab02cf",
   "metadata": {},
   "outputs": [],
   "source": []
  },
  {
   "cell_type": "code",
   "execution_count": null,
   "id": "3450088a",
   "metadata": {},
   "outputs": [],
   "source": []
  },
  {
   "cell_type": "code",
   "execution_count": null,
   "id": "d10197ef",
   "metadata": {},
   "outputs": [],
   "source": []
  },
  {
   "cell_type": "code",
   "execution_count": 19,
   "id": "cad233a8",
   "metadata": {},
   "outputs": [],
   "source": [
    "import pandas as pd\n",
    "import numpy as np\n",
    "import matplotlib.pyplot as plt\n",
    "import seaborn as  sns\n",
    "\n",
    "from sklearn.linear_model import LinearRegression\n",
    "from sklearn.model_selection import train_test_split\n",
    "from sklearn.metrics import r2_score"
   ]
  },
  {
   "cell_type": "code",
   "execution_count": null,
   "id": "70663c58",
   "metadata": {},
   "outputs": [],
   "source": []
  },
  {
   "cell_type": "code",
   "execution_count": 11,
   "id": "3b9d0dfd",
   "metadata": {},
   "outputs": [
    {
     "data": {
      "text/html": [
       "<div>\n",
       "<style scoped>\n",
       "    .dataframe tbody tr th:only-of-type {\n",
       "        vertical-align: middle;\n",
       "    }\n",
       "\n",
       "    .dataframe tbody tr th {\n",
       "        vertical-align: top;\n",
       "    }\n",
       "\n",
       "    .dataframe thead th {\n",
       "        text-align: right;\n",
       "    }\n",
       "</style>\n",
       "<table border=\"1\" class=\"dataframe\">\n",
       "  <thead>\n",
       "    <tr style=\"text-align: right;\">\n",
       "      <th></th>\n",
       "      <th>Email</th>\n",
       "      <th>Address</th>\n",
       "      <th>Avatar</th>\n",
       "      <th>Avg. Session Length</th>\n",
       "      <th>Time on App</th>\n",
       "      <th>Time on Website</th>\n",
       "      <th>Length of Membership</th>\n",
       "      <th>Yearly Amount Spent</th>\n",
       "    </tr>\n",
       "  </thead>\n",
       "  <tbody>\n",
       "    <tr>\n",
       "      <th>0</th>\n",
       "      <td>mstephenson@fernandez.com</td>\n",
       "      <td>835 Frank Tunnel\\nWrightmouth, MI 82180-9605</td>\n",
       "      <td>Violet</td>\n",
       "      <td>34.497268</td>\n",
       "      <td>12.655651</td>\n",
       "      <td>39.577668</td>\n",
       "      <td>4.082621</td>\n",
       "      <td>587.951054</td>\n",
       "    </tr>\n",
       "    <tr>\n",
       "      <th>1</th>\n",
       "      <td>hduke@hotmail.com</td>\n",
       "      <td>4547 Archer Common\\nDiazchester, CA 06566-8576</td>\n",
       "      <td>DarkGreen</td>\n",
       "      <td>31.926272</td>\n",
       "      <td>11.109461</td>\n",
       "      <td>37.268959</td>\n",
       "      <td>2.664034</td>\n",
       "      <td>392.204933</td>\n",
       "    </tr>\n",
       "    <tr>\n",
       "      <th>2</th>\n",
       "      <td>pallen@yahoo.com</td>\n",
       "      <td>24645 Valerie Unions Suite 582\\nCobbborough, D...</td>\n",
       "      <td>Bisque</td>\n",
       "      <td>33.000915</td>\n",
       "      <td>11.330278</td>\n",
       "      <td>37.110597</td>\n",
       "      <td>4.104543</td>\n",
       "      <td>487.547505</td>\n",
       "    </tr>\n",
       "    <tr>\n",
       "      <th>3</th>\n",
       "      <td>riverarebecca@gmail.com</td>\n",
       "      <td>1414 David Throughway\\nPort Jason, OH 22070-1220</td>\n",
       "      <td>SaddleBrown</td>\n",
       "      <td>34.305557</td>\n",
       "      <td>13.717514</td>\n",
       "      <td>36.721283</td>\n",
       "      <td>3.120179</td>\n",
       "      <td>581.852344</td>\n",
       "    </tr>\n",
       "    <tr>\n",
       "      <th>4</th>\n",
       "      <td>mstephens@davidson-herman.com</td>\n",
       "      <td>14023 Rodriguez Passage\\nPort Jacobville, PR 3...</td>\n",
       "      <td>MediumAquaMarine</td>\n",
       "      <td>33.330673</td>\n",
       "      <td>12.795189</td>\n",
       "      <td>37.536653</td>\n",
       "      <td>4.446308</td>\n",
       "      <td>599.406092</td>\n",
       "    </tr>\n",
       "  </tbody>\n",
       "</table>\n",
       "</div>"
      ],
      "text/plain": [
       "                           Email  \\\n",
       "0      mstephenson@fernandez.com   \n",
       "1              hduke@hotmail.com   \n",
       "2               pallen@yahoo.com   \n",
       "3        riverarebecca@gmail.com   \n",
       "4  mstephens@davidson-herman.com   \n",
       "\n",
       "                                             Address            Avatar  \\\n",
       "0       835 Frank Tunnel\\nWrightmouth, MI 82180-9605            Violet   \n",
       "1     4547 Archer Common\\nDiazchester, CA 06566-8576         DarkGreen   \n",
       "2  24645 Valerie Unions Suite 582\\nCobbborough, D...            Bisque   \n",
       "3   1414 David Throughway\\nPort Jason, OH 22070-1220       SaddleBrown   \n",
       "4  14023 Rodriguez Passage\\nPort Jacobville, PR 3...  MediumAquaMarine   \n",
       "\n",
       "   Avg. Session Length  Time on App  Time on Website  Length of Membership  \\\n",
       "0            34.497268    12.655651        39.577668              4.082621   \n",
       "1            31.926272    11.109461        37.268959              2.664034   \n",
       "2            33.000915    11.330278        37.110597              4.104543   \n",
       "3            34.305557    13.717514        36.721283              3.120179   \n",
       "4            33.330673    12.795189        37.536653              4.446308   \n",
       "\n",
       "   Yearly Amount Spent  \n",
       "0           587.951054  \n",
       "1           392.204933  \n",
       "2           487.547505  \n",
       "3           581.852344  \n",
       "4           599.406092  "
      ]
     },
     "execution_count": 11,
     "metadata": {},
     "output_type": "execute_result"
    }
   ],
   "source": [
    "df = pd.read_csv('./ml_source_files/Ecommerce Customers.txt')\n",
    "df.head()"
   ]
  },
  {
   "cell_type": "code",
   "execution_count": null,
   "id": "4e8ac46a",
   "metadata": {},
   "outputs": [],
   "source": []
  },
  {
   "cell_type": "code",
   "execution_count": 12,
   "id": "413427bc",
   "metadata": {},
   "outputs": [],
   "source": [
    "# 연간 지출금액을 예측하는 희귀모델.."
   ]
  },
  {
   "cell_type": "code",
   "execution_count": 13,
   "id": "2fc9f29d",
   "metadata": {},
   "outputs": [],
   "source": [
    "y = df['Yearly Amount Spent']\n",
    "x = df.drop(['Yearly Amount Spent', 'Address', 'Email', 'Avatar'], axis=1)"
   ]
  },
  {
   "cell_type": "code",
   "execution_count": null,
   "id": "26aebaec",
   "metadata": {},
   "outputs": [],
   "source": [
    "# train test로 분리..\n",
    "# train - 학습용 데이터\n",
    "# test - 모델을 평가 시 사용할 데이터.. (모델을 테스트할 때는 모델을 훈련할 때 이용한 데이터가 표함되면 안됨)"
   ]
  },
  {
   "cell_type": "code",
   "execution_count": 26,
   "id": "98425d03",
   "metadata": {},
   "outputs": [],
   "source": [
    "# ex) \n",
    "# x_train = x[:300]\n",
    "# x_test = x[300:]\n",
    "\n",
    "# y_train = y[:300]\n",
    "# y_text = y[300:]"
   ]
  },
  {
   "cell_type": "code",
   "execution_count": 14,
   "id": "31e3f26e",
   "metadata": {},
   "outputs": [],
   "source": [
    "x_train, x_test, y_train, y_test = train_test_split(x, y, test_size=0.2, random_state=111) # shuffle"
   ]
  },
  {
   "cell_type": "code",
   "execution_count": null,
   "id": "43770c42",
   "metadata": {},
   "outputs": [],
   "source": []
  },
  {
   "cell_type": "code",
   "execution_count": 28,
   "id": "e68cef42",
   "metadata": {},
   "outputs": [],
   "source": [
    "# LinearRegression Algorithm을 import"
   ]
  },
  {
   "cell_type": "code",
   "execution_count": 29,
   "id": "f8401924",
   "metadata": {},
   "outputs": [],
   "source": [
    "lr = LinearRegression()"
   ]
  },
  {
   "cell_type": "code",
   "execution_count": null,
   "id": "b8cc5a1a",
   "metadata": {},
   "outputs": [],
   "source": []
  },
  {
   "cell_type": "code",
   "execution_count": null,
   "id": "76c26e5a",
   "metadata": {},
   "outputs": [],
   "source": [
    "# Algorithm(=machine model) train => fin()"
   ]
  },
  {
   "cell_type": "code",
   "execution_count": 16,
   "id": "07ead971",
   "metadata": {},
   "outputs": [],
   "source": [
    "lr = LinearRegression()"
   ]
  },
  {
   "cell_type": "code",
   "execution_count": 17,
   "id": "6ab60a5b",
   "metadata": {},
   "outputs": [
    {
     "data": {
      "text/plain": [
       "LinearRegression()"
      ]
     },
     "execution_count": 17,
     "metadata": {},
     "output_type": "execute_result"
    }
   ],
   "source": [
    "lr.fit(x_train, y_train)"
   ]
  },
  {
   "cell_type": "code",
   "execution_count": null,
   "id": "2b3ecfd5",
   "metadata": {},
   "outputs": [],
   "source": [
    "# predict"
   ]
  },
  {
   "cell_type": "code",
   "execution_count": 22,
   "id": "744e4128",
   "metadata": {},
   "outputs": [],
   "source": [
    "preds = lr.predict(x_test)"
   ]
  },
  {
   "cell_type": "code",
   "execution_count": 23,
   "id": "54d0c27f",
   "metadata": {
    "collapsed": true
   },
   "outputs": [
    {
     "data": {
      "text/plain": [
       "array([662.38646038, 500.95031091, 456.45602946, 534.22245715,\n",
       "       525.06117597, 502.3502144 , 479.02465998, 529.9377346 ,\n",
       "       402.92628727, 571.66643911, 479.59356076, 306.00929383,\n",
       "       420.69556681, 437.81842988, 482.22280279, 589.29255918,\n",
       "       433.36402282, 561.38880306, 474.74224211, 478.16441443,\n",
       "       608.94370851, 423.81562345, 472.23606419, 668.25640767,\n",
       "       468.28515636, 491.02496823, 429.26030631, 573.61680535,\n",
       "       507.63913353, 619.76310356, 500.5943193 , 716.71930792,\n",
       "       411.86529967, 518.20339502, 457.86553134, 349.42922506,\n",
       "       531.5310653 , 481.21025043, 408.26231479, 599.6402949 ,\n",
       "       693.26149677, 573.55047618, 577.36948383, 395.7654635 ,\n",
       "       493.30087396, 515.90879588, 536.30611049, 489.27979877,\n",
       "       434.91800148, 440.79446793, 397.19849936, 468.66554931,\n",
       "       495.40234984, 454.9600982 , 536.9447668 , 491.23826087,\n",
       "       477.6127591 , 517.63089057, 426.76631735, 424.71302543,\n",
       "       511.39946527, 374.73948034, 685.15846659, 526.34696725,\n",
       "       486.08165443, 619.76421169, 434.71369217, 562.60370184,\n",
       "       641.69260092, 522.77529928, 470.49093611, 512.46460307,\n",
       "       543.58510541, 535.85256442, 419.93780505, 495.25567156,\n",
       "       510.89837465, 507.84832732, 402.61554394, 457.56018978,\n",
       "       458.46226096, 489.66385045, 437.00601848, 498.23223541,\n",
       "       419.2531396 , 540.47007776, 446.89217973, 449.81514764,\n",
       "       570.17640412, 461.19165935, 520.87241524, 457.70987331,\n",
       "       339.81807148, 538.76550702, 425.84960692, 584.32887632,\n",
       "       589.66731168, 487.32020542, 483.26971393, 417.78931944])"
      ]
     },
     "execution_count": 23,
     "metadata": {},
     "output_type": "execute_result"
    }
   ],
   "source": [
    "preds"
   ]
  },
  {
   "cell_type": "code",
   "execution_count": null,
   "id": "86c7f407",
   "metadata": {},
   "outputs": [],
   "source": [
    "# model evaluation"
   ]
  },
  {
   "cell_type": "code",
   "execution_count": 27,
   "id": "c5f53add",
   "metadata": {},
   "outputs": [
    {
     "data": {
      "text/plain": [
       "0.9826308550690487"
      ]
     },
     "execution_count": 27,
     "metadata": {},
     "output_type": "execute_result"
    }
   ],
   "source": [
    "r2_score(y_test, preds) # 회귀모델의 설명력 : ssr/ssc"
   ]
  },
  {
   "cell_type": "code",
   "execution_count": null,
   "id": "da1b0ebd",
   "metadata": {},
   "outputs": [],
   "source": []
  },
  {
   "cell_type": "code",
   "execution_count": 32,
   "id": "a9017462",
   "metadata": {},
   "outputs": [],
   "source": [
    "from sklearn.metrics import mean_squared_error, mean_absolute_error"
   ]
  },
  {
   "cell_type": "code",
   "execution_count": 33,
   "id": "cf49bf8b",
   "metadata": {},
   "outputs": [],
   "source": [
    "# MSE : sig(y-y_hat) ** 2\n",
    "# RMSE : np.sqrt(sig(y-y_hat) ** 2)\n",
    "# MAE : sig(abs(y-y_hat))"
   ]
  },
  {
   "cell_type": "code",
   "execution_count": 39,
   "id": "8c1d25d8",
   "metadata": {},
   "outputs": [
    {
     "name": "stdout",
     "output_type": "stream",
     "text": [
      "MSE: 100.42282397713807\n",
      "RMSE: 10.021118898463287\n",
      "MAE: 7.700534075153993\n"
     ]
    }
   ],
   "source": [
    "print('MSE:', mean_squared_error(y_test, preds))\n",
    "print('RMSE:', np.sqrt(mean_squared_error(y_test, preds)))\n",
    "print('MAE:', mean_absolute_error(y_test, preds))"
   ]
  },
  {
   "cell_type": "code",
   "execution_count": null,
   "id": "7c2049e1",
   "metadata": {},
   "outputs": [],
   "source": []
  },
  {
   "cell_type": "code",
   "execution_count": null,
   "id": "2d3c9821",
   "metadata": {},
   "outputs": [],
   "source": []
  },
  {
   "cell_type": "code",
   "execution_count": null,
   "id": "f0818b47",
   "metadata": {},
   "outputs": [],
   "source": []
  },
  {
   "cell_type": "code",
   "execution_count": null,
   "id": "33d4ab3e",
   "metadata": {},
   "outputs": [],
   "source": []
  },
  {
   "cell_type": "code",
   "execution_count": null,
   "id": "a3e7f91d",
   "metadata": {},
   "outputs": [],
   "source": []
  },
  {
   "cell_type": "code",
   "execution_count": null,
   "id": "8c27eedc",
   "metadata": {},
   "outputs": [],
   "source": []
  }
 ],
 "metadata": {
  "kernelspec": {
   "display_name": "Python 3 (ipykernel)",
   "language": "python",
   "name": "python3"
  },
  "language_info": {
   "codemirror_mode": {
    "name": "ipython",
    "version": 3
   },
   "file_extension": ".py",
   "mimetype": "text/x-python",
   "name": "python",
   "nbconvert_exporter": "python",
   "pygments_lexer": "ipython3",
   "version": "3.9.7"
  }
 },
 "nbformat": 4,
 "nbformat_minor": 5
}
