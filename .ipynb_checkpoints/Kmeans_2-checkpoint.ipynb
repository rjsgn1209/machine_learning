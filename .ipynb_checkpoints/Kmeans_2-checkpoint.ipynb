{
 "cells": [
  {
   "cell_type": "code",
   "execution_count": 1,
   "id": "a573cae6",
   "metadata": {},
   "outputs": [],
   "source": [
    "import pandas as pd\n",
    "import numpy as np \n",
    "import matplotlib.pyplot as plt\n",
    "import seaborn as sns"
   ]
  },
  {
   "cell_type": "code",
   "execution_count": 29,
   "id": "91361463",
   "metadata": {},
   "outputs": [
    {
     "data": {
      "text/html": [
       "<div>\n",
       "<style scoped>\n",
       "    .dataframe tbody tr th:only-of-type {\n",
       "        vertical-align: middle;\n",
       "    }\n",
       "\n",
       "    .dataframe tbody tr th {\n",
       "        vertical-align: top;\n",
       "    }\n",
       "\n",
       "    .dataframe thead th {\n",
       "        text-align: right;\n",
       "    }\n",
       "</style>\n",
       "<table border=\"1\" class=\"dataframe\">\n",
       "  <thead>\n",
       "    <tr style=\"text-align: right;\">\n",
       "      <th></th>\n",
       "      <th>Private</th>\n",
       "      <th>Apps</th>\n",
       "      <th>Accept</th>\n",
       "      <th>Enroll</th>\n",
       "      <th>Top10perc</th>\n",
       "      <th>Top25perc</th>\n",
       "      <th>F.Undergrad</th>\n",
       "      <th>P.Undergrad</th>\n",
       "      <th>Outstate</th>\n",
       "      <th>Room.Board</th>\n",
       "      <th>Books</th>\n",
       "      <th>Personal</th>\n",
       "      <th>PhD</th>\n",
       "      <th>Terminal</th>\n",
       "      <th>S.F.Ratio</th>\n",
       "      <th>perc.alumni</th>\n",
       "      <th>Expend</th>\n",
       "      <th>Grad.Rate</th>\n",
       "    </tr>\n",
       "  </thead>\n",
       "  <tbody>\n",
       "    <tr>\n",
       "      <th>Abilene Christian University</th>\n",
       "      <td>Yes</td>\n",
       "      <td>1660</td>\n",
       "      <td>1232</td>\n",
       "      <td>721</td>\n",
       "      <td>23</td>\n",
       "      <td>52</td>\n",
       "      <td>2885</td>\n",
       "      <td>537</td>\n",
       "      <td>7440</td>\n",
       "      <td>3300</td>\n",
       "      <td>450</td>\n",
       "      <td>2200</td>\n",
       "      <td>70</td>\n",
       "      <td>78</td>\n",
       "      <td>18.1</td>\n",
       "      <td>12</td>\n",
       "      <td>7041</td>\n",
       "      <td>60</td>\n",
       "    </tr>\n",
       "    <tr>\n",
       "      <th>Adelphi University</th>\n",
       "      <td>Yes</td>\n",
       "      <td>2186</td>\n",
       "      <td>1924</td>\n",
       "      <td>512</td>\n",
       "      <td>16</td>\n",
       "      <td>29</td>\n",
       "      <td>2683</td>\n",
       "      <td>1227</td>\n",
       "      <td>12280</td>\n",
       "      <td>6450</td>\n",
       "      <td>750</td>\n",
       "      <td>1500</td>\n",
       "      <td>29</td>\n",
       "      <td>30</td>\n",
       "      <td>12.2</td>\n",
       "      <td>16</td>\n",
       "      <td>10527</td>\n",
       "      <td>56</td>\n",
       "    </tr>\n",
       "    <tr>\n",
       "      <th>Adrian College</th>\n",
       "      <td>Yes</td>\n",
       "      <td>1428</td>\n",
       "      <td>1097</td>\n",
       "      <td>336</td>\n",
       "      <td>22</td>\n",
       "      <td>50</td>\n",
       "      <td>1036</td>\n",
       "      <td>99</td>\n",
       "      <td>11250</td>\n",
       "      <td>3750</td>\n",
       "      <td>400</td>\n",
       "      <td>1165</td>\n",
       "      <td>53</td>\n",
       "      <td>66</td>\n",
       "      <td>12.9</td>\n",
       "      <td>30</td>\n",
       "      <td>8735</td>\n",
       "      <td>54</td>\n",
       "    </tr>\n",
       "    <tr>\n",
       "      <th>Agnes Scott College</th>\n",
       "      <td>Yes</td>\n",
       "      <td>417</td>\n",
       "      <td>349</td>\n",
       "      <td>137</td>\n",
       "      <td>60</td>\n",
       "      <td>89</td>\n",
       "      <td>510</td>\n",
       "      <td>63</td>\n",
       "      <td>12960</td>\n",
       "      <td>5450</td>\n",
       "      <td>450</td>\n",
       "      <td>875</td>\n",
       "      <td>92</td>\n",
       "      <td>97</td>\n",
       "      <td>7.7</td>\n",
       "      <td>37</td>\n",
       "      <td>19016</td>\n",
       "      <td>59</td>\n",
       "    </tr>\n",
       "    <tr>\n",
       "      <th>Alaska Pacific University</th>\n",
       "      <td>Yes</td>\n",
       "      <td>193</td>\n",
       "      <td>146</td>\n",
       "      <td>55</td>\n",
       "      <td>16</td>\n",
       "      <td>44</td>\n",
       "      <td>249</td>\n",
       "      <td>869</td>\n",
       "      <td>7560</td>\n",
       "      <td>4120</td>\n",
       "      <td>800</td>\n",
       "      <td>1500</td>\n",
       "      <td>76</td>\n",
       "      <td>72</td>\n",
       "      <td>11.9</td>\n",
       "      <td>2</td>\n",
       "      <td>10922</td>\n",
       "      <td>15</td>\n",
       "    </tr>\n",
       "  </tbody>\n",
       "</table>\n",
       "</div>"
      ],
      "text/plain": [
       "                             Private  Apps  Accept  Enroll  Top10perc  \\\n",
       "Abilene Christian University     Yes  1660    1232     721         23   \n",
       "Adelphi University               Yes  2186    1924     512         16   \n",
       "Adrian College                   Yes  1428    1097     336         22   \n",
       "Agnes Scott College              Yes   417     349     137         60   \n",
       "Alaska Pacific University        Yes   193     146      55         16   \n",
       "\n",
       "                              Top25perc  F.Undergrad  P.Undergrad  Outstate  \\\n",
       "Abilene Christian University         52         2885          537      7440   \n",
       "Adelphi University                   29         2683         1227     12280   \n",
       "Adrian College                       50         1036           99     11250   \n",
       "Agnes Scott College                  89          510           63     12960   \n",
       "Alaska Pacific University            44          249          869      7560   \n",
       "\n",
       "                              Room.Board  Books  Personal  PhD  Terminal  \\\n",
       "Abilene Christian University        3300    450      2200   70        78   \n",
       "Adelphi University                  6450    750      1500   29        30   \n",
       "Adrian College                      3750    400      1165   53        66   \n",
       "Agnes Scott College                 5450    450       875   92        97   \n",
       "Alaska Pacific University           4120    800      1500   76        72   \n",
       "\n",
       "                              S.F.Ratio  perc.alumni  Expend  Grad.Rate  \n",
       "Abilene Christian University       18.1           12    7041         60  \n",
       "Adelphi University                 12.2           16   10527         56  \n",
       "Adrian College                     12.9           30    8735         54  \n",
       "Agnes Scott College                 7.7           37   19016         59  \n",
       "Alaska Pacific University          11.9            2   10922         15  "
      ]
     },
     "execution_count": 29,
     "metadata": {},
     "output_type": "execute_result"
    }
   ],
   "source": [
    "df = pd.read_csv('ml_source_files/college_Data', index_col=0)\n",
    "df.head()"
   ]
  },
  {
   "cell_type": "code",
   "execution_count": 30,
   "id": "3c7cac59",
   "metadata": {},
   "outputs": [
    {
     "data": {
      "text/plain": [
       "Yes    565\n",
       "No     212\n",
       "Name: Private, dtype: int64"
      ]
     },
     "execution_count": 30,
     "metadata": {},
     "output_type": "execute_result"
    }
   ],
   "source": [
    "df.Private.value_counts()"
   ]
  },
  {
   "cell_type": "code",
   "execution_count": 32,
   "id": "3eb8ca8b",
   "metadata": {},
   "outputs": [],
   "source": [
    "private = df['Private']"
   ]
  },
  {
   "cell_type": "code",
   "execution_count": 33,
   "id": "de84216f",
   "metadata": {},
   "outputs": [],
   "source": [
    "df.drop('Private', axis=1, inplace=True)"
   ]
  },
  {
   "cell_type": "code",
   "execution_count": null,
   "id": "04b9b029",
   "metadata": {},
   "outputs": [],
   "source": []
  },
  {
   "cell_type": "code",
   "execution_count": 34,
   "id": "fd1240be",
   "metadata": {},
   "outputs": [
    {
     "name": "stdout",
     "output_type": "stream",
     "text": [
      "<class 'pandas.core.frame.DataFrame'>\n",
      "Index: 777 entries, Abilene Christian University to York College of Pennsylvania\n",
      "Data columns (total 17 columns):\n",
      " #   Column       Non-Null Count  Dtype  \n",
      "---  ------       --------------  -----  \n",
      " 0   Apps         777 non-null    int64  \n",
      " 1   Accept       777 non-null    int64  \n",
      " 2   Enroll       777 non-null    int64  \n",
      " 3   Top10perc    777 non-null    int64  \n",
      " 4   Top25perc    777 non-null    int64  \n",
      " 5   F.Undergrad  777 non-null    int64  \n",
      " 6   P.Undergrad  777 non-null    int64  \n",
      " 7   Outstate     777 non-null    int64  \n",
      " 8   Room.Board   777 non-null    int64  \n",
      " 9   Books        777 non-null    int64  \n",
      " 10  Personal     777 non-null    int64  \n",
      " 11  PhD          777 non-null    int64  \n",
      " 12  Terminal     777 non-null    int64  \n",
      " 13  S.F.Ratio    777 non-null    float64\n",
      " 14  perc.alumni  777 non-null    int64  \n",
      " 15  Expend       777 non-null    int64  \n",
      " 16  Grad.Rate    777 non-null    int64  \n",
      "dtypes: float64(1), int64(16)\n",
      "memory usage: 109.3+ KB\n"
     ]
    }
   ],
   "source": [
    "df.info()"
   ]
  },
  {
   "cell_type": "code",
   "execution_count": 35,
   "id": "47e12f59",
   "metadata": {},
   "outputs": [],
   "source": [
    "# 2개의 군집으로 미국대학을 clustering 하고 결과를 private와 비교.."
   ]
  },
  {
   "cell_type": "code",
   "execution_count": 36,
   "id": "a9c32df8",
   "metadata": {},
   "outputs": [],
   "source": [
    "from sklearn.cluster import KMeans"
   ]
  },
  {
   "cell_type": "code",
   "execution_count": 37,
   "id": "ac36931c",
   "metadata": {},
   "outputs": [],
   "source": [
    "kmeans = KMeans(n_clusters=2)"
   ]
  },
  {
   "cell_type": "code",
   "execution_count": 38,
   "id": "72dc1124",
   "metadata": {},
   "outputs": [
    {
     "data": {
      "text/plain": [
       "KMeans(n_clusters=2)"
      ]
     },
     "execution_count": 38,
     "metadata": {},
     "output_type": "execute_result"
    }
   ],
   "source": [
    "kmeans.fit(df)"
   ]
  },
  {
   "cell_type": "code",
   "execution_count": 48,
   "id": "fa2a4f38",
   "metadata": {},
   "outputs": [],
   "source": [
    "kmeans.cluster_centers_ "
   ]
  },
  {
   "cell_type": "code",
   "execution_count": 40,
   "id": "27fb3d15",
   "metadata": {
    "collapsed": true
   },
   "outputs": [
    {
     "data": {
      "text/plain": [
       "array([1, 1, 1, 1, 1, 1, 1, 1, 1, 1, 1, 1, 1, 1, 1, 1, 1, 1, 1, 1, 0, 0,\n",
       "       1, 0, 1, 1, 1, 0, 1, 1, 1, 1, 1, 1, 1, 1, 1, 1, 1, 0, 1, 1, 1, 1,\n",
       "       1, 1, 1, 1, 1, 1, 1, 1, 1, 1, 1, 1, 1, 1, 1, 0, 1, 0, 1, 1, 1, 1,\n",
       "       1, 1, 1, 0, 0, 1, 1, 1, 1, 1, 1, 1, 0, 0, 1, 1, 1, 1, 1, 1, 1, 0,\n",
       "       1, 1, 1, 1, 1, 1, 1, 1, 1, 1, 1, 1, 1, 1, 1, 1, 1, 1, 1, 1, 1, 1,\n",
       "       1, 1, 1, 1, 1, 1, 1, 1, 0, 1, 1, 1, 1, 1, 1, 1, 1, 1, 1, 1, 1, 1,\n",
       "       1, 1, 1, 1, 1, 1, 1, 1, 1, 0, 1, 1, 0, 1, 1, 1, 1, 1, 1, 1, 1, 1,\n",
       "       1, 1, 1, 1, 0, 1, 1, 1, 1, 1, 1, 1, 1, 1, 1, 1, 1, 1, 1, 1, 0, 1,\n",
       "       0, 1, 1, 1, 1, 1, 1, 1, 1, 1, 1, 1, 1, 1, 1, 0, 1, 1, 1, 1, 1, 1,\n",
       "       1, 1, 1, 1, 1, 0, 1, 1, 1, 1, 1, 1, 1, 1, 1, 1, 1, 1, 1, 1, 1, 0,\n",
       "       1, 0, 0, 1, 1, 1, 1, 1, 1, 1, 1, 1, 1, 1, 1, 1, 1, 1, 1, 1, 1, 1,\n",
       "       1, 1, 1, 1, 1, 1, 1, 1, 0, 1, 1, 1, 1, 1, 1, 0, 1, 1, 1, 1, 1, 1,\n",
       "       1, 1, 1, 1, 1, 0, 1, 1, 1, 1, 0, 1, 1, 0, 1, 0, 1, 1, 1, 1, 0, 1,\n",
       "       1, 1, 0, 1, 1, 1, 1, 1, 1, 1, 1, 1, 1, 1, 1, 1, 1, 1, 1, 1, 1, 1,\n",
       "       1, 1, 1, 1, 1, 1, 1, 1, 1, 1, 1, 1, 1, 1, 1, 1, 0, 1, 1, 1, 1, 1,\n",
       "       1, 1, 1, 1, 1, 1, 1, 1, 1, 1, 1, 1, 1, 1, 1, 1, 1, 1, 1, 1, 1, 1,\n",
       "       1, 1, 0, 1, 1, 1, 1, 1, 1, 1, 1, 1, 1, 0, 0, 1, 1, 1, 1, 1, 1, 1,\n",
       "       1, 1, 1, 1, 1, 1, 1, 1, 1, 1, 1, 1, 1, 1, 1, 1, 1, 1, 1, 1, 1, 1,\n",
       "       1, 1, 1, 1, 1, 1, 1, 1, 1, 1, 1, 0, 1, 1, 1, 1, 0, 1, 1, 1, 1, 1,\n",
       "       0, 0, 0, 1, 1, 1, 0, 1, 1, 1, 1, 1, 1, 1, 0, 1, 1, 1, 0, 1, 1, 1,\n",
       "       1, 1, 1, 1, 1, 0, 1, 1, 1, 1, 1, 1, 1, 1, 1, 1, 1, 1, 1, 0, 1, 0,\n",
       "       1, 1, 1, 1, 1, 1, 1, 1, 1, 1, 1, 1, 1, 1, 1, 1, 1, 1, 1, 1, 1, 0,\n",
       "       1, 1, 1, 1, 1, 1, 1, 1, 1, 1, 1, 1, 1, 1, 1, 1, 1, 1, 1, 1, 1, 1,\n",
       "       1, 1, 1, 1, 0, 1, 1, 1, 1, 1, 1, 1, 1, 1, 1, 1, 1, 1, 1, 1, 1, 1,\n",
       "       1, 1, 1, 1, 1, 1, 1, 1, 0, 1, 1, 1, 1, 1, 1, 1, 1, 1, 1, 1, 1, 1,\n",
       "       1, 1, 1, 1, 1, 1, 1, 1, 1, 1, 0, 0, 0, 0, 1, 1, 1, 1, 1, 1, 1, 1,\n",
       "       1, 1, 1, 1, 0, 1, 1, 1, 1, 0, 1, 1, 1, 1, 1, 1, 1, 1, 1, 1, 1, 1,\n",
       "       1, 1, 1, 0, 1, 1, 1, 1, 1, 1, 1, 0, 0, 0, 1, 0, 0, 0, 1, 1, 0, 1,\n",
       "       1, 1, 1, 0, 0, 1, 0, 0, 0, 1, 0, 1, 0, 1, 1, 1, 1, 0, 0, 1, 0, 0,\n",
       "       1, 1, 0, 1, 0, 1, 1, 1, 1, 0, 1, 0, 1, 0, 0, 1, 1, 1, 1, 0, 1, 1,\n",
       "       0, 0, 0, 0, 0, 1, 1, 0, 1, 0, 1, 1, 1, 1, 1, 0, 0, 0, 1, 1, 1, 1,\n",
       "       1, 0, 1, 0, 1, 1, 1, 1, 1, 0, 0, 0, 0, 1, 1, 1, 1, 1, 0, 0, 1, 1,\n",
       "       1, 1, 1, 1, 0, 1, 0, 0, 1, 0, 1, 1, 1, 1, 1, 1, 0, 1, 1, 1, 1, 1,\n",
       "       1, 0, 0, 1, 1, 1, 1, 1, 1, 1, 1, 1, 1, 1, 1, 1, 1, 0, 1, 1, 1, 1,\n",
       "       1, 1, 1, 1, 1, 1, 1, 1, 1, 1, 1, 1, 1, 1, 1, 1, 1, 1, 1, 1, 1, 1,\n",
       "       1, 1, 1, 1, 1, 0, 1])"
      ]
     },
     "execution_count": 40,
     "metadata": {},
     "output_type": "execute_result"
    }
   ],
   "source": [
    "kmeans.labels_ = "
   ]
  },
  {
   "cell_type": "code",
   "execution_count": 41,
   "id": "edc999c6",
   "metadata": {
    "collapsed": true
   },
   "outputs": [
    {
     "data": {
      "text/plain": [
       "Abilene Christian University      Yes\n",
       "Adelphi University                Yes\n",
       "Adrian College                    Yes\n",
       "Agnes Scott College               Yes\n",
       "Alaska Pacific University         Yes\n",
       "                                 ... \n",
       "Worcester State College            No\n",
       "Xavier University                 Yes\n",
       "Xavier University of Louisiana    Yes\n",
       "Yale University                   Yes\n",
       "York College of Pennsylvania      Yes\n",
       "Name: Private, Length: 777, dtype: object"
      ]
     },
     "execution_count": 41,
     "metadata": {},
     "output_type": "execute_result"
    }
   ],
   "source": [
    "private"
   ]
  },
  {
   "cell_type": "code",
   "execution_count": null,
   "id": "6a08a77c",
   "metadata": {},
   "outputs": [],
   "source": []
  },
  {
   "cell_type": "code",
   "execution_count": 42,
   "id": "1d937bd8",
   "metadata": {},
   "outputs": [],
   "source": [
    "def converter(s):\n",
    "    if s == 'Yes':\n",
    "        return 1\n",
    "    else:\n",
    "        return 0"
   ]
  },
  {
   "cell_type": "code",
   "execution_count": 44,
   "id": "5a4ee8d7",
   "metadata": {},
   "outputs": [],
   "source": [
    "private_values = private.apply(converter).values"
   ]
  },
  {
   "cell_type": "code",
   "execution_count": 45,
   "id": "eb273073",
   "metadata": {
    "collapsed": true
   },
   "outputs": [
    {
     "data": {
      "text/plain": [
       "array([1, 1, 1, 1, 1, 1, 1, 1, 1, 1, 1, 1, 1, 1, 1, 1, 1, 1, 1, 0, 1, 0,\n",
       "       1, 0, 1, 0, 1, 0, 1, 1, 1, 1, 1, 1, 1, 1, 1, 1, 1, 1, 1, 1, 1, 1,\n",
       "       1, 0, 1, 1, 1, 1, 1, 1, 1, 1, 1, 1, 0, 1, 1, 1, 1, 0, 1, 1, 1, 1,\n",
       "       1, 1, 1, 1, 1, 1, 1, 1, 1, 1, 1, 1, 0, 0, 1, 1, 1, 1, 1, 1, 1, 1,\n",
       "       1, 1, 1, 1, 0, 1, 1, 1, 1, 1, 1, 1, 1, 1, 0, 0, 0, 1, 1, 1, 1, 1,\n",
       "       1, 1, 0, 1, 1, 1, 1, 1, 0, 0, 1, 1, 1, 1, 1, 0, 1, 1, 1, 1, 1, 1,\n",
       "       1, 1, 1, 1, 1, 1, 0, 1, 1, 0, 1, 1, 1, 1, 1, 1, 1, 1, 1, 1, 1, 1,\n",
       "       1, 1, 1, 1, 1, 1, 1, 0, 1, 1, 1, 0, 1, 1, 1, 1, 1, 1, 1, 1, 1, 1,\n",
       "       0, 0, 1, 1, 0, 0, 1, 1, 1, 1, 1, 1, 1, 1, 1, 1, 0, 1, 1, 0, 1, 0,\n",
       "       1, 1, 1, 0, 1, 0, 1, 1, 0, 0, 1, 1, 1, 1, 1, 1, 1, 1, 1, 1, 0, 1,\n",
       "       1, 1, 0, 0, 1, 1, 1, 1, 1, 1, 1, 1, 1, 0, 1, 1, 1, 1, 1, 1, 1, 1,\n",
       "       1, 1, 1, 1, 1, 1, 1, 1, 1, 1, 1, 1, 1, 1, 1, 1, 1, 1, 1, 1, 1, 1,\n",
       "       1, 1, 1, 1, 1, 0, 1, 1, 1, 0, 0, 1, 1, 0, 1, 0, 1, 0, 1, 1, 1, 0,\n",
       "       1, 1, 0, 1, 0, 1, 1, 1, 1, 1, 1, 1, 1, 1, 1, 1, 1, 0, 1, 0, 1, 1,\n",
       "       1, 1, 1, 1, 1, 1, 1, 1, 0, 1, 1, 1, 0, 0, 1, 1, 0, 0, 1, 1, 1, 1,\n",
       "       1, 1, 1, 0, 1, 1, 1, 1, 1, 1, 0, 1, 1, 1, 1, 1, 1, 0, 1, 1, 1, 1,\n",
       "       1, 1, 1, 0, 1, 1, 1, 1, 1, 1, 1, 0, 1, 0, 0, 0, 1, 0, 1, 1, 1, 1,\n",
       "       1, 0, 0, 0, 1, 1, 1, 0, 0, 0, 1, 0, 1, 1, 1, 1, 1, 1, 1, 1, 1, 1,\n",
       "       1, 1, 1, 1, 1, 0, 1, 1, 1, 0, 0, 1, 1, 1, 0, 0, 0, 1, 1, 0, 1, 0,\n",
       "       1, 0, 0, 0, 1, 1, 1, 1, 1, 0, 1, 1, 1, 1, 0, 1, 1, 1, 0, 1, 1, 1,\n",
       "       1, 1, 1, 1, 0, 0, 1, 0, 1, 1, 1, 1, 1, 1, 1, 1, 1, 0, 1, 1, 1, 0,\n",
       "       1, 1, 1, 0, 0, 1, 1, 1, 1, 1, 1, 1, 1, 1, 1, 1, 1, 1, 1, 1, 0, 0,\n",
       "       0, 0, 1, 1, 1, 0, 1, 1, 1, 1, 1, 1, 1, 1, 1, 1, 1, 1, 1, 1, 1, 1,\n",
       "       1, 1, 0, 1, 0, 1, 1, 1, 1, 1, 1, 1, 1, 1, 0, 1, 1, 1, 1, 1, 1, 1,\n",
       "       1, 0, 0, 0, 1, 0, 1, 1, 0, 0, 1, 1, 1, 1, 1, 1, 1, 1, 1, 1, 1, 1,\n",
       "       0, 1, 1, 1, 1, 1, 1, 1, 0, 1, 0, 0, 0, 0, 0, 0, 0, 0, 0, 0, 0, 0,\n",
       "       0, 0, 1, 1, 1, 1, 1, 1, 1, 0, 0, 1, 1, 0, 1, 0, 1, 1, 1, 0, 1, 1,\n",
       "       1, 1, 1, 1, 1, 1, 1, 1, 0, 0, 0, 0, 0, 0, 1, 1, 0, 0, 1, 1, 1, 1,\n",
       "       1, 1, 1, 0, 0, 1, 0, 0, 0, 1, 0, 1, 0, 0, 0, 0, 0, 0, 0, 0, 1, 0,\n",
       "       0, 0, 0, 0, 0, 0, 0, 1, 0, 0, 1, 0, 0, 0, 0, 0, 0, 0, 0, 0, 0, 0,\n",
       "       1, 0, 0, 1, 0, 1, 1, 0, 1, 1, 1, 1, 0, 1, 0, 0, 0, 1, 0, 0, 0, 1,\n",
       "       1, 0, 0, 0, 0, 1, 1, 1, 1, 0, 0, 0, 0, 0, 0, 0, 0, 0, 0, 0, 0, 1,\n",
       "       1, 1, 0, 1, 1, 1, 1, 0, 0, 0, 1, 1, 1, 1, 1, 1, 1, 1, 1, 1, 1, 1,\n",
       "       1, 0, 1, 0, 1, 1, 1, 1, 1, 1, 1, 1, 0, 0, 1, 0, 1, 0, 1, 0, 0, 0,\n",
       "       1, 1, 1, 0, 1, 1, 1, 1, 1, 1, 1, 1, 1, 1, 1, 1, 1, 1, 0, 0, 1, 1,\n",
       "       1, 1, 0, 1, 1, 1, 1], dtype=int64)"
      ]
     },
     "execution_count": 45,
     "metadata": {},
     "output_type": "execute_result"
    }
   ],
   "source": []
  },
  {
   "cell_type": "code",
   "execution_count": 49,
   "id": "8c154142",
   "metadata": {},
   "outputs": [
    {
     "name": "stderr",
     "output_type": "stream",
     "text": [
      "C:\\Users\\bitcamp\\AppData\\Local\\Temp/ipykernel_17524/2504312214.py:1: DeprecationWarning: elementwise comparison failed; this will raise an error in the future.\n",
      "  private_values == cluter_labels\n"
     ]
    },
    {
     "data": {
      "text/plain": [
       "False"
      ]
     },
     "execution_count": 49,
     "metadata": {},
     "output_type": "execute_result"
    }
   ],
   "source": [
    "private_values == cluter_labels"
   ]
  },
  {
   "cell_type": "code",
   "execution_count": null,
   "id": "b57e75d2",
   "metadata": {},
   "outputs": [],
   "source": []
  },
  {
   "cell_type": "code",
   "execution_count": null,
   "id": "e3fc7e4c",
   "metadata": {},
   "outputs": [],
   "source": [
    "# 전제적으로 train data accurany> > test_data_cuuracy\n",
    "\n",
    "# 과적합(k=1) : 모델이 복잡함\n",
    "#train,data,accuracy"
   ]
  },
  {
   "cell_type": "code",
   "execution_count": null,
   "id": "6b95f56e",
   "metadata": {},
   "outputs": [],
   "source": []
  },
  {
   "cell_type": "code",
   "execution_count": 50,
   "id": "db5af4f2",
   "metadata": {},
   "outputs": [],
   "source": [
    "### 회귀분석..."
   ]
  },
  {
   "cell_type": "code",
   "execution_count": 130,
   "id": "acb1a91f",
   "metadata": {},
   "outputs": [
    {
     "data": {
      "text/html": [
       "<div>\n",
       "<style scoped>\n",
       "    .dataframe tbody tr th:only-of-type {\n",
       "        vertical-align: middle;\n",
       "    }\n",
       "\n",
       "    .dataframe tbody tr th {\n",
       "        vertical-align: top;\n",
       "    }\n",
       "\n",
       "    .dataframe thead th {\n",
       "        text-align: right;\n",
       "    }\n",
       "</style>\n",
       "<table border=\"1\" class=\"dataframe\">\n",
       "  <thead>\n",
       "    <tr style=\"text-align: right;\">\n",
       "      <th></th>\n",
       "      <th>Id</th>\n",
       "      <th>MSSubClass</th>\n",
       "      <th>MSZoning</th>\n",
       "      <th>LotFrontage</th>\n",
       "      <th>LotArea</th>\n",
       "      <th>Street</th>\n",
       "      <th>Alley</th>\n",
       "      <th>LotShape</th>\n",
       "      <th>LandContour</th>\n",
       "      <th>Utilities</th>\n",
       "      <th>...</th>\n",
       "      <th>PoolArea</th>\n",
       "      <th>PoolQC</th>\n",
       "      <th>Fence</th>\n",
       "      <th>MiscFeature</th>\n",
       "      <th>MiscVal</th>\n",
       "      <th>MoSold</th>\n",
       "      <th>YrSold</th>\n",
       "      <th>SaleType</th>\n",
       "      <th>SaleCondition</th>\n",
       "      <th>SalePrice</th>\n",
       "    </tr>\n",
       "  </thead>\n",
       "  <tbody>\n",
       "    <tr>\n",
       "      <th>0</th>\n",
       "      <td>1</td>\n",
       "      <td>60</td>\n",
       "      <td>RL</td>\n",
       "      <td>65.0</td>\n",
       "      <td>8450</td>\n",
       "      <td>Pave</td>\n",
       "      <td>NaN</td>\n",
       "      <td>Reg</td>\n",
       "      <td>Lvl</td>\n",
       "      <td>AllPub</td>\n",
       "      <td>...</td>\n",
       "      <td>0</td>\n",
       "      <td>NaN</td>\n",
       "      <td>NaN</td>\n",
       "      <td>NaN</td>\n",
       "      <td>0</td>\n",
       "      <td>2</td>\n",
       "      <td>2008</td>\n",
       "      <td>WD</td>\n",
       "      <td>Normal</td>\n",
       "      <td>208500</td>\n",
       "    </tr>\n",
       "    <tr>\n",
       "      <th>1</th>\n",
       "      <td>2</td>\n",
       "      <td>20</td>\n",
       "      <td>RL</td>\n",
       "      <td>80.0</td>\n",
       "      <td>9600</td>\n",
       "      <td>Pave</td>\n",
       "      <td>NaN</td>\n",
       "      <td>Reg</td>\n",
       "      <td>Lvl</td>\n",
       "      <td>AllPub</td>\n",
       "      <td>...</td>\n",
       "      <td>0</td>\n",
       "      <td>NaN</td>\n",
       "      <td>NaN</td>\n",
       "      <td>NaN</td>\n",
       "      <td>0</td>\n",
       "      <td>5</td>\n",
       "      <td>2007</td>\n",
       "      <td>WD</td>\n",
       "      <td>Normal</td>\n",
       "      <td>181500</td>\n",
       "    </tr>\n",
       "    <tr>\n",
       "      <th>2</th>\n",
       "      <td>3</td>\n",
       "      <td>60</td>\n",
       "      <td>RL</td>\n",
       "      <td>68.0</td>\n",
       "      <td>11250</td>\n",
       "      <td>Pave</td>\n",
       "      <td>NaN</td>\n",
       "      <td>IR1</td>\n",
       "      <td>Lvl</td>\n",
       "      <td>AllPub</td>\n",
       "      <td>...</td>\n",
       "      <td>0</td>\n",
       "      <td>NaN</td>\n",
       "      <td>NaN</td>\n",
       "      <td>NaN</td>\n",
       "      <td>0</td>\n",
       "      <td>9</td>\n",
       "      <td>2008</td>\n",
       "      <td>WD</td>\n",
       "      <td>Normal</td>\n",
       "      <td>223500</td>\n",
       "    </tr>\n",
       "    <tr>\n",
       "      <th>3</th>\n",
       "      <td>4</td>\n",
       "      <td>70</td>\n",
       "      <td>RL</td>\n",
       "      <td>60.0</td>\n",
       "      <td>9550</td>\n",
       "      <td>Pave</td>\n",
       "      <td>NaN</td>\n",
       "      <td>IR1</td>\n",
       "      <td>Lvl</td>\n",
       "      <td>AllPub</td>\n",
       "      <td>...</td>\n",
       "      <td>0</td>\n",
       "      <td>NaN</td>\n",
       "      <td>NaN</td>\n",
       "      <td>NaN</td>\n",
       "      <td>0</td>\n",
       "      <td>2</td>\n",
       "      <td>2006</td>\n",
       "      <td>WD</td>\n",
       "      <td>Abnorml</td>\n",
       "      <td>140000</td>\n",
       "    </tr>\n",
       "    <tr>\n",
       "      <th>4</th>\n",
       "      <td>5</td>\n",
       "      <td>60</td>\n",
       "      <td>RL</td>\n",
       "      <td>84.0</td>\n",
       "      <td>14260</td>\n",
       "      <td>Pave</td>\n",
       "      <td>NaN</td>\n",
       "      <td>IR1</td>\n",
       "      <td>Lvl</td>\n",
       "      <td>AllPub</td>\n",
       "      <td>...</td>\n",
       "      <td>0</td>\n",
       "      <td>NaN</td>\n",
       "      <td>NaN</td>\n",
       "      <td>NaN</td>\n",
       "      <td>0</td>\n",
       "      <td>12</td>\n",
       "      <td>2008</td>\n",
       "      <td>WD</td>\n",
       "      <td>Normal</td>\n",
       "      <td>250000</td>\n",
       "    </tr>\n",
       "  </tbody>\n",
       "</table>\n",
       "<p>5 rows × 81 columns</p>\n",
       "</div>"
      ],
      "text/plain": [
       "   Id  MSSubClass MSZoning  LotFrontage  LotArea Street Alley LotShape  \\\n",
       "0   1          60       RL         65.0     8450   Pave   NaN      Reg   \n",
       "1   2          20       RL         80.0     9600   Pave   NaN      Reg   \n",
       "2   3          60       RL         68.0    11250   Pave   NaN      IR1   \n",
       "3   4          70       RL         60.0     9550   Pave   NaN      IR1   \n",
       "4   5          60       RL         84.0    14260   Pave   NaN      IR1   \n",
       "\n",
       "  LandContour Utilities  ... PoolArea PoolQC Fence MiscFeature MiscVal MoSold  \\\n",
       "0         Lvl    AllPub  ...        0    NaN   NaN         NaN       0      2   \n",
       "1         Lvl    AllPub  ...        0    NaN   NaN         NaN       0      5   \n",
       "2         Lvl    AllPub  ...        0    NaN   NaN         NaN       0      9   \n",
       "3         Lvl    AllPub  ...        0    NaN   NaN         NaN       0      2   \n",
       "4         Lvl    AllPub  ...        0    NaN   NaN         NaN       0     12   \n",
       "\n",
       "  YrSold  SaleType  SaleCondition  SalePrice  \n",
       "0   2008        WD         Normal     208500  \n",
       "1   2007        WD         Normal     181500  \n",
       "2   2008        WD         Normal     223500  \n",
       "3   2006        WD        Abnorml     140000  \n",
       "4   2008        WD         Normal     250000  \n",
       "\n",
       "[5 rows x 81 columns]"
      ]
     },
     "execution_count": 130,
     "metadata": {},
     "output_type": "execute_result"
    }
   ],
   "source": [
    "house_df = pd.read_csv('./ml_source_files/house_price.csv')\n",
    "house_df.head()"
   ]
  },
  {
   "cell_type": "code",
   "execution_count": 131,
   "id": "cf79db78",
   "metadata": {},
   "outputs": [
    {
     "data": {
      "text/plain": [
       "PoolQC          1453\n",
       "MiscFeature     1406\n",
       "Alley           1369\n",
       "Fence           1179\n",
       "FireplaceQu      690\n",
       "LotFrontage      259\n",
       "GarageYrBlt       81\n",
       "GarageCond        81\n",
       "GarageType        81\n",
       "GarageFinish      81\n",
       "dtype: int64"
      ]
     },
     "execution_count": 131,
     "metadata": {},
     "output_type": "execute_result"
    }
   ],
   "source": [
    "house_df.isnull().sum().sort_values(ascending=False)[:10]"
   ]
  },
  {
   "cell_type": "code",
   "execution_count": 132,
   "id": "61917323",
   "metadata": {},
   "outputs": [],
   "source": [
    "house_df.drop(['PoolQC', 'MiscFeature', 'Alley', 'FireplaceQu', 'LotFrontage'], axis=1, inplace=True)"
   ]
  },
  {
   "cell_type": "code",
   "execution_count": 133,
   "id": "8cb0e90e",
   "metadata": {},
   "outputs": [],
   "source": [
    "house_df.fillna(house_df.mean(), inplace=True)"
   ]
  },
  {
   "cell_type": "code",
   "execution_count": 134,
   "id": "7c5b6a86",
   "metadata": {},
   "outputs": [
    {
     "data": {
      "text/plain": [
       "Fence           1179\n",
       "GarageType        81\n",
       "GarageFinish      81\n",
       "GarageQual        81\n",
       "GarageCond        81\n",
       "                ... \n",
       "BsmtUnfSF          0\n",
       "TotalBsmtSF        0\n",
       "Heating            0\n",
       "MSSubClass         0\n",
       "SalePrice          0\n",
       "Length: 76, dtype: int64"
      ]
     },
     "execution_count": 134,
     "metadata": {},
     "output_type": "execute_result"
    }
   ],
   "source": [
    "house_df.isnull().sum().sort_values(ascending=False)"
   ]
  },
  {
   "cell_type": "code",
   "execution_count": 135,
   "id": "046f7d0b",
   "metadata": {},
   "outputs": [
    {
     "data": {
      "text/plain": [
       "Id                       0\n",
       "BsmtQual_Ex              0\n",
       "BsmtCond_Po              0\n",
       "BsmtCond_Gd              0\n",
       "BsmtCond_Fa              0\n",
       "                        ..\n",
       "Condition2_Feedr         0\n",
       "Condition2_Norm          0\n",
       "Condition2_PosA          0\n",
       "Condition2_PosN          0\n",
       "SaleCondition_Partial    0\n",
       "Length: 275, dtype: int64"
      ]
     },
     "execution_count": 135,
     "metadata": {},
     "output_type": "execute_result"
    }
   ],
   "source": [
    "pd.get_dummies(house_df).isnull().sum().sort_values(ascending=False)"
   ]
  },
  {
   "cell_type": "code",
   "execution_count": 136,
   "id": "77b8624b",
   "metadata": {},
   "outputs": [],
   "source": [
    "house_df_ohe = pd.get_dummies(house_df)"
   ]
  },
  {
   "cell_type": "code",
   "execution_count": 137,
   "id": "f1d95c31",
   "metadata": {},
   "outputs": [
    {
     "data": {
      "text/plain": [
       "(1460, 275)"
      ]
     },
     "execution_count": 137,
     "metadata": {},
     "output_type": "execute_result"
    }
   ],
   "source": [
    "house_df_ohe.shape"
   ]
  },
  {
   "cell_type": "code",
   "execution_count": null,
   "id": "16601bcd",
   "metadata": {},
   "outputs": [],
   "source": []
  },
  {
   "cell_type": "code",
   "execution_count": 138,
   "id": "325f7912",
   "metadata": {},
   "outputs": [],
   "source": [
    "from sklearn.linear_model import LinearRegression\n",
    "from sklearn.metrics import mean_squared_error"
   ]
  },
  {
   "cell_type": "code",
   "execution_count": 139,
   "id": "961f9302",
   "metadata": {},
   "outputs": [],
   "source": [
    "y = house_df_ohe['SalePrice']\n",
    "x = house_df_ohe.drop(['SalePrice', 'Id'], axis=1)"
   ]
  },
  {
   "cell_type": "code",
   "execution_count": 140,
   "id": "bac3a4be",
   "metadata": {},
   "outputs": [],
   "source": [
    "from sklearn.model_selection import train_test_split"
   ]
  },
  {
   "cell_type": "code",
   "execution_count": 141,
   "id": "d3dca2f2",
   "metadata": {},
   "outputs": [],
   "source": [
    "x_train, x_test, y_train, y_test = train_test_split(x, y, test_size=0.2, random_state=11)"
   ]
  },
  {
   "cell_type": "code",
   "execution_count": 142,
   "id": "7e310543",
   "metadata": {},
   "outputs": [],
   "source": [
    "lr = LinearRegression()"
   ]
  },
  {
   "cell_type": "code",
   "execution_count": 143,
   "id": "5946bb37",
   "metadata": {},
   "outputs": [
    {
     "data": {
      "text/plain": [
       "LinearRegression()"
      ]
     },
     "execution_count": 143,
     "metadata": {},
     "output_type": "execute_result"
    }
   ],
   "source": [
    "lr.fit(x_train, y_train)"
   ]
  },
  {
   "cell_type": "code",
   "execution_count": 144,
   "id": "30c6c7fa",
   "metadata": {},
   "outputs": [],
   "source": [
    "train_preds = lr.predict(x_train)\n",
    "test_preds = lr.predict(x_test)"
   ]
  },
  {
   "cell_type": "code",
   "execution_count": 145,
   "id": "babb8a15",
   "metadata": {},
   "outputs": [],
   "source": [
    "train_mse = mean_squared_error(y_train, train_preds)\n",
    "test_mse = mean_squared_error(y_test, test_preds)"
   ]
  },
  {
   "cell_type": "code",
   "execution_count": 146,
   "id": "0954b11b",
   "metadata": {},
   "outputs": [
    {
     "name": "stdout",
     "output_type": "stream",
     "text": [
      "376518737.92944396 959769482.69885 0.39230121890381614\n"
     ]
    }
   ],
   "source": [
    "print(train_mse, test_mse, train_mse/test_mse)\n",
    "# train에서 오차가 매우 작음 .. => 과적합.. => 모델을 단순화.."
   ]
  },
  {
   "cell_type": "code",
   "execution_count": 147,
   "id": "512507e2",
   "metadata": {},
   "outputs": [
    {
     "name": "stdout",
     "output_type": "stream",
     "text": [
      "273\n"
     ]
    }
   ],
   "source": [
    "print(len(lr.coef_)) # 계수가 273개인 매우 복잡한 회귀모델.. => 과적합.."
   ]
  },
  {
   "cell_type": "code",
   "execution_count": 148,
   "id": "0a81e9ce",
   "metadata": {},
   "outputs": [
    {
     "data": {
      "text/plain": [
       "array([-1.06712520e+02,  7.84285056e-01,  8.26235111e+03,  5.46638138e+03,\n",
       "        2.46586141e+02,  1.19502753e+02,  2.61754110e+01,  1.66536728e+01,\n",
       "        5.09873786e+00, -1.73393558e+00,  2.00184681e+01,  1.83696277e+01,\n",
       "        3.02611117e+01, -2.46572341e+01,  2.39735010e+01,  2.31149062e+03,\n",
       "       -1.15155708e+03,  2.20712821e+03,  1.54093950e+03, -4.30186308e+03,\n",
       "       -7.81880415e+03,  2.31349623e+03,  1.95840245e+03, -2.61767682e+01,\n",
       "        2.72565622e+03,  2.80714956e+01,  1.66626798e+01,  3.62819354e+00,\n",
       "        1.04202105e+01,  2.51769590e+01,  3.69024272e+01,  4.14385527e+01,\n",
       "       -5.13810161e-01, -5.80030833e+02, -9.27035049e+01, -2.52269541e+04,\n",
       "        5.80072058e+03,  9.22728901e+03,  9.07490781e+03,  1.12403671e+03,\n",
       "       -1.60584989e+04,  1.60584989e+04, -2.41878344e+03,  1.97277140e+03,\n",
       "       -8.31305852e+02,  1.27731789e+03, -2.57483460e+03,  8.14671710e+03,\n",
       "       -1.13155939e+04,  5.74371142e+03,  2.22883622e+04, -2.22883622e+04,\n",
       "        2.69187451e+03,  1.31051557e+04, -3.52646216e+03, -1.37169259e+04,\n",
       "        1.44635791e+03,  1.28244623e+04,  1.98012068e+04, -3.26256691e+04,\n",
       "       -8.18614472e+02,  8.73351041e+03,  5.81137701e+03,  6.35155961e+02,\n",
       "       -4.92865467e+03, -9.30965540e+03,  1.13662097e+04, -1.76979330e+04,\n",
       "       -6.70595158e+03, -6.59966735e+03,  1.99225709e+03, -1.92696056e+04,\n",
       "       -1.41460571e+04,  1.20151676e+04, -1.62424615e+04,  2.13074570e+04,\n",
       "        2.07557336e+04, -7.51453245e+03, -4.52889068e+03, -8.13217062e+03,\n",
       "       -1.58151582e+03,  1.01582967e+04,  3.79422664e+04, -9.88046248e+03,\n",
       "       -3.36125876e+03, -7.87057354e+03, -3.27535880e+03,  7.01452130e+03,\n",
       "        1.03435037e+04,  8.81574243e+03, -2.33090924e+04, -1.10378110e+03,\n",
       "        6.58068569e+03,  2.80435266e+03,  3.66086563e+04,  3.37513468e+04,\n",
       "        3.41167031e+04,  7.27596717e+04, -1.94421706e+05, -6.10416577e+04,\n",
       "        3.34541914e+04,  4.47727946e+04,  7.18292032e+03,  9.63900083e+03,\n",
       "       -4.94488741e+03, -7.12473911e+03, -4.75229462e+03, -1.54928554e+02,\n",
       "        5.86969374e+03,  2.67197602e+03, -1.41209711e+04,  5.38552077e+03,\n",
       "       -3.29017083e+03, -3.26297914e+02,  3.96517785e+03, -2.27761355e+04,\n",
       "       -1.47442049e+04, -1.16415493e+04, -1.35235881e+04,  9.24520302e+02,\n",
       "        6.17609575e+04, -5.58627468e+05,  6.29805229e+04,  1.42531220e+05,\n",
       "        1.19172496e+05,  5.14154866e+04,  6.98966032e+04,  5.03152924e+04,\n",
       "        6.23158464e+04,  1.21699508e+04, -8.72915685e+03,  1.43642792e+03,\n",
       "        1.46455114e+04,  3.41970008e-10, -1.18659153e+04, -3.99518335e+03,\n",
       "       -6.82378868e+03,  2.45215814e+02, -6.10432007e+02,  3.55433549e+04,\n",
       "       -6.12657850e+03, -3.02531781e+03, -1.34195238e+04, -9.44456452e+03,\n",
       "       -2.98654757e+03,  5.83450889e+03, -1.95957528e+03,  7.12548311e+03,\n",
       "       -1.27329258e-10,  1.50838215e+04,  2.38246412e+03,  1.41186303e+02,\n",
       "        3.62950226e+03, -2.89482027e+04,  7.05873458e+02, -3.48599484e+04,\n",
       "        8.11959234e+03,  7.55461173e+03,  1.28428522e+04,  5.33437796e+03,\n",
       "        3.60431337e+03,  1.32270962e+04,  1.56006534e+04,  1.32571994e+04,\n",
       "        1.11914064e+04,  4.33782198e+03, -7.70732477e+03, -7.82190358e+03,\n",
       "        3.29510911e+02, -1.45013349e+03,  1.24565986e+03, -1.81898940e-10,\n",
       "       -1.25037281e+02, -2.17240872e+03,  5.90189743e+02,  2.75143405e+03,\n",
       "       -3.91388795e+03,  2.39403952e+04, -2.11957223e+04,  2.75035769e+03,\n",
       "       -1.39767875e+04, -1.34419051e+04, -1.27947649e+04, -2.63383679e+04,\n",
       "       -2.89510210e+04,  4.17368466e+04, -2.39105574e+04,  1.03689013e+04,\n",
       "        2.67423827e+04,  7.73253714e+03,  5.57718011e+03, -7.89090357e+03,\n",
       "       -5.65752075e+03, -2.58798171e+03, -9.54212026e+03, -6.95268687e+03,\n",
       "       -4.83188659e+03,  3.41849358e+04,  1.76954849e+04,  2.92551494e+04,\n",
       "        1.82294673e+04,  2.50736027e+04,  2.31496805e+04, -5.73302329e+00,\n",
       "        4.15742842e+03, -1.82514631e+02, -5.39140319e+03, -3.10439210e+04,\n",
       "        3.24661434e+04,  1.93235605e+03,  1.89009575e+03, -3.67307901e+03,\n",
       "       -9.39053280e-11, -1.49372792e+02, -1.02608773e+03,  1.02608773e+03,\n",
       "       -1.36509738e+04, -1.74130685e+04,  3.38215978e+03, -6.32193772e+04,\n",
       "       -1.86963046e+04,  1.03657777e+04, -4.47874693e+02, -5.41755701e+03,\n",
       "       -4.50034598e+03,  9.65414121e+03, -2.84820106e+03,  1.28150707e+04,\n",
       "        1.36090984e+04,  3.54993484e+02, -5.30491809e+04,  1.94640782e+04,\n",
       "       -1.96392653e+04, -3.45971818e+03, -2.39488720e+02, -2.00450950e+03,\n",
       "        1.07941011e+04, -1.99384815e+03, -4.96737349e+03, -7.21850376e+03,\n",
       "       -4.35685152e+03,  1.43126724e+05, -4.12519873e+04, -3.13120958e+04,\n",
       "       -5.27422846e+04, -3.43630850e+04, -1.47225806e+05,  2.86547401e+04,\n",
       "        2.92471134e+04,  4.48580514e+04,  2.79231723e+04, -9.60834417e+02,\n",
       "       -6.74984828e+02,  1.63581924e+03, -6.76253423e+03, -3.76272719e+03,\n",
       "       -5.12299663e+02, -8.63494057e+03, -1.51792249e+04,  1.34914399e+04,\n",
       "       -7.19298653e+03, -6.25263188e+01, -8.95975232e+03, -1.86932729e+04,\n",
       "        3.04125165e+04,  2.04003077e+04, -1.42165012e+04, -3.94469342e+03,\n",
       "        1.46610833e+04,  1.09326113e+04,  2.19625533e+01,  2.84309513e+03,\n",
       "       -2.45140589e+04])"
      ]
     },
     "execution_count": 148,
     "metadata": {},
     "output_type": "execute_result"
    }
   ],
   "source": [
    "lr.coef_"
   ]
  },
  {
   "cell_type": "code",
   "execution_count": null,
   "id": "b0da45d9",
   "metadata": {},
   "outputs": [],
   "source": []
  },
  {
   "cell_type": "code",
   "execution_count": 149,
   "id": "c57d94a7",
   "metadata": {},
   "outputs": [],
   "source": [
    "# 희귀모델의 과적합 해소\n",
    "\n",
    "# 1. 변수의 수를 줄인다.,\n",
    "# 2. 계수의 값을 작게 만든다.."
   ]
  },
  {
   "cell_type": "code",
   "execution_count": null,
   "id": "aa89a2d8",
   "metadata": {},
   "outputs": [],
   "source": []
  },
  {
   "cell_type": "code",
   "execution_count": 150,
   "id": "328ee46d",
   "metadata": {},
   "outputs": [],
   "source": [
    "from sklearn.linear_model import Ridge, Lasso"
   ]
  },
  {
   "cell_type": "code",
   "execution_count": 154,
   "id": "d7a6fcca",
   "metadata": {},
   "outputs": [
    {
     "name": "stdout",
     "output_type": "stream",
     "text": [
      "764787449.9267906 1365996209.5964782 0.5598752357832035\n"
     ]
    }
   ],
   "source": [
    "rid =  Ridge(alpha=100)\n",
    "rid.fit(x_train, y_train)\n",
    "rid_train_preds = rid.predict(x_train)\n",
    "rid_test_preds = rid.predict(x_test)\n",
    "\n",
    "\n",
    "rid_train_mse = mean_squared_error(y_train, rid_train_preds)\n",
    "rid_test_mse = mean_squared_error(y_test, rid_test_preds)\n",
    "\n",
    "print(rid_train_mse, rid_test_mse, rid_train_mse/rid_test_mse)"
   ]
  },
  {
   "cell_type": "code",
   "execution_count": 155,
   "id": "b0686cb5",
   "metadata": {},
   "outputs": [
    {
     "name": "stdout",
     "output_type": "stream",
     "text": [
      "764787449.9267906 1365996209.5964782 0.5598752357832035\n"
     ]
    }
   ],
   "source": [
    "las =  Lasso(alpha=100)\n",
    "las.fit(x_train, y_train)\n",
    "las_train_preds = rid.predict(x_train)\n",
    "las_test_preds = rid.predict(x_test)\n",
    "\n",
    "\n",
    "las_train_mse = mean_squared_error(y_train, rid_train_preds)\n",
    "las_test_mse = mean_squared_error(y_test, rid_test_preds)\n",
    "\n",
    "print(las_train_mse, las_test_mse, las_train_mse/las_test_mse)"
   ]
  },
  {
   "cell_type": "code",
   "execution_count": null,
   "id": "115abaf2",
   "metadata": {},
   "outputs": [],
   "source": []
  },
  {
   "cell_type": "code",
   "execution_count": 157,
   "id": "6dcb8b4c",
   "metadata": {},
   "outputs": [],
   "source": [
    "from sklearn.metrics import r2_score"
   ]
  },
  {
   "cell_type": "code",
   "execution_count": 164,
   "id": "711303fe",
   "metadata": {},
   "outputs": [
    {
     "name": "stdout",
     "output_type": "stream",
     "text": [
      "0.4228183918020867\n",
      "-----------------------\n",
      "0.5602743920723455\n",
      "-----------------------\n",
      "0.5874744017272224\n",
      "-----------------------\n",
      "0.6028609330814199\n",
      "-----------------------\n",
      "0.613564064152594\n",
      "-----------------------\n",
      "0.6217824646919533\n",
      "-----------------------\n",
      "0.6284507967062795\n",
      "-----------------------\n",
      "0.6340486477685005\n",
      "-----------------------\n",
      "0.6388557746581736\n",
      "-----------------------\n",
      "0.6430511766240334\n",
      "-----------------------\n"
     ]
    }
   ],
   "source": [
    "train_acc = []\n",
    "test_acc = []\n",
    "for a in np.arrage(1, 1000, 100):\n",
    "    rid = Ridge(alpha=a)\n",
    "    rid.fit(x_train, y_train)\n",
    "\n",
    "    rid_train_preds = rid.predict(x_train)\n",
    "    rid_test_preds = rid.predict(x_test)\n",
    "\n",
    "\n",
    "    rid_train_mse = mean_squared_error(y_train, rid_train_preds)\n",
    "    rid_test_mse = mean_squared_error(y_test, rid_test_preds)\n",
    "    \n",
    "    train_acc.append(r2_score(y_train, rid_train_preds))\n",
    "    test_acc.append(r2_score(y_test, rid_test_preds))\n",
    "    print(rid_train_mse/rid_test_mse)\n",
    "    print('-----------------------')"
   ]
  },
  {
   "cell_type": "code",
   "execution_count": 165,
   "id": "429df9ca",
   "metadata": {},
   "outputs": [
    {
     "data": {
      "text/plain": [
       "[<matplotlib.lines.Line2D at 0x20b9af1d430>]"
      ]
     },
     "execution_count": 165,
     "metadata": {},
     "output_type": "execute_result"
    },
    {
     "data": {
      "image/png": "[encoded data removed]",
      "text/plain": [
       "<Figure size 432x288 with 1 Axes>"
      ]
     },
     "metadata": {
      "needs_background": "light"
     },
     "output_type": "display_data"
    }
   ],
   "source": [
    "plt.plot(train_acc)\n",
    "plt.plot(test_acc)"
   ]
  },
  {
   "cell_type": "code",
   "execution_count": null,
   "id": "48c8ca69",
   "metadata": {},
   "outputs": [],
   "source": []
  }
 ],
 "metadata": {
  "kernelspec": {
   "display_name": "Python 3 (ipykernel)",
   "language": "python",
   "name": "python3"
  },
  "language_info": {
   "codemirror_mode": {
    "name": "ipython",
    "version": 3
   },
   "file_extension": ".py",
   "mimetype": "text/x-python",
   "name": "python",
   "nbconvert_exporter": "python",
   "pygments_lexer": "ipython3",
   "version": "3.9.7"
  }
 },
 "nbformat": 4,
 "nbformat_minor": 5
}
